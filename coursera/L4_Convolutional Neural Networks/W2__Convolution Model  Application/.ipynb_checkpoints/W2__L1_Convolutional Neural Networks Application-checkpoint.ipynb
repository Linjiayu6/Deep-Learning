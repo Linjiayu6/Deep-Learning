{
 "cells": [
  {
   "cell_type": "markdown",
   "metadata": {},
   "source": [
    "# Convolutional Neural Networks: Application\n",
    "\n",
    "- Build and train a ConvNet in TensorFlow for a classification problem"
   ]
  },
  {
   "cell_type": "markdown",
   "metadata": {},
   "source": [
    "# 1 - TensorFlow Model"
   ]
  },
  {
   "cell_type": "code",
   "execution_count": 3,
   "metadata": {},
   "outputs": [],
   "source": [
    "import math\n",
    "import numpy as np\n",
    "import matplotlib.pyplot as plt\n",
    "import tensorflow as tf\n",
    "\n",
    "import h5py\n",
    "\n",
    "%matplotlib inline\n",
    "np.random.seed(1)"
   ]
  },
  {
   "cell_type": "markdown",
   "metadata": {},
   "source": [
    "# 1.1 - Load Data, Normalize Data"
   ]
  },
  {
   "cell_type": "code",
   "execution_count": 8,
   "metadata": {},
   "outputs": [],
   "source": [
    "def load_data ():\n",
    "    train_dataset = h5py.File('data/train_signs.h5', \"r\")\n",
    "    train_X = np.array(train_dataset[\"train_set_x\"][:]) # your train set features\n",
    "    train_Y = np.array(train_dataset[\"train_set_y\"][:]) # your train set labels\n",
    "    \n",
    "    classes = np.array(train_dataset[\"list_classes\"][:]) # the list of classes\n",
    "    return train_X, train_Y, classes\n",
    "    \n",
    "(train_X, train_Y, classes) = load_data()\n",
    "\n",
    "# print(train_X.shape) # (1080, 64, 64, 3)\n",
    "# print(train_Y.shape) # (1080,)\n",
    "# print(classes) # [0 1 2 3 4 5]"
   ]
  },
  {
   "cell_type": "code",
   "execution_count": 10,
   "metadata": {},
   "outputs": [
    {
     "name": "stdout",
     "output_type": "stream",
     "text": [
      "===== y: ===== 2\n"
     ]
    },
    {
     "data": {
      "image/png": "[encoded data removed]",
      "text/plain": [
       "<Figure size 432x288 with 1 Axes>"
      ]
     },
     "metadata": {
      "needs_background": "light"
     },
     "output_type": "display_data"
    }
   ],
   "source": [
    "def show_img (index):\n",
    "    plt.imshow(train_X[index])\n",
    "    print('===== y: =====', train_Y[index])\n",
    "show_img(2)"
   ]
  },
  {
   "cell_type": "markdown",
   "metadata": {},
   "source": [
    "```python\n",
    "L = np.array([2,1,2]).T\n",
    "np.eye(4)[L]\n",
    "\n",
    "# 一行为一组数据 矩阵为 3 * 4\n",
    "# 第一行: index=2 为1\n",
    "# 第二行: index=1 为1\n",
    "# 第三行: index=1 为2\n",
    "\n",
    "[[0. 0. 1. 0.]\n",
    " [0. 1. 0. 0.]\n",
    " [0. 0. 1. 0.]]\n",
    "```\n"
   ]
  },
  {
   "cell_type": "code",
   "execution_count": 31,
   "metadata": {},
   "outputs": [
    {
     "name": "stdout",
     "output_type": "stream",
     "text": [
      "(6, 1080)\n"
     ]
    }
   ],
   "source": [
    "def normalization_data ():\n",
    "    X = train_X / 255.0\n",
    "    #  [5 0 2 5 2 ....] convert to one hot\n",
    "    # train_Y: 1080 * 1\n",
    "    # Y_soft: 1080 * 6 一行为一组数据\n",
    "    Y_soft = np.eye(len(classes))[train_Y]\n",
    "    return X, Y_soft.T\n",
    "    \n",
    "(X, Y_soft) = normalization_data()\n",
    "\n",
    "# (6, 1080)\n",
    "print(Y_soft.shape)"
   ]
  },
  {
   "cell_type": "code",
   "execution_count": null,
   "metadata": {},
   "outputs": [],
   "source": []
  },
  {
   "cell_type": "code",
   "execution_count": null,
   "metadata": {},
   "outputs": [],
   "source": []
  }
 ],
 "metadata": {
  "kernelspec": {
   "display_name": "Python 3",
   "language": "python",
   "name": "python3"
  },
  "language_info": {
   "codemirror_mode": {
    "name": "ipython",
    "version": 3
   },
   "file_extension": ".py",
   "mimetype": "text/x-python",
   "name": "python",
   "nbconvert_exporter": "python",
   "pygments_lexer": "ipython3",
   "version": "3.7.5"
  }
 },
 "nbformat": 4,
 "nbformat_minor": 4
}
