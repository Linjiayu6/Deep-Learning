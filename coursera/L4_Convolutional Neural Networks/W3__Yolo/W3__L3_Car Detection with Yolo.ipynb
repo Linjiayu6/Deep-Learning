{
 "cells": [
  {
   "cell_type": "markdown",
   "metadata": {},
   "source": [
    "# Autonomous driving - Car detection"
   ]
  },
  {
   "cell_type": "markdown",
   "metadata": {},
   "source": [
    "# 1 - Statement\n",
    "目标检测\n",
    "\n",
    "- $p_c$ 是不是这个目标\n",
    "- $b_x$ $b_y$ 目标中心\n",
    "- $b_h$ $b_w$ 目标长宽\n",
    "- $c$ 属于哪一类?\n",
    "\n",
    "\n",
    "<img src=\"https://wx1.sinaimg.cn/mw1024/701c57e5gy1gen5j500lcj20u60gu127.jpg\" style=\"width:600px;\">"
   ]
  },
  {
   "cell_type": "markdown",
   "metadata": {},
   "source": [
    "# 2. YOLO\n",
    "\n",
    "#### Inputs / Outputs\n",
    "* Model Inputs: (m, 608, 608, 3)\n",
    "* Outputs: (pc, bx, by, bh, bw, c)\n",
    "* 这里我们有80个分类 (pc, bx, by, bh, bw, c1, ....., c80) 共85个返回值\n",
    "* CNN: 缩放因子是32, 所以(608, 608, 3) => 缩放后变成608/32 = 19 => 19 * 19\n",
    "* (m, 608, 608, 3) => CNN (m, 19, 19)\n",
    "\n",
    "**简单理解为 图像经过CNN 压缩处理后, 将图像分为 19 * 19块儿, 每块儿都是 32 * 32 * 3 的压缩结果**\n",
    "\n",
    "#### Anchor Boxes\n",
    "* 解决多个对象在同一个框里的问题\n",
    "* 因为我需要对19 * 19 每一个块儿进行检查, 一块儿里面, 有5个Anchor Boxes和对应的分类检测结果\n",
    "* 这里我们 有5个Anchor Boxes 来覆盖80个种类classes\n",
    "* $(m, n_H, n_W, anchors, classes)$: $(m, 19, 19, 5, 85)$\n",
    "\n",
    "#### Process\n",
    "* image => CNN => ENCODING\n",
    "\n",
    "#### Encoding\n",
    "* Encoding去找图像边界\n",
    "* $(m, n_H, n_W, anchors, classes)$\n",
    "* 经过CNN图像处理后的尺寸是(m, 19, 19, 5, 85)\n",
    "* m个样本, 一个样本尺寸为 (19, 19, 5, 85)\n",
    "* $n_H, n_W$ 疑问: CNN后图像的尺寸吧?\n",
    "* 5: 有5个 Anchor Boxes\n",
    "* 85: 5个定位类型, 80个分类判断\n",
    "![image](https://wx1.sinaimg.cn/mw1024/701c57e5gy1gencqznpy9j21d80ti7kz.jpg)\n",
    "\n",
    "#### Flatten\n",
    "![image](https://wx1.sinaimg.cn/mw1024/701c57e5gy1gendhka776j20ye0u0k36.jpg)\n",
    "\n",
    "\n",
    "#### Class Score\n",
    "* 将图像19 * 19 其中的一个块儿, 相当于一个小图像拿出来\n",
    "* 里面有5个检测框的目标检测, 一个检测框分别对应有80分类+5个(pc, bx, by, bh, bw, c)\n",
    "* 一个检测框 box1, pc为1, 则去找对class分类概率谁最高\n",
    "![image](https://wx1.sinaimg.cn/mw1024/701c57e5gy1gendhjw4s7j215k0rwgtj.jpg)\n",
    "\n",
    "#### Picture\n",
    "![image](https://wx3.sinaimg.cn/mw1024/701c57e5gy1genfjajm6jj215w0ryb29.jpg)"
   ]
  },
  {
   "cell_type": "code",
   "execution_count": 5,
   "metadata": {
    "scrolled": true
   },
   "outputs": [],
   "source": [
    "import argparse\n",
    "import os\n",
    "import matplotlib.pyplot as plt\n",
    "from matplotlib.pyplot import imshow\n",
    "import scipy.io\n",
    "import scipy.misc\n",
    "import numpy as np\n",
    "import pandas as pd\n",
    "import PIL\n",
    "import tensorflow as tf\n",
    "from keras import backend as K\n",
    "from keras.layers import Input, Lambda, Conv2D\n",
    "from keras.models import load_model, Model\n",
    "from yolo_utils import read_classes, read_anchors, generate_colors, preprocess_image, draw_boxes, scale_boxes\n",
    "from keras_yolo import yolo_head, yolo_boxes_to_corners, preprocess_true_boxes, yolo_loss, yolo_body\n",
    "\n",
    "%matplotlib inline"
   ]
  },
  {
   "cell_type": "code",
   "execution_count": null,
   "metadata": {},
   "outputs": [],
   "source": []
  }
 ],
 "metadata": {
  "kernelspec": {
   "display_name": "Python 3",
   "language": "python",
   "name": "python3"
  },
  "language_info": {
   "codemirror_mode": {
    "name": "ipython",
    "version": 3
   },
   "file_extension": ".py",
   "mimetype": "text/x-python",
   "name": "python",
   "nbconvert_exporter": "python",
   "pygments_lexer": "ipython3",
   "version": "3.7.5"
  }
 },
 "nbformat": 4,
 "nbformat_minor": 4
}
