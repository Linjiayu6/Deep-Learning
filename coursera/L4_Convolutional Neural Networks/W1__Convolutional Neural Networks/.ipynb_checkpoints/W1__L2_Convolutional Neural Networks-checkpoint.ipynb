{
 "cells": [
  {
   "cell_type": "markdown",
   "metadata": {},
   "source": [
    "# Convolutional Neural Networks: Step by Step\n",
    "\n",
    "![image](https://pic2.zhimg.com/v2-ae8a4d6f0ded77d731f179f361254db1_b.webp)\n",
    "\n",
    "![image](https://wx3.sinaimg.cn/mw1024/701c57e5gy1gdxyi57xeuj21hs0u0gqg.jpg)"
   ]
  },
  {
   "cell_type": "code",
   "execution_count": 9,
   "metadata": {},
   "outputs": [],
   "source": [
    "import h5py\n",
    "import numpy as np\n",
    "import matplotlib.pyplot as plt\n",
    "\n",
    "%matplotlib inline\n",
    "plt.rcParams['figure.figsize'] = (5.0, 4.0) # set default size of plots\n",
    "plt.rcParams['image.interpolation'] = 'nearest'\n",
    "plt.rcParams['image.cmap'] = 'gray'\n",
    "\n",
    "%reload_ext autoreload\n",
    "%autoreload 2\n",
    "\n",
    "np.random.seed(1)"
   ]
  },
  {
   "cell_type": "markdown",
   "metadata": {},
   "source": [
    "# 1 - Backpropagation in convolutional network\n",
    "\n",
    "## 1.1 - Convolutional Layer\n"
   ]
  },
  {
   "cell_type": "code",
   "execution_count": 10,
   "metadata": {},
   "outputs": [],
   "source": [
    "def conv_backward_propogation (dJ_dZ, cache):\n",
    "    (A_prev, W, b, hyperparameters) = cache\n",
    "    # 1-1 A_prev size\n",
    "    (m, n_H_prev, n_W_prev, n_C_prev) = A_prev\n",
    "    # 1-2 filter size\n",
    "    (f, f, n_C_prev, n_C) = W.shape\n",
    "    # 1-3 hyperparameters\n",
    "    padding = hyperparameters['padding']\n",
    "    stride = hyperparameters['stride']\n",
    "    \n",
    "    # 1-4 padding\n",
    "    pad_width = ((0, 0), (padding, padding), (padding, padding), (0, 0))\n",
    "    A_prev_pad = np.pad(A_prev, pad_width, 'constant', constant_values = 0)\n",
    "    \n",
    "    # 1-5 derivatives\n",
    "    dJ_dW = np.zeros(shape = (f, f, n_C_prev, n_C))\n",
    "    dJ_db = np.zeros(shape = (1, 1, 1, n_C))\n",
    "    dJ_dA = np.zeros(shape = (m, n_H_prev, n_W_prev, n_C))\n",
    "    dJ_dA_pad = np.zeros(shape = (m, n_H_prev + 2 * padding, n_W_prev + 2 * padding, n_C))\n",
    "    \n",
    "    # 1-6 Z size\n",
    "    (m, n_H, n_W, n_C) = dJ_dZ.shape\n",
    "    \n",
    "    # 1. 当前m值\n",
    "    for _m in range(m):\n",
    "        A_prev_current = A_prev_pad[_m]\n",
    "        dJ_dA_pad_current = dJ_dA_pad[_m]\n",
    "        # 2. 列 (高)\n",
    "        for h in range(n_H):\n",
    "            # 3. 行 (宽)\n",
    "            for w in range(n_W):\n",
    "                # 4. 第几个filter = weights\n",
    "                for depth in range(n_C):\n",
    "                    w_start = stride * w\n",
    "                    w_end = stride * w + f\n",
    "                    h_start = stride * h\n",
    "                    h_end = stride * h + f\n",
    "                    \n",
    "                    # 选出要计算的filter(weights)\n",
    "                    A_slice = A_prev_current[w_start: w_end, h_start: h_end, :]\n",
    "                    # 第_m个样本, 第depth个weights, 的一小块导数\n",
    "                    dJ_dZ_slice = dJ_dZ[_m, h, w, depth]\n",
    "                    # 因为weights 和 bias都是共享的, 需要加上\n",
    "                    dJ_dW[:, :, :, depth] += dJ_dZ_slice * A_slice\n",
    "                    dJ_db[:, :, :, depth] += dJ_dZ_slice\n",
    "                    # dJ_dA\n",
    "                    dJ_dA_pad_current[w_start: w_end, h_start: h_end, :] += dJ_dZ_slice * W[:, :, :, depth]\n",
    "        # 将增加的padding 部分给删掉\n",
    "        dJ_dA[_m, :, :, :] = dJ_dA_pad_current[padding:-padding, padding:-padding, :]\n",
    "    \n",
    "    return dJ_dA, dJ_dW, dJ_db"
   ]
  },
  {
   "cell_type": "markdown",
   "metadata": {},
   "source": [
    "## 1.2 Max Pool\n",
    "\n",
    "dJ_dZ 是4个中最大的值\n",
    "\n",
    "$$ X = \\begin{bmatrix}\n",
    "1 & 3 \\\\\n",
    "2 & 6 \\\\\n",
    "\\end{bmatrix} \\quad \\rightarrow  \\quad M =\\begin{bmatrix}\n",
    "0 & 0 \\\\\n",
    "0 & 1 \\\\\n",
    "\\end{bmatrix}\\tag{4}$$"
   ]
  },
  {
   "cell_type": "code",
   "execution_count": 28,
   "metadata": {},
   "outputs": [],
   "source": [
    "def max_pool (Z_slice):\n",
    "    # 最大值输出 6\n",
    "    a_max = np.max(dJ_dZ_slice)\n",
    "    \"\"\"\n",
    "    [[False  False]\n",
    "     [False  True]]\n",
    "    \"\"\"\n",
    "    # 返回需要有导数的位置是1, 其他是0\n",
    "    return a_max == dJ_dZ_slice"
   ]
  },
  {
   "cell_type": "code",
   "execution_count": 33,
   "metadata": {},
   "outputs": [
    {
     "name": "stdout",
     "output_type": "stream",
     "text": [
      "[[False False]\n",
      " [False  True]]\n",
      "[[0.    0.   ]\n",
      " [0.    0.666]]\n"
     ]
    }
   ],
   "source": [
    "Z_slice = np.array([[1, 3], [2, 6]])\n",
    "# 什么位置是导数为1\n",
    "max_detrivatives = max_pool (Z_slice)\n",
    "print(max_detrivatives)\n",
    "dJ_dZ_slice = 0.666\n",
    "print(max_detrivatives * dJ_dZ_slice)"
   ]
  },
  {
   "cell_type": "markdown",
   "metadata": {},
   "source": [
    "## 1.3 Average Pool\n",
    "\n",
    "dJ_dZ 是4个的平均值\n",
    "\n",
    "$$ X = \\begin{bmatrix}\n",
    "1 & 3 \\\\\n",
    "2 & 6 \\\\\n",
    "\\end{bmatrix} \\quad \\rightarrow  \\quad M =\\begin{bmatrix}\n",
    "3 & 3 \\\\\n",
    "3 & 3 \\\\\n",
    "\\end{bmatrix}\\tag{4}$$"
   ]
  },
  {
   "cell_type": "code",
   "execution_count": 34,
   "metadata": {},
   "outputs": [],
   "source": [
    "def average_pool (dJ_dZ_slice, shape):\n",
    "    # 2 * 2 \n",
    "    i, j = shape\n",
    "    average = dJ_dZ_slice / (i * j)\n",
    "    \n",
    "    return np.ones(shape) * average"
   ]
  },
  {
   "cell_type": "code",
   "execution_count": 35,
   "metadata": {},
   "outputs": [
    {
     "data": {
      "text/plain": [
       "array([[0.1665, 0.1665],\n",
       "       [0.1665, 0.1665]])"
      ]
     },
     "execution_count": 35,
     "metadata": {},
     "output_type": "execute_result"
    }
   ],
   "source": [
    "average_pool(dJ_dZ_slice, (2, 2))"
   ]
  },
  {
   "cell_type": "code",
   "execution_count": null,
   "metadata": {},
   "outputs": [],
   "source": []
  }
 ],
 "metadata": {
  "kernelspec": {
   "display_name": "Python 3",
   "language": "python",
   "name": "python3"
  },
  "language_info": {
   "codemirror_mode": {
    "name": "ipython",
    "version": 3
   },
   "file_extension": ".py",
   "mimetype": "text/x-python",
   "name": "python",
   "nbconvert_exporter": "python",
   "pygments_lexer": "ipython3",
   "version": "3.7.5"
  }
 },
 "nbformat": 4,
 "nbformat_minor": 4
}
