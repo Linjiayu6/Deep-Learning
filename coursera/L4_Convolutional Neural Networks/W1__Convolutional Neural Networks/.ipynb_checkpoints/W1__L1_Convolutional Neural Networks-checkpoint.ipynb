{
 "cells": [
  {
   "cell_type": "markdown",
   "metadata": {},
   "source": [
    "# Convolutional Neural Networks: Step by Step\n",
    "\n",
    "Implement convolutional and pooling layers in numpy"
   ]
  },
  {
   "cell_type": "code",
   "execution_count": 59,
   "metadata": {},
   "outputs": [],
   "source": [
    "import h5py\n",
    "import numpy as np\n",
    "import matplotlib.pyplot as plt\n",
    "\n",
    "%matplotlib inline\n",
    "plt.rcParams['figure.figsize'] = (5.0, 4.0) # set default size of plots\n",
    "plt.rcParams['image.interpolation'] = 'nearest'\n",
    "plt.rcParams['image.cmap'] = 'gray'\n",
    "\n",
    "%reload_ext autoreload\n",
    "%autoreload 2\n",
    "\n",
    "np.random.seed(1)"
   ]
  },
  {
   "cell_type": "markdown",
   "metadata": {},
   "source": [
    "# 1 - Outline of the Assignment\n",
    "\n",
    "![image](https://wx1.sinaimg.cn/mw1024/701c57e5gy1gdr7xpxomsj20xk0bejtc.jpg)\n",
    "\n",
    "```html\n",
    "Convolution functions, including:\n",
    "    Zero Padding\n",
    "    Convolve window\n",
    "    Convolution forward\n",
    "    Convolution backward (optional)\n",
    "\n",
    "Pooling functions, including:\n",
    "    Pooling forward\n",
    "    Create mask\n",
    "    Distribute value\n",
    "    Pooling backward (optional)\n",
    "```"
   ]
  },
  {
   "cell_type": "markdown",
   "metadata": {},
   "source": [
    "# 2 - Convolutional Neural Networks\n",
    "\n",
    "![image](https://wx4.sinaimg.cn/mw690/701c57e5gy1gdrb9jlb1wj20qe0d63z3.jpg)"
   ]
  },
  {
   "cell_type": "markdown",
   "metadata": {},
   "source": [
    "## 2.1 - Zero Padding\n",
    "\n",
    "Add zeros around the border of an image\n",
    "![image](https://wx1.sinaimg.cn/mw690/701c57e5gy1gdrb9kp5mhj20vw0qan55.jpg)\n",
    "\n",
    "\n",
    "Benefits:\n",
    "- use a CONV Layer **without shrinking** the height and width\n",
    "- **keep more information at the border** of an image\n",
    "\n",
    "Exercise:\n",
    "- [np.pad](https://docs.scipy.org/doc/numpy/reference/generated/numpy.pad.html)\n"
   ]
  },
  {
   "cell_type": "code",
   "execution_count": 60,
   "metadata": {},
   "outputs": [
    {
     "name": "stdout",
     "output_type": "stream",
     "text": [
      "[[1.]]\n",
      "[[0. 0. 1. 0.]\n",
      " [0. 0. 0. 0.]\n",
      " [0. 0. 0. 0.]\n",
      " [0. 0. 0. 0.]]\n"
     ]
    }
   ],
   "source": [
    "a = np.ones(shape = (1, 1))\n",
    "print(a)\n",
    "\n",
    "# (0, 3)上不补, 下补3个\n",
    "# (2, 1)左补2个, 右补1个\n",
    "print(np.pad(a, ((0, 3), (2, 1)), 'constant', constant_values = 0))"
   ]
  },
  {
   "cell_type": "code",
   "execution_count": 61,
   "metadata": {},
   "outputs": [],
   "source": [
    "def zero_pad (X, padding):\n",
    "    \"\"\"\n",
    "    eg:\n",
    "    X.shape = 3 * 3\n",
    "    padding = 1\n",
    "    X_padding = (3 + 2) * (3 + 2) = 5 * 5\n",
    "    \"\"\"\n",
    "    pad_width = ((0, 0), (padding, padding), (padding, padding), (0, 0))\n",
    "    return np.pad(X, pad_width, 'constant', constant_values = 0)"
   ]
  },
  {
   "cell_type": "code",
   "execution_count": 62,
   "metadata": {},
   "outputs": [
    {
     "name": "stdout",
     "output_type": "stream",
     "text": [
      "X.shape:  (4, 3, 3, 2)\n",
      "X_pad.shape:  (4, 5, 5, 2)\n"
     ]
    },
    {
     "data": {
      "text/plain": [
       "<matplotlib.image.AxesImage at 0x121cf2f10>"
      ]
     },
     "execution_count": 62,
     "metadata": {},
     "output_type": "execute_result"
    },
    {
     "data": {
      "image/png": "[encoded data removed]",
      "text/plain": [
       "<Figure size 360x288 with 2 Axes>"
      ]
     },
     "metadata": {
      "needs_background": "light"
     },
     "output_type": "display_data"
    }
   ],
   "source": [
    "np.random.seed(1)\n",
    "X = np.random.rand(4, 3, 3, 2)\n",
    "X_pad = zero_pad(X, 1)\n",
    "print('X.shape: ', X.shape)\n",
    "print('X_pad.shape: ', X_pad.shape)\n",
    "\n",
    "fig, axarr = plt.subplots(1, 2)\n",
    "axarr[0].set_title('X')\n",
    "axarr[0].imshow(X[0,:,:,0])\n",
    "axarr[1].set_title('X_pad')\n",
    "axarr[1].imshow(X_pad[0,:,:,0])"
   ]
  },
  {
   "cell_type": "code",
   "execution_count": 70,
   "metadata": {},
   "outputs": [
    {
     "name": "stdout",
     "output_type": "stream",
     "text": [
      "[[[[1. 1.]\n",
      "   [1. 1.]\n",
      "   [1. 1.]]\n",
      "\n",
      "  [[1. 1.]\n",
      "   [1. 1.]\n",
      "   [1. 1.]]]\n",
      "\n",
      "\n",
      " [[[1. 1.]\n",
      "   [1. 1.]\n",
      "   [1. 1.]]\n",
      "\n",
      "  [[1. 1.]\n",
      "   [1. 1.]\n",
      "   [1. 1.]]]]\n"
     ]
    }
   ],
   "source": [
    "print(np.ones(shape = (2, 2, 3, 2)))"
   ]
  },
  {
   "cell_type": "markdown",
   "metadata": {},
   "source": [
    "## 2.2 - Single step of convolution\n",
    "\n",
    "![image](https://wx3.sinaimg.cn/large/701c57e5gy1gdrb9k3i2qg20em0aojsv.gif)\n",
    "\n",
    "* Weights = Filter: 3 * 3\n",
    "* a_slice_prev: 图片的某个3 * 3 区域\n",
    "\n",
    "\n",
    "```python\n",
    "np.sum(a_slice_prev * Weights + bias)\n",
    "```"
   ]
  },
  {
   "cell_type": "code",
   "execution_count": 73,
   "metadata": {},
   "outputs": [
    {
     "name": "stdout",
     "output_type": "stream",
     "text": [
      "Z: -4.051739542293802\n"
     ]
    }
   ],
   "source": [
    "def conv_single_step (a_slice_prev, W, b):\n",
    "    # s = 对应位置相乘 + b\n",
    "    s = a_slice_prev * W + b\n",
    "    Z = np.sum(s)\n",
    "    return Z\n",
    "\n",
    "np.random.seed(1)\n",
    "\n",
    "a_slice_prev = np.random.rand(3, 3, 3)\n",
    "W = np.random.randn(3, 3, 3) # Filter_size * Filter_numbers\n",
    "b = np.random.randn(1, 1, 1)\n",
    "\n",
    "print('Z:', conv_single_step (a_slice_prev, W, b))"
   ]
  },
  {
   "cell_type": "markdown",
   "metadata": {},
   "source": [
    "## 2.3 - Forward Pass\n",
    "\n",
    "$A[0:2, 0:2, :]$\n",
    "\n",
    "$A[x, y, z]$\n",
    "* x取0,1位置\n",
    "* y取0,1位置\n",
    "* z取全部\n",
    "\n",
    "![image](https://wx1.sinaimg.cn/mw1024/701c57e5gy1gds525jgrsj20s80ks76f.jpg)\n",
    "\n",
    "* `f: filter = weights`: 权重 / 过滤器 (找到图像edge)\n",
    "* `s: stride`: 移动步长\n",
    "* `p: padding`: zero padding in corner of an image\n",
    "* `n_C = number of filters you use`\n",
    "\n",
    "最后输出的图像尺寸\n",
    "$$n_H = \\frac{n_{Hprev} + 2 * p - f}{s} + 1$$\n",
    "$$n_W = \\frac{n_{Wprev} + 2 * p - f}{s} + 1$$\n",
    "$$n_C$$\n",
    "\n",
    "![image](https://wx4.sinaimg.cn/mw1024/701c57e5ly1gdq7c03q5lj216m0nkdx7.jpg)\n",
    "- 一个filter是 $f * f * n_c^{[l - 1]}$\n",
    "- 本层有$n_c^{[l]}$, filter 尺寸 * 数量 = $f * f * n_c^{[l - 1]} * n_c^{[l]}$"
   ]
  },
  {
   "cell_type": "markdown",
   "metadata": {},
   "source": [
    "![image](https://wx3.sinaimg.cn/mw1024/701c57e5gy1gds5267mvej21g00u0n3f.jpg)\n",
    "\n",
    "![image](https://wx3.sinaimg.cn/mw1024/701c57e5gy1gds525zf6uj219o0swwj0.jpg)"
   ]
  },
  {
   "cell_type": "code",
   "execution_count": 132,
   "metadata": {},
   "outputs": [],
   "source": [
    "def conv_forward (A_prev, W, b, hyperparameters):\n",
    "    # A_prev (10, 4, 4, 3)\n",
    "    (m, n_H_prev, n_W_prev, n_C_prev) = A_prev.shape\n",
    "    \n",
    "    # W: (f, f, n_C_prev)一个filter尺寸, n_C filter数量  (2, 2, 3, 8)\n",
    "    (f, f, n_C_prev, n_C) = W.shape\n",
    "\n",
    "    # hyperparameters\n",
    "    padding = hyperparameters['padding']\n",
    "    stride = hyperparameters['stride']\n",
    "    \n",
    "    # 1. OUTPUT (use int to floor)\n",
    "    n_H = int((n_H_prev + 2 * padding - f) / stride) + 1\n",
    "    n_W = int((n_W_prev + 2 * padding - f) / stride) + 1\n",
    "    \n",
    "    # 2. INIT Z\n",
    "    Z = np.ones(shape = (m, n_H, n_W, n_C))\n",
    "    \n",
    "    # 3. INIT A_prev after padding\n",
    "    # A_prev = (10, 4, 4, 3), A_prev_padding = (10, 4 + 2 * p, 4 + 2 * p, 3) = (10, 8, 8, 3)\n",
    "    A_prev_padding = zero_pad(A_prev, padding)\n",
    "    \n",
    "    # 4. Samples_number\n",
    "    for i in range(m):\n",
    "        # 4.1 - 第i个样本值\n",
    "        a_prev_padding = A_prev_padding[i] # 8 * 8 * 3\n",
    "        \n",
    "        # 4.2 - vertical axis\n",
    "        for h in range(n_H):\n",
    "            # 4.3 - horizontal axis\n",
    "            for w in range(n_W):\n",
    "                # 4.4 - filter_numbers 开始针对一个filter的计算\n",
    "                for c in range(n_C):\n",
    "                    # 4.5 选块\n",
    "                    vertical_start = w * stride\n",
    "                    vertical_end = vertical_start + f\n",
    "                    horizontal_start = h * stride\n",
    "                    horizontal_end = horizontal_start + f\n",
    "                    \n",
    "                    a_slice_prev = a_prev_padding[\n",
    "                        vertical_start: vertical_end, \n",
    "                        horizontal_start: horizontal_end,\n",
    "                        :\n",
    "                    ]\n",
    "                    \n",
    "                    # 这一面filter的计算\n",
    "                    Z[i, h, w, c] = conv_single_step (a_slice_prev, W[...,c], b[...,c])    \n",
    "                    \n",
    "    return Z             "
   ]
  },
  {
   "cell_type": "code",
   "execution_count": 133,
   "metadata": {},
   "outputs": [
    {
     "name": "stdout",
     "output_type": "stream",
     "text": [
      "Z.shape:  (10, 7, 7, 8)\n"
     ]
    }
   ],
   "source": [
    "# 有10个样本, 4 * 4 * 3 图片尺寸 (n_c_prev = 3)\n",
    "# A_prev = np.random.randn(10, 4, 4, 3)\n",
    "A_prev = np.random.randn(10, 4, 4, 3)\n",
    "# f = 2 (2 * 2 * 3) (n_c = 1)\n",
    "\n",
    "W = np.random.randn(2, 2, 3, 8)\n",
    "b = np.random.randn(1, 1, 1, 8)\n",
    "hyperparameters = {\"padding\" : 2, \"stride\": 1}\n",
    "\n",
    "\"\"\"\n",
    "m: samples number (10)\n",
    "A: n_W_prev * n_H_prev * n_C_prev (4, 4, 3)\n",
    "\n",
    "f: f * f * n_C_prev (2, 2, 3)\n",
    "filters_num: n_C (8)\n",
    "\"\"\"\n",
    "\n",
    "Z = conv_forward (A_prev, W, b, hyperparameters)\n",
    "print('Z.shape: ', Z.shape)"
   ]
  },
  {
   "cell_type": "markdown",
   "metadata": {},
   "source": [
    "## 2. 3 - Forward Pooling\n",
    "\n",
    "$$ n_H = \\lfloor \\frac{n_{H_{prev}} - f}{stride} \\rfloor +1 $$\n",
    "$$ n_W = \\lfloor \\frac{n_{W_{prev}} - f}{stride} \\rfloor +1 $$\n",
    "$$ n_C = n_{C_{prev}}$$\n",
    "\n",
    "![image](https://github.com/Kulbear/deep-learning-coursera/raw/997fdb2e2db67acd45d29ae418212463a54be06d/Convolutional%20Neural%20Networks/images/max_pool1.png)"
   ]
  },
  {
   "cell_type": "code",
   "execution_count": 180,
   "metadata": {},
   "outputs": [],
   "source": [
    "def pool_forward (A_prev, hyperparameters, mode = 'max'):\n",
    "    # A_prev\n",
    "    (m, n_H_prev, n_W_prev, n_C_prev) = A_prev.shape\n",
    "    \n",
    "    # hyperparameters\n",
    "    f = hyperparameters['filter'] # f * f * n_C_prev\n",
    "    s = hyperparameters['stride']\n",
    "    \n",
    "    # output_size\n",
    "    n_H = int((n_H_prev - f) / s) + 1\n",
    "    n_W = int((n_W_prev - f) / s) + 1\n",
    "    n_C = n_C_prev\n",
    "    \n",
    "    A = np.zeros(shape = (m, n_H, n_W, n_C))\n",
    "    # 样本数\n",
    "    for i in range(m):\n",
    "        A_prev_current = A_prev[i]\n",
    "        # 一列\n",
    "        for h in range(n_H):\n",
    "            # 一行\n",
    "            for w in range(n_W):\n",
    "                # filter number\n",
    "                for c in range(n_C):\n",
    "                    w_start = w * s\n",
    "                    w_end = w_start + f\n",
    "                    h_start = h * s\n",
    "                    h_end = h_start + f\n",
    "                    # 第c个filter的区域内容\n",
    "                    # ====== 这里没有想通 ======\n",
    "                    A_prev_slice = A_prev_current[w_start: w_end, h_start: h_end, c]\n",
    "                    \n",
    "                    if mode == 'max':\n",
    "                        A[i, h, w, c] = np.max(A_prev_slice)\n",
    "                    elif mode == 'average':\n",
    "                        A[i, h, w, c] = np.mean(A_prev_slice)\n",
    "    return A"
   ]
  },
  {
   "cell_type": "code",
   "execution_count": 183,
   "metadata": {
    "scrolled": true
   },
   "outputs": [
    {
     "name": "stdout",
     "output_type": "stream",
     "text": [
      "After Pool..... (1, 2, 2, 3)\n"
     ]
    }
   ],
   "source": [
    "np.random.seed(1)\n",
    "A_prev = np.random.randn(1, 4, 4, 3)\n",
    "hyperparameters = {'stride': 2, 'filter': 2}\n",
    "A = pool_forward (A_prev, hyperparameters, mode = 'max')\n",
    "print('After Pool.....', A.shape)"
   ]
  },
  {
   "cell_type": "code",
   "execution_count": null,
   "metadata": {},
   "outputs": [],
   "source": []
  }
 ],
 "metadata": {
  "kernelspec": {
   "display_name": "Python 3",
   "language": "python",
   "name": "python3"
  },
  "language_info": {
   "codemirror_mode": {
    "name": "ipython",
    "version": 3
   },
   "file_extension": ".py",
   "mimetype": "text/x-python",
   "name": "python",
   "nbconvert_exporter": "python",
   "pygments_lexer": "ipython3",
   "version": "3.7.5"
  }
 },
 "nbformat": 4,
 "nbformat_minor": 4
}
