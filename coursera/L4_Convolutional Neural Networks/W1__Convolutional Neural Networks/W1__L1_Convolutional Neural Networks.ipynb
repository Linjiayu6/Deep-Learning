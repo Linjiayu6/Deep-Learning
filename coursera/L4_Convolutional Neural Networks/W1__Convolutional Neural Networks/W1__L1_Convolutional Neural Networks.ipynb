{
 "cells": [
  {
   "cell_type": "markdown",
   "metadata": {},
   "source": [
    "# Convolutional Neural Networks: Step by Step\n",
    "\n",
    "Implement convolutional and pooling layers in numpy"
   ]
  },
  {
   "cell_type": "code",
   "execution_count": 3,
   "metadata": {},
   "outputs": [],
   "source": [
    "import h5py\n",
    "import numpy as np\n",
    "import matplotlib.pyplot as plt\n",
    "\n",
    "%matplotlib inline\n",
    "plt.rcParams['figure.figsize'] = (5.0, 4.0) # set default size of plots\n",
    "plt.rcParams['image.interpolation'] = 'nearest'\n",
    "plt.rcParams['image.cmap'] = 'gray'\n",
    "\n",
    "%reload_ext autoreload\n",
    "%autoreload 2\n",
    "\n",
    "np.random.seed(1)"
   ]
  },
  {
   "cell_type": "markdown",
   "metadata": {},
   "source": [
    "# 1 - Outline of the Assignment\n",
    "\n",
    "![image](https://wx1.sinaimg.cn/mw1024/701c57e5gy1gdr7xpxomsj20xk0bejtc.jpg)\n",
    "\n",
    "```html\n",
    "Convolution functions, including:\n",
    "    Zero Padding\n",
    "    Convolve window\n",
    "    Convolution forward\n",
    "    Convolution backward (optional)\n",
    "\n",
    "Pooling functions, including:\n",
    "    Pooling forward\n",
    "    Create mask\n",
    "    Distribute value\n",
    "    Pooling backward (optional)\n",
    "```"
   ]
  },
  {
   "cell_type": "markdown",
   "metadata": {},
   "source": [
    "# 2 - Convolutional Neural Networks\n",
    "\n",
    "![image](https://wx4.sinaimg.cn/mw690/701c57e5gy1gdrb9jlb1wj20qe0d63z3.jpg)"
   ]
  },
  {
   "cell_type": "markdown",
   "metadata": {},
   "source": [
    "## 2.1 - Zero Padding\n",
    "\n",
    "Add zeros around the border of an image\n",
    "![image](https://wx1.sinaimg.cn/mw690/701c57e5gy1gdrb9kp5mhj20vw0qan55.jpg)\n",
    "\n",
    "\n",
    "Benefits:\n",
    "- use a CONV Layer **without shrinking** the height and width\n",
    "- **keep more information at the border** of an image\n",
    "\n",
    "Exercise:\n",
    "- [np.pad](https://docs.scipy.org/doc/numpy/reference/generated/numpy.pad.html)\n"
   ]
  },
  {
   "cell_type": "code",
   "execution_count": 4,
   "metadata": {},
   "outputs": [
    {
     "name": "stdout",
     "output_type": "stream",
     "text": [
      "[[1.]]\n",
      "[[0. 0. 1. 0.]\n",
      " [0. 0. 0. 0.]\n",
      " [0. 0. 0. 0.]\n",
      " [0. 0. 0. 0.]]\n"
     ]
    }
   ],
   "source": [
    "a = np.ones(shape = (1, 1))\n",
    "print(a)\n",
    "\n",
    "# (0, 3)上不补, 下补3个\n",
    "# (2, 1)左补2个, 右补1个\n",
    "print(np.pad(a, ((0, 3), (2, 1)), 'constant', constant_values = 0))"
   ]
  },
  {
   "cell_type": "code",
   "execution_count": 5,
   "metadata": {},
   "outputs": [],
   "source": [
    "def zero_pad (X, padding):\n",
    "    # X.shape = (m, n_H, n_W, n_C)\n",
    "    \"\"\"\n",
    "    eg:\n",
    "    X.shape = 3 * 3\n",
    "    padding = 1\n",
    "    X_padding = (3 + 2) * (3 + 2) = 5 * 5\n",
    "    \"\"\"\n",
    "    pad_width = ((0, 0), (padding, padding), (padding, padding), (0, 0))\n",
    "    return np.pad(X, pad_width, 'constant', constant_values = 0)"
   ]
  },
  {
   "cell_type": "code",
   "execution_count": 6,
   "metadata": {},
   "outputs": [
    {
     "name": "stdout",
     "output_type": "stream",
     "text": [
      "X.shape:  (4, 3, 3, 2)\n",
      "X_pad.shape:  (4, 5, 5, 2)\n"
     ]
    },
    {
     "data": {
      "text/plain": [
       "<matplotlib.image.AxesImage at 0x1240c5690>"
      ]
     },
     "execution_count": 6,
     "metadata": {},
     "output_type": "execute_result"
    },
    {
     "data": {
      "image/png": "[encoded data removed]",
      "text/plain": [
       "<Figure size 360x288 with 2 Axes>"
      ]
     },
     "metadata": {
      "needs_background": "light"
     },
     "output_type": "display_data"
    }
   ],
   "source": [
    "np.random.seed(1)\n",
    "X = np.random.rand(4, 3, 3, 2)\n",
    "X_pad = zero_pad(X, 1)\n",
    "print('X.shape: ', X.shape)\n",
    "print('X_pad.shape: ', X_pad.shape)\n",
    "\n",
    "fig, axarr = plt.subplots(1, 2)\n",
    "axarr[0].set_title('X')\n",
    "axarr[0].imshow(X[0,:,:,0])\n",
    "axarr[1].set_title('X_pad')\n",
    "axarr[1].imshow(X_pad[0,:,:,0])"
   ]
  },
  {
   "cell_type": "code",
   "execution_count": 11,
   "metadata": {
    "scrolled": true
   },
   "outputs": [
    {
     "name": "stdout",
     "output_type": "stream",
     "text": [
      "[[1. 1.]\n",
      " [1. 1.]\n",
      " [1. 1.]]\n",
      "======\n",
      "[[[1. 1. 1. 1.]\n",
      "  [1. 1. 1. 1.]]\n",
      "\n",
      " [[1. 1. 1. 1.]\n",
      "  [1. 1. 1. 1.]]\n",
      "\n",
      " [[1. 1. 1. 1.]\n",
      "  [1. 1. 1. 1.]]]\n",
      "======\n",
      "[[[[1. 1. 1. 1. 1.]\n",
      "   [1. 1. 1. 1. 1.]\n",
      "   [1. 1. 1. 1. 1.]\n",
      "   [1. 1. 1. 1. 1.]]\n",
      "\n",
      "  [[1. 1. 1. 1. 1.]\n",
      "   [1. 1. 1. 1. 1.]\n",
      "   [1. 1. 1. 1. 1.]\n",
      "   [1. 1. 1. 1. 1.]]]\n",
      "\n",
      "\n",
      " [[[1. 1. 1. 1. 1.]\n",
      "   [1. 1. 1. 1. 1.]\n",
      "   [1. 1. 1. 1. 1.]\n",
      "   [1. 1. 1. 1. 1.]]\n",
      "\n",
      "  [[1. 1. 1. 1. 1.]\n",
      "   [1. 1. 1. 1. 1.]\n",
      "   [1. 1. 1. 1. 1.]\n",
      "   [1. 1. 1. 1. 1.]]]\n",
      "\n",
      "\n",
      " [[[1. 1. 1. 1. 1.]\n",
      "   [1. 1. 1. 1. 1.]\n",
      "   [1. 1. 1. 1. 1.]\n",
      "   [1. 1. 1. 1. 1.]]\n",
      "\n",
      "  [[1. 1. 1. 1. 1.]\n",
      "   [1. 1. 1. 1. 1.]\n",
      "   [1. 1. 1. 1. 1.]\n",
      "   [1. 1. 1. 1. 1.]]]]\n"
     ]
    }
   ],
   "source": [
    "print(np.ones(shape = (3, 2)))\n",
    "print('======')\n",
    "print(np.ones(shape = (3, 2, 4)))\n",
    "print('======')\n",
    "print(np.ones(shape = (3, 2, 4, 5)))"
   ]
  },
  {
   "cell_type": "markdown",
   "metadata": {},
   "source": [
    "## 2.2 - Single step of convolution\n",
    "\n",
    "![image](https://wx3.sinaimg.cn/large/701c57e5gy1gdrb9k3i2qg20em0aojsv.gif)\n",
    "\n",
    "* Weights = Filter: 3 * 3\n",
    "* a_slice_prev: 图片的某个3 * 3 区域\n",
    "\n",
    "\n",
    "```python\n",
    "np.sum(a_slice_prev * Weights + bias)\n",
    "```"
   ]
  },
  {
   "cell_type": "code",
   "execution_count": 73,
   "metadata": {},
   "outputs": [
    {
     "name": "stdout",
     "output_type": "stream",
     "text": [
      "Z: -4.051739542293802\n"
     ]
    }
   ],
   "source": [
    "def conv_single_step (a_slice_prev, W, b):\n",
    "    # s = 对应位置相乘 + b\n",
    "    s = a_slice_prev * W + b\n",
    "    Z = np.sum(s)\n",
    "    return Z\n",
    "\n",
    "np.random.seed(1)\n",
    "\n",
    "a_slice_prev = np.random.rand(3, 3, 3)\n",
    "W = np.random.randn(3, 3, 3) # Filter_size * Filter_numbers\n",
    "b = np.random.randn(1, 1, 1)\n",
    "\n",
    "print('Z:', conv_single_step (a_slice_prev, W, b))"
   ]
  },
  {
   "cell_type": "markdown",
   "metadata": {},
   "source": [
    "## 2.3 - Forward Pass\n",
    "\n",
    "$A[0:2, 0:2, :]$\n",
    "\n",
    "$A[x, y, z]$\n",
    "* x取0,1位置\n",
    "* y取0,1位置\n",
    "* z取全部\n",
    "\n",
    "![image](https://wx1.sinaimg.cn/mw1024/701c57e5gy1gds525jgrsj20s80ks76f.jpg)\n",
    "\n",
    "* `f: filter = weights`: 权重 / 过滤器 (找到图像edge)\n",
    "* `s: stride`: 移动步长\n",
    "* `p: padding`: zero padding in corner of an image\n",
    "* `n_C = number of filters you use`\n",
    "\n",
    "最后输出的图像尺寸\n",
    "$$n_H = \\frac{n_{Hprev} + 2 * p - f}{s} + 1$$\n",
    "$$n_W = \\frac{n_{Wprev} + 2 * p - f}{s} + 1$$\n",
    "$$n_C$$\n",
    "\n",
    "![image](https://wx4.sinaimg.cn/mw1024/701c57e5ly1gdq7c03q5lj216m0nkdx7.jpg)\n",
    "- 一个filter是 $f * f * n_c^{[l - 1]}$\n",
    "- 本层有$n_c^{[l]}$, filter 尺寸 * 数量 = $f * f * n_c^{[l - 1]} * n_c^{[l]}$"
   ]
  },
  {
   "cell_type": "markdown",
   "metadata": {},
   "source": [
    "![image](https://wx3.sinaimg.cn/mw1024/701c57e5gy1gds5267mvej21g00u0n3f.jpg)\n",
    "\n",
    "![image](https://wx3.sinaimg.cn/mw1024/701c57e5gy1gds525zf6uj219o0swwj0.jpg)\n",
    "\n",
    "![image](https://wx1.sinaimg.cn/mw1024/701c57e5gy1gduu5p7519j21hg0u0tc7.jpg)\n",
    "\n",
    "![image](https://wx2.sinaimg.cn/mw1024/701c57e5gy1gduu5qm3c8j21pi0qs774.jpg)"
   ]
  },
  {
   "cell_type": "code",
   "execution_count": 49,
   "metadata": {},
   "outputs": [],
   "source": [
    "def conv_forward_propagation (A_prev, W, b, hyperparameters):\n",
    "    # 1. SIZE OF A_prev & Weights & bias\n",
    "    # m samples, n_H列, h_W横, h_C深度(RGB)\n",
    "    (m, n_H_prev, n_W_prev, n_C_prev) = A_prev.shape # (10 4 4 3)\n",
    "    \n",
    "    # filters = weights n_f = filter numbers\n",
    "    (f, f, n_C_prev, filter_num) = W.shape # (2 2 3 8)\n",
    "    \n",
    "    # 2. hyperparameters\n",
    "    padding = hyperparameters['padding']\n",
    "    stride = hyperparameters['stride']\n",
    "    \n",
    "    # 3. pad A_prev\n",
    "    pad_width = ((0, 0), (padding, padding), (padding, padding), (0, 0))\n",
    "    A_prev_pad = np.pad(A_prev, pad_width, 'constant', constant_values = 0)\n",
    "    \n",
    "    # 4. size of Z\n",
    "    n_H = int((n_H_prev + 2 * padding - f) / stride) + 1\n",
    "    n_W = int((n_W_prev + 2 * padding - f) / stride) + 1\n",
    "    Z_OUTPUT = np.ones(shape = (m, n_H, n_W, filter_num)) # (10, 7, 7, 8)\n",
    "    \n",
    "    # 5. compute\n",
    "    # 5.1 - samples\n",
    "    for _m in range(m):\n",
    "        # 第_m个样本值\n",
    "        X = A_prev_pad[_m]\n",
    "        # 5.2 - 列\n",
    "        for i in range(n_H_prev):\n",
    "            # 5.3 - 行\n",
    "            for j in range(n_W_prev):\n",
    "                # 5.4 - 深度 (filter的数量)\n",
    "                for depth in range(filter_num):\n",
    "                    # 5.5 - 一块filter计算 (第depth块filter)\n",
    "                    \"\"\"\n",
    "                    print((start_w, end_w), (start_h, end_h))\n",
    "                    从0,1列固定, 行扫描\n",
    "                    (0, 2) (0, 2)\n",
    "                    (1, 3) (0, 2)\n",
    "                    (2, 4) (0, 2)\n",
    "                    (3, 5) (0, 2)\n",
    "                    从1,2列固定, 行扫描\n",
    "                    (0, 2) (1, 3)\n",
    "                    (1, 3) (1, 3)\n",
    "                    ...\n",
    "                    \"\"\"\n",
    "                    start_w = stride * j\n",
    "                    end_w = stride * j + f\n",
    "                    start_h = stride * i\n",
    "                    end_h = stride * i + f\n",
    "\n",
    "                    # 一个filter需要匹配的 X_slice = (2, 2, 3), 我们有 filter数量 filter_num, 要依次计算的\n",
    "                    X_slice = X[start_h: end_h, start_w: end_w, :] # (2, 2, 3)\n",
    "                    W_slice = W[:, :, :, depth] # (2, 2, 3)\n",
    "                    b_slice = b[:, :, :, depth] # (2, 2, 3)\n",
    "                    \n",
    "                    Z_slice = np.sum(X_slice * W_slice + b_slice)\n",
    "                    \n",
    "                    Z_OUTPUT[_m, i, j, depth] = Z_slice\n",
    "                    \"\"\"\n",
    "                    print((_m, i, j, depth), Z_slice)\n",
    "                    (0, 0, 0, 0) 14.637002967727645\n",
    "                    (0, 0, 0, 1) 12.599114715055327\n",
    "                    (0, 0, 0, 2) 10.89524535267526\n",
    "                    (0, 0, 0, 3) -6.533884919403175\n",
    "                    (0, 0, 0, 4) 4.00214921646181\n",
    "                    (0, 0, 0, 5) -1.457516900893595\n",
    "                    (0, 0, 0, 6) -13.450511821222593\n",
    "                    (0, 0, 0, 7) -4.907759904619583\n",
    "                    (0, 0, 1, 0) 14.637002967727645\n",
    "                    (0, 0, 1, 1) 12.599114715055327\n",
    "                    (0, 0, 1, 2) 10.89524535267526\n",
    "                    (0, 0, 1, 3) -6.533884919403175\n",
    "                    (0, 0, 1, 4) 4.00214921646181\n",
    "                    (0, 0, 1, 5) -1.457516900893595\n",
    "                    (0, 0, 1, 6) -13.450511821222593\n",
    "                    (0, 0, 1, 7) -4.907759904619583\n",
    "                    (0, 0, 2, 0) 14.637002967727645\n",
    "                    (0, 0, 2, 1) 12.599114715055327\n",
    "                    ....\n",
    "                    \"\"\"\n",
    "    cache = (A_prev, W, b, hyperparameters)\n",
    "    return Z_OUTPUT, cache\n",
    "                    "
   ]
  },
  {
   "cell_type": "code",
   "execution_count": 52,
   "metadata": {},
   "outputs": [
    {
     "name": "stdout",
     "output_type": "stream",
     "text": [
      "(10, 7, 7, 8)\n"
     ]
    }
   ],
   "source": [
    "A_prev = np.random.randn(10, 4, 4, 3)\n",
    "W = np.random.randn(2, 2, 3, 8)\n",
    "b = np.random.randn(1, 1, 1, 8)\n",
    "hyperparameters = {\"padding\" : 2, \"stride\": 1}\n",
    "\n",
    "Z_OUTPUT, cache = conv_forward_propagation (A_prev, W, b, hyperparameters)\n",
    "print(Z_OUTPUT.shape)"
   ]
  },
  {
   "cell_type": "markdown",
   "metadata": {},
   "source": [
    "## 2. 3 - Forward Pooling\n",
    "\n",
    "$$ n_H = \\lfloor \\frac{n_{H_{prev}} - f}{stride} \\rfloor +1 $$\n",
    "$$ n_W = \\lfloor \\frac{n_{W_{prev}} - f}{stride} \\rfloor +1 $$\n",
    "$$ n_C = n_{C_{prev}}$$\n",
    "\n",
    "![image](https://github.com/Kulbear/deep-learning-coursera/raw/997fdb2e2db67acd45d29ae418212463a54be06d/Convolutional%20Neural%20Networks/images/max_pool1.png)"
   ]
  },
  {
   "cell_type": "code",
   "execution_count": 70,
   "metadata": {},
   "outputs": [],
   "source": [
    "def pool_forward (A_prev, hyperparameters, mode = 'max'):\n",
    "    # A_prev\n",
    "    (m, n_H_prev, n_W_prev, n_C_prev) = A_prev.shape\n",
    "    \n",
    "    # hyperparameters\n",
    "    f = hyperparameters['filter'] # f * f * n_C_prev\n",
    "    s = hyperparameters['stride']\n",
    "\n",
    "    # output_size\n",
    "    n_H = int((n_H_prev - f) / s) + 1\n",
    "    n_W = int((n_W_prev - f) / s) + 1\n",
    "    n_C = n_C_prev\n",
    "    \n",
    "    Z_OUTPUT = np.zeros(shape = (m, n_H, n_W, n_C)) # (1 2 2 3)\n",
    "    \n",
    "    # 1. samples\n",
    "    for _m in range(m):\n",
    "        X = A_prev[_m] # (4, 4, 3)\n",
    "        # 2. 列\n",
    "        for i in range(n_H):\n",
    "            # 3. 行\n",
    "            for j in range(n_W):\n",
    "                # 4. 深度\n",
    "                for depth in range(n_C):\n",
    "                    # 5. 位置 (列, 行, 深度)\n",
    "                    start_h = i * s\n",
    "                    end_h = i * s + f\n",
    "                    start_w = j * s\n",
    "                    end_w = j * s + f\n",
    "\n",
    "                    X_slice = X[start_h: end_h, start_w: end_w, depth] # 2 * 2\n",
    "                    max_slice = np.max(X_slice)\n",
    "                    Z_OUTPUT[_m, i, j, depth] = max_slice\n",
    "                    \"\"\"\n",
    "                    print(_m, i, j, depth)\n",
    "                    长宽都先固定好, then 遍历深度\n",
    "                    === filter_num = 3 start ===\n",
    "                    0 0 0 0\n",
    "                    0 0 0 1\n",
    "                    0 0 0 2\n",
    "                    === filter_num = 3 end ===\n",
    "                    移到下一个位置, 长宽都先固定好, then 遍历深度\n",
    "                    0 0 1 0\n",
    "                    0 0 1 1\n",
    "                    0 0 1 2\n",
    "                    0 1 0 0\n",
    "                    0 1 0 1\n",
    "                    0 1 0 2\n",
    "                    0 1 1 0\n",
    "                    0 1 1 1\n",
    "                    0 1 1 2\n",
    "                    \"\"\"\n",
    "    return Z_OUTPUT, (A_prev, hyperparameters)"
   ]
  },
  {
   "cell_type": "code",
   "execution_count": 73,
   "metadata": {
    "scrolled": true
   },
   "outputs": [
    {
     "name": "stdout",
     "output_type": "stream",
     "text": [
      "After Pool..... [[[[ 1.62434536  0.86540763  1.13376944]\n",
      "   [ 1.74481176  1.46210794  0.50249434]]\n",
      "\n",
      "  [[ 0.90085595  0.2344157   1.65980218]\n",
      "   [-0.63699565  1.6924546   2.10025514]]]]\n"
     ]
    }
   ],
   "source": [
    "np.random.seed(1)\n",
    "A_prev = np.random.randn(1, 4, 4, 3)\n",
    "hyperparameters = {'stride': 2, 'filter': 2}\n",
    "\n",
    "Z_After_Pool = pool_forward (A_prev, hyperparameters, mode = 'max')\n",
    "print('After Pool.....', Z_After_Pool)"
   ]
  }
 ],
 "metadata": {
  "kernelspec": {
   "display_name": "Python 3",
   "language": "python",
   "name": "python3"
  },
  "language_info": {
   "codemirror_mode": {
    "name": "ipython",
    "version": 3
   },
   "file_extension": ".py",
   "mimetype": "text/x-python",
   "name": "python",
   "nbconvert_exporter": "python",
   "pygments_lexer": "ipython3",
   "version": "3.7.5"
  }
 },
 "nbformat": 4,
 "nbformat_minor": 4
}
