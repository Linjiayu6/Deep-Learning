{
 "cells": [
  {
   "cell_type": "markdown",
   "metadata": {},
   "source": [
    "# Keras tutorial - Emotion Detection in Images of Faces\n",
    "\n",
    "\n",
    "- Keras"
   ]
  },
  {
   "cell_type": "code",
   "execution_count": 11,
   "metadata": {},
   "outputs": [],
   "source": [
    "import numpy as np\n",
    "import h5py\n",
    "\n",
    "import matplotlib.pyplot as plt\n",
    "from matplotlib.pyplot import imshow\n",
    "\n",
    "from keras import layers\n",
    "from keras.layers import Input, Dense, Activation, ZeroPadding2D, BatchNormalization, Flatten, Conv2D\n",
    "from keras.layers import AveragePooling2D, MaxPooling2D, Dropout, GlobalMaxPooling2D, GlobalAveragePooling2D\n",
    "from keras.models import Model\n",
    "from keras.preprocessing import image\n",
    "from keras.utils import layer_utils\n",
    "from keras.utils.data_utils import get_file\n",
    "from keras.applications.imagenet_utils import preprocess_input\n",
    "\n",
    "import pydot\n",
    "from IPython.display import SVG\n",
    "from keras.utils.vis_utils import model_to_dot\n",
    "from keras.utils import plot_model\n",
    "\n",
    "import keras.backend as K\n",
    "K.set_image_data_format('channels_last')\n",
    "\n",
    "%matplotlib inline"
   ]
  },
  {
   "cell_type": "markdown",
   "metadata": {},
   "source": [
    "# 1 - Emotion Tracking\n",
    "\n",
    "Face checking is happy or not?\n",
    "\n",
    "- y = 0: unhappy / not smile\n",
    "- y = 1: happy / smile"
   ]
  },
  {
   "cell_type": "code",
   "execution_count": 47,
   "metadata": {},
   "outputs": [],
   "source": [
    "def load_dataset ():\n",
    "    train_data = h5py.File('datasets/train_happy.h5', 'r')\n",
    "    # train_data = { train_set_x, train_set_y }\n",
    "    \n",
    "    train_X = np.array(train_data['train_set_x'][:]) # (600, 64, 64, 3)\n",
    "    train_y = np.array(train_data['train_set_y'][:]) # (600, 1)\n",
    "    \n",
    "    test_data = h5py.File('datasets/test_happy.h5', 'r')\n",
    "    test_X = np.array(test_data['test_set_x'][:]) # (150, 64, 64, 3)\n",
    "    test_y = np.array(test_data['test_set_y'][:]) # (150, 1)\n",
    "    \n",
    "    # the list of classes\n",
    "    \"\"\"\n",
    "    test_data['list_classes'] 返回 <HDF5 dataset \"list_classes\": shape (2,), type \"<i8\">\n",
    "    test_data[\"list_classes\"][:] 返回 [0, 1]\n",
    "    \"\"\"\n",
    "    classes = np.array(test_data[\"list_classes\"][:]) #[0, 1]\n",
    "    train_y = train_y.reshape((1, train_y.shape[0])) # (600, 1) => (1, 600)\n",
    "    test_y = test_y.reshape((1, test_y.shape[0])) # (150, 1) => (1, 150)\n",
    "    return train_X, train_y, test_X, test_y"
   ]
  },
  {
   "cell_type": "code",
   "execution_count": 48,
   "metadata": {},
   "outputs": [],
   "source": [
    "train_X, train_y, test_X, test_y = load_dataset()"
   ]
  },
  {
   "cell_type": "code",
   "execution_count": 49,
   "metadata": {},
   "outputs": [],
   "source": [
    "# 图像处理\n",
    "X_train_norm = train_X / 255.0 # (600, 64, 64, 3)\n",
    "X_test_norm = test_X / 255.0 # (150, 64, 64, 3)\n",
    "\n",
    "# 结果处理\n",
    "Y_train = train_y.T # (600, 1)\n",
    "Y_test = test_y.T # (600, 1)"
   ]
  },
  {
   "cell_type": "code",
   "execution_count": 81,
   "metadata": {},
   "outputs": [
    {
     "name": "stdout",
     "output_type": "stream",
     "text": [
      "0 not smile\n"
     ]
    },
    {
     "data": {
      "image/png": "[encoded data removed]",
      "text/plain": [
       "<Figure size 432x288 with 1 Axes>"
      ]
     },
     "metadata": {
      "needs_background": "light"
     },
     "output_type": "display_data"
    }
   ],
   "source": [
    "index = 10\n",
    "imshow(X_train_norm[index, :, :, :])\n",
    "label = train_y[0][index]\n",
    "print(label, smile if label == 1 else 'not smile')"
   ]
  },
  {
   "cell_type": "markdown",
   "metadata": {},
   "source": [
    "# 2 - Build a model in Keras"
   ]
  },
  {
   "cell_type": "code",
   "execution_count": 108,
   "metadata": {},
   "outputs": [],
   "source": [
    "def Model (train_X):\n",
    "    # train_X 每次输入一个样本 (64 * 64 * 3)\n",
    "    \n",
    "    # 1-1 根据X.shape, 创建tensor\n",
    "    # Tensor(\"input_1:0\", shape=(None, 64, 64, 3), dtype=float32)\n",
    "    X_input = Input(shape = train_X.shape) # (64 * 64 * 3)\n",
    "    \n",
    "    # 1-2 Padding\n",
    "    # (64 * 64 * 3) => 64 * 2 * padding => (70, 70, 3)\n",
    "    X = ZeroPadding2D(padding = (3, 3))(X_input)\n",
    "    \n",
    "    # 2-1 Conv Layer\n",
    "    X = Conv2D(32, (7, 7), strides = (1, 1), padding = 'valid', name = 'CONV0')\n",
    "    # 2-2 BN\n",
    "    X = BatchNormalization(axis = 3, name = 'BN0')(X)\n",
    "    # 2-3 Relu\n",
    "    X = Activation('relu')(X)\n",
    "    \n",
    "#     # 3-1 MAXPOOL\n",
    "#     X = MaxPooling2D((2, 2), name = 'MAXPOOL')(X)\n",
    "    \n",
    "#     # 4-1 Flatten => softmax or sigmoid\n",
    "#     X = Flatten()(X)\n",
    "#     # 4-2 FC => sigmoid\n",
    "#     X = Dense(units = 1, activation = 'sigmoid', name = 'FC')(X)\n",
    "    \n",
    "#     # 5 Model\n",
    "#     model = Model(inputs = X_input, outputs = X, name = 'MODEL')\n",
    "    \n",
    "#     return model"
   ]
  },
  {
   "cell_type": "code",
   "execution_count": 107,
   "metadata": {},
   "outputs": [
    {
     "name": "stdout",
     "output_type": "stream",
     "text": [
      "Tensor(\"input_19:0\", shape=(None, 64, 64, 3), dtype=float32)\n",
      "Tensor(\"zero_padding2d_18/Pad:0\", shape=(None, 70, 70, 3), dtype=float32)\n"
     ]
    }
   ],
   "source": [
    "# 输入一个样本\n",
    "Model(X_train_norm[1])"
   ]
  },
  {
   "cell_type": "code",
   "execution_count": null,
   "metadata": {},
   "outputs": [],
   "source": []
  }
 ],
 "metadata": {
  "kernelspec": {
   "display_name": "Python 3",
   "language": "python",
   "name": "python3"
  },
  "language_info": {
   "codemirror_mode": {
    "name": "ipython",
    "version": 3
   },
   "file_extension": ".py",
   "mimetype": "text/x-python",
   "name": "python",
   "nbconvert_exporter": "python",
   "pygments_lexer": "ipython3",
   "version": "3.7.5"
  }
 },
 "nbformat": 4,
 "nbformat_minor": 4
}
