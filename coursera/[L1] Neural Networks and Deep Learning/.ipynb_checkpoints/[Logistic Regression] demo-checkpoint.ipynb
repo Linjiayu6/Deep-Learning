{
 "cells": [
  {
   "cell_type": "code",
   "execution_count": 163,
   "metadata": {},
   "outputs": [],
   "source": [
    "import numpy as np\n",
    "\n",
    "# 加载数据\n",
    "def load_data ():\n",
    "    fr = open('./data.txt')\n",
    "\n",
    "    X, y = [], []\n",
    "    for linestr in fr.readlines():\n",
    "        arr = linestr.strip().split()\n",
    "        X.append([1.0, float(arr[0]), float(arr[1])])\n",
    "        y.append([int(arr[2])])\n",
    "\n",
    "    X = np.array(X)\n",
    "    y = np.array(y)\n",
    "    \n",
    "    fr.close()\n",
    "    return X, y\n",
    "    \n",
    "X_data, y_data = load_data()\n",
    "\n",
    "X = X_data[:80]\n",
    "y = y_data[:80]\n",
    "\n",
    "test_X = X_data[80:]\n",
    "test_y = y_data[80:]"
   ]
  },
  {
   "cell_type": "code",
   "execution_count": 164,
   "metadata": {},
   "outputs": [],
   "source": [
    "# sigmoid function\n",
    "def sigmoid (z):\n",
    "    return 1 / (1 + np.exp(-z))\n",
    "\n",
    "# loss function a = h(x) = sigmoid(z) => predicting data\n",
    "def cost_fn (y, a):\n",
    "    epsilon = 1e-5\n",
    "    # return -y * log(a) - (1 - y) * log(1 - a) \n",
    "    return np.mean(- y * np.log2(a + epsilon) - (1 - y) * np.log2(1 - a + epsilon))\n",
    "\n",
    "# dloss / dz\n",
    "def dloss_dz_derivatives (y, a):\n",
    "    return y - a"
   ]
  },
  {
   "cell_type": "code",
   "execution_count": 184,
   "metadata": {},
   "outputs": [
    {
     "name": "stdout",
     "output_type": "stream",
     "text": [
      "[3.169220489745994, 0.8536751761446391, 0.6746967249226475, 0.6606572974812407, 0.6558653388073652, 0.6519910276981655, 0.6482876044244957, 0.6446743645024064, 0.6411400103623832, 0.6376809452501829, 0.6342945056285535, 0.6309782051069254, 0.6277296494568029, 0.6245465266023735, 0.6214266047226145, 0.6183677310311091, 0.6153678304490208, 0.6124249041155945, 0.6095370277544916, 0.6067023499189683, 0.6039190901373414, 0.6011855369784109, 0.59850004605486, 0.5958610379810738, 0.5932669963003049, 0.5907164653946214, 0.5882080483896686, 0.5857404050649117, 0.5833122497787546, 0.5809223494167245, 0.5785695213697973, 0.5762526315489045, 0.5739705924407107, 0.5717223612088846, 0.5695069378442984, 0.5673233633668785, 0.5651707180811965, 0.563048119887318, 0.5609547226479219, 0.5588897146122651, 0.5568523168971737, 0.5548417820249082, 0.5528573925174574, 0.550898459546573, 0.548964321638642, 0.5470543434333196, 0.5451679144947087, 0.5433044481737437, 0.5414633805203544, 0.5396441692439123]\n",
      "Train accuracy: {} % 110.96405557435106\n"
     ]
    }
   ],
   "source": [
    "# 1. z = w.T * x + b = w.T * x (x0 = 1)\n",
    "# 2. a = sigmoid(z)\n",
    "# 3. dw -= alpha * dw\n",
    "# dw = (y - a) x 或 (y - h(x)) x\n",
    "\n",
    "def train ():\n",
    "    m, n = X.shape # 100 samples, 3 features (2 features + x0 = 1)\n",
    "    alpha = 0.02\n",
    "    loop_num = 500\n",
    "    \n",
    "    # init Weights 3 * 1 [[w0], [w1], [w2]]\n",
    "    W = np.random.rand(n, 1)\n",
    "    L_arr = []\n",
    "    \n",
    "    for i in range(loop_num):\n",
    "        Z = np.dot(X, W)\n",
    "        A = sigmoid(Z)\n",
    "\n",
    "        # ***** A - y ***** 不要写成 y - A\n",
    "        dL_dw = 1 / m * np.dot(X.T, A - y)\n",
    "        W = W - alpha * dL_dw\n",
    "        \n",
    "        # evaluate\n",
    "        if (i % 10 == 0):\n",
    "            L_arr.append(cost_fn(y, sigmoid(np.dot(X, W))))\n",
    "\n",
    "    print(L_arr)\n",
    "    return W\n",
    "\n",
    "train_W = train()\n",
    "\n",
    "# 训练值\n",
    "train_y = sigmoid(np.dot(X, train_W))\n",
    "# train_accuracy = 100 - np.mean(train_y - y) * 100\n",
    "\n",
    "print(\"Train accuracy: {} %\", train_accuracy)"
   ]
  },
  {
   "cell_type": "code",
   "execution_count": 185,
   "metadata": {},
   "outputs": [
    {
     "name": "stdout",
     "output_type": "stream",
     "text": [
      "[[0.32149744]\n",
      " [0.88551685]\n",
      " [0.29412386]\n",
      " [0.51273615]\n",
      " [0.65503091]\n",
      " [0.84669685]\n",
      " [0.52585871]\n",
      " [0.15644639]\n",
      " [0.61866606]\n",
      " [0.81626727]\n",
      " [0.84775686]\n",
      " [0.17289354]\n",
      " [0.22297694]\n",
      " [0.7789005 ]\n",
      " [0.7133681 ]\n",
      " [0.7250758 ]\n",
      " [0.20793201]\n",
      " [0.67629675]\n",
      " [0.32174415]\n",
      " [0.06646688]] [[0]\n",
      " [1]\n",
      " [0]\n",
      " [1]\n",
      " [1]\n",
      " [1]\n",
      " [1]\n",
      " [0]\n",
      " [1]\n",
      " [1]\n",
      " [1]\n",
      " [0]\n",
      " [0]\n",
      " [1]\n",
      " [1]\n",
      " [1]\n",
      " [0]\n",
      " [1]\n",
      " [0]\n",
      " [0]]\n"
     ]
    }
   ],
   "source": [
    "# testing set to predict\n",
    "def test ():\n",
    "    test_A = sigmoid(np.dot(test_X, train_W))\n",
    "    print(test_A, test_y)\n",
    "    # print(\"Test accuracy: {} %\", 100 - np.mean(test_A - test_y) * 100)\n",
    "\n",
    "test()"
   ]
  },
  {
   "cell_type": "code",
   "execution_count": 162,
   "metadata": {},
   "outputs": [],
   "source": [
    "def draw ():\n",
    "    m = X.shape[0] # 样本的个数                                    \n",
    "    positive_x, positive_y = [], []\n",
    "    negative_x, negative_y = [], []\n",
    "    for i in range(m):\n",
    "        _x, _y = X[i][1], X[i][2]\n",
    "        if y[i] == 1: # 正样本\n",
    "            positive_x.append(_x)\n",
    "            positive_y.append(_y)\n",
    "        else:  #0为负样本\n",
    "            negative_x.append(_x)\n",
    "            negative_y.append(_y)\n",
    "    \n",
    "    fig = plt.figure()\n",
    "    ax = fig.add_subplot(111)\n",
    "    ax.scatter(positive_x, positive_y, s = 20, c = 'red', marker = 's',alpha=.5)\n",
    "    ax.scatter(negative_x, negative_y, s = 20, c = 'green',alpha=.5)       \n",
    "    \n",
    "    plt.title('positive: red; negative: green')                                                \n",
    "    plt.show()\n",
    "    \n",
    "# draw()"
   ]
  },
  {
   "cell_type": "code",
   "execution_count": null,
   "metadata": {},
   "outputs": [],
   "source": []
  }
 ],
 "metadata": {
  "kernelspec": {
   "display_name": "Python 3",
   "language": "python",
   "name": "python3"
  },
  "language_info": {
   "codemirror_mode": {
    "name": "ipython",
    "version": 3
   },
   "file_extension": ".py",
   "mimetype": "text/x-python",
   "name": "python",
   "nbconvert_exporter": "python",
   "pygments_lexer": "ipython3",
   "version": "3.7.5"
  }
 },
 "nbformat": 4,
 "nbformat_minor": 4
}
