{
 "cells": [
  {
   "cell_type": "markdown",
   "metadata": {},
   "source": [
    "# Tensorflow Tutorial"
   ]
  },
  {
   "cell_type": "markdown",
   "metadata": {},
   "source": [
    "# 1 - Practice"
   ]
  },
  {
   "cell_type": "code",
   "execution_count": 56,
   "metadata": {},
   "outputs": [],
   "source": [
    "import math\n",
    "import numpy as np\n",
    "import h5py\n",
    "import matplotlib.pyplot as plt\n",
    "import tensorflow as tf\n",
    "from tensorflow import keras\n",
    "\n",
    "# from tensorflow.python.framework import ops\n",
    "# from tf_utils import load_dataset, random_mini_batches, convert_to_one_hot, predict\n",
    "\n",
    "%matplotlib inline\n",
    "np.random.seed(1)"
   ]
  },
  {
   "cell_type": "markdown",
   "metadata": {},
   "source": [
    "$$cost = \\mathcal{L}(\\hat{y}, y) = (\\hat y^{(i)} - y^{(i)})^2 \\tag{1}$$"
   ]
  },
  {
   "cell_type": "code",
   "execution_count": 57,
   "metadata": {},
   "outputs": [
    {
     "name": "stdout",
     "output_type": "stream",
     "text": [
      "16\n"
     ]
    }
   ],
   "source": [
    "# 定义常量\n",
    "y_hat = tf.constant(6, name = 'y_hat')\n",
    "y = tf.constant(2, name = 'y')\n",
    "# 定义变量\n",
    "# (6 - 2) ^2 = 16\n",
    "cost = tf.Variable((y_hat - y) ** 2, name = 'cost')\n",
    "tf.print(cost)"
   ]
  },
  {
   "cell_type": "code",
   "execution_count": 58,
   "metadata": {},
   "outputs": [
    {
     "name": "stdout",
     "output_type": "stream",
     "text": [
      "tf.Tensor(12, shape=(), dtype=int32)\n",
      "12\n"
     ]
    }
   ],
   "source": [
    "c = tf.multiply(y_hat, y)\n",
    "print(c) # tf.Tensor(12, shape=(), dtype=int32)\n",
    "tf.print(c) # 12"
   ]
  },
  {
   "cell_type": "code",
   "execution_count": 59,
   "metadata": {},
   "outputs": [
    {
     "name": "stdout",
     "output_type": "stream",
     "text": [
      "tf.Tensor(6, shape=(), dtype=int32)\n"
     ]
    }
   ],
   "source": [
    "# 定义函数\n",
    "@tf.function\n",
    "def f(x):\n",
    "    return 2 * x\n",
    "\n",
    "print(f(3))"
   ]
  },
  {
   "cell_type": "markdown",
   "metadata": {},
   "source": [
    "## 1.1 - Linear Regression"
   ]
  },
  {
   "cell_type": "code",
   "execution_count": 60,
   "metadata": {},
   "outputs": [],
   "source": [
    "def linear_regression ():\n",
    "    np.random.seed(1)\n",
    "    # Y = np.dot(W.T, X) + b\n",
    "    X = np.random.randn(3, 1)\n",
    "    W = np.random.randn(3, 4)\n",
    "    b = np.random.randn(4, 1)\n",
    "    Y = tf.add(tf.matmul(W.T, X), b)\n",
    "    return Y\n",
    "    \n",
    "Y_pred = linear_regression()"
   ]
  },
  {
   "cell_type": "markdown",
   "metadata": {},
   "source": [
    "## 1.2 - Sigmoid function"
   ]
  },
  {
   "cell_type": "code",
   "execution_count": 61,
   "metadata": {},
   "outputs": [
    {
     "data": {
      "text/plain": [
       "<tf.Tensor: shape=(3, 1), dtype=float64, numpy=\n",
       "array([[0.64171493],\n",
       "       [0.2496239 ],\n",
       "       [0.75854586]])>"
      ]
     },
     "execution_count": 61,
     "metadata": {},
     "output_type": "execute_result"
    }
   ],
   "source": [
    "def sigmoid (Z):\n",
    "    # 1 / (np.exp(-Z) + 1)\n",
    "    return tf.sigmoid(Z)\n",
    "\n",
    "sigmoid(np.random.randn(3, 1))"
   ]
  },
  {
   "cell_type": "markdown",
   "metadata": {},
   "source": [
    "# 1.3 - Cost function\n",
    "\n",
    "$$ J = - \\frac{1}{m}  \\sum_{i = 1}^m  \\large ( \\small y^{(i)} \\log a^{ [2] (i)} + (1-y^{(i)})\\log (1-a^{ [2] (i)} )\\large )\\small\\tag{2}$$\n"
   ]
  },
  {
   "cell_type": "code",
   "execution_count": 62,
   "metadata": {},
   "outputs": [
    {
     "data": {
      "text/plain": [
       "<tf.Tensor: shape=(4, 1), dtype=float64, numpy=\n",
       "array([[2.40441885],\n",
       "       [0.3684111 ],\n",
       "       [5.08026603],\n",
       "       [1.35428678]])>"
      ]
     },
     "execution_count": 62,
     "metadata": {},
     "output_type": "execute_result"
    }
   ],
   "source": [
    "\"\"\"\n",
    "def cost_function (A, Y):\n",
    "    m = Y.shape[1]\n",
    "    cost = - Y * np.log(A + 1e-7) - (1 - Y) * np.log(1 - A + 1e-7)\n",
    "    return np.sum(cost) / m\n",
    "\"\"\"\n",
    "def cost_function (A, Y):\n",
    "    return tf.nn.sigmoid_cross_entropy_with_logits(A, Y)\n",
    "\n",
    "Y = tf.constant(np.random.randn(4, 1), name = 'y')\n",
    "cost_function(Y_pred, Y)"
   ]
  },
  {
   "cell_type": "markdown",
   "metadata": {},
   "source": [
    "# 1.4 - Initialize with zeros and ones\n",
    "- shape = [2, 3]\n",
    "- tf.ones(shape)\n",
    "- tf.zeros(shape)"
   ]
  },
  {
   "cell_type": "code",
   "execution_count": 63,
   "metadata": {},
   "outputs": [
    {
     "data": {
      "text/plain": [
       "(<tf.Tensor: shape=(2, 3), dtype=float32, numpy=\n",
       " array([[1., 1., 1.],\n",
       "        [1., 1., 1.]], dtype=float32)>,\n",
       " <tf.Tensor: shape=(2, 3), dtype=float32, numpy=\n",
       " array([[0., 0., 0.],\n",
       "        [0., 0., 0.]], dtype=float32)>)"
      ]
     },
     "execution_count": 63,
     "metadata": {},
     "output_type": "execute_result"
    }
   ],
   "source": [
    "def initialize_zeros_ones (shape):\n",
    "    ones = tf.ones(shape)\n",
    "    zeros = tf.zeros(shape)\n",
    "    return ones, zeros\n",
    "\n",
    "initialize_zeros_ones([2, 3])"
   ]
  },
  {
   "cell_type": "markdown",
   "metadata": {},
   "source": [
    "## 1.5 - One Hot encodings (softmax)\n",
    "\n",
    "![image](https://github.com/Kulbear/deep-learning-coursera/raw/997fdb2e2db67acd45d29ae418212463a54be06d/Improving%20Deep%20Neural%20Networks%20Hyperparameter%20tuning,%20Regularization%20and%20Optimization/images/onehot.png)\n",
    "\n",
    "例如列表有[1, 2, 0] 三个数字, 形成矩阵为\n",
    "- 1: [0, 1, 0].T\n",
    "- 2: [0, 0, 1].T\n",
    "- 0: [1, 0, 0].T\n",
    "\n",
    "\n",
    "```python\n",
    "# one-hot方式, 有C列, 每列填1的值, 是[....] 数组决定\n",
    "np.eye(C)[.....]\n",
    "```\n",
    "\n",
    "```python\n",
    "# TF\n",
    "tf.one_hot(indices = Y, depth = C, axis = 0)\n",
    "```"
   ]
  },
  {
   "cell_type": "code",
   "execution_count": 64,
   "metadata": {},
   "outputs": [
    {
     "name": "stdout",
     "output_type": "stream",
     "text": [
      "testOnes:  [[1. 1.]\n",
      " [1. 1.]\n",
      " [1. 1.]]\n",
      "reshape(-1):  [1. 1. 1. 1. 1. 1.]\n",
      "reshape(-1, 1):  [[1.]\n",
      " [1.]\n",
      " [1.]\n",
      " [1.]\n",
      " [1.]\n",
      " [1.]]\n",
      "reshape(-1, 3):  [[1. 1. 1.]\n",
      " [1. 1. 1.]]\n"
     ]
    }
   ],
   "source": [
    "\"\"\"\n",
    "reshape(m, n) \n",
    "根据现在的矩阵, 重新将矩阵变成 m列n行\n",
    "-1 懒得计算填写, python自己推算吧\n",
    "\"\"\"\n",
    "testOnes = np.ones(shape = (3, 2))\n",
    "print('testOnes: ', testOnes)\n",
    "print('reshape(-1): ', testOnes.reshape(-1))\n",
    "print('reshape(-1, 1): ', testOnes.reshape(-1, 1))\n",
    "print('reshape(-1, 3): ', testOnes.reshape(-1, 3))"
   ]
  },
  {
   "cell_type": "code",
   "execution_count": 65,
   "metadata": {},
   "outputs": [],
   "source": [
    "def convert_to_one_hot (Y, C):\n",
    "    return np.eye(C)[Y.reshape(-1)].T\n",
    "\n",
    "def convert_to_one_hot_TF(Y, C):\n",
    "    one_hot_matrix = tf.one_hot(indices = Y, depth = C, axis = 0)\n",
    "    return one_hot_matrix"
   ]
  },
  {
   "cell_type": "code",
   "execution_count": 66,
   "metadata": {},
   "outputs": [
    {
     "name": "stdout",
     "output_type": "stream",
     "text": [
      "[[0. 0. 1. 0. 0.]\n",
      " [1. 0. 0. 1. 0.]\n",
      " [0. 1. 0. 0. 0.]\n",
      " [0. 0. 0. 0. 1.]]\n"
     ]
    }
   ],
   "source": [
    "Y = np.array([1, 2, 0, 1, 3])\n",
    "C = 4\n",
    "\n",
    "print(convert_to_one_hot(Y, C))"
   ]
  },
  {
   "cell_type": "code",
   "execution_count": 67,
   "metadata": {},
   "outputs": [
    {
     "name": "stdout",
     "output_type": "stream",
     "text": [
      "tf.Tensor(\n",
      "[[0. 0. 1. 0. 0.]\n",
      " [1. 0. 0. 1. 0.]\n",
      " [0. 1. 0. 0. 0.]\n",
      " [0. 0. 0. 0. 1.]], shape=(4, 5), dtype=float32)\n"
     ]
    }
   ],
   "source": [
    "print(convert_to_one_hot_TF(Y, C))"
   ]
  },
  {
   "cell_type": "markdown",
   "metadata": {},
   "source": [
    "# 2 - Building NN in TF\n",
    "\n",
    "## 2.1 - Load Data"
   ]
  },
  {
   "cell_type": "code",
   "execution_count": 68,
   "metadata": {},
   "outputs": [],
   "source": [
    "def load_dataset():\n",
    "    train_dataset = h5py.File('data/train_signs.h5', \"r\")\n",
    "    train_set_x_orig = np.array(train_dataset[\"train_set_x\"][:]) # your train set features\n",
    "    train_set_y_orig = np.array(train_dataset[\"train_set_y\"][:]) # your train set labels\n",
    " \n",
    "    test_dataset = h5py.File('data/test_signs.h5', \"r\")\n",
    "    test_set_x_orig = np.array(test_dataset[\"test_set_x\"][:]) # your test set features\n",
    "    test_set_y_orig = np.array(test_dataset[\"test_set_y\"][:]) # your test set labels\n",
    " \n",
    "    classes = np.array(test_dataset[\"list_classes\"][:]) # the list of classes\n",
    "    \n",
    "    train_set_y_orig = train_set_y_orig.reshape((1, train_set_y_orig.shape[0]))\n",
    "    test_set_y_orig = test_set_y_orig.reshape((1, test_set_y_orig.shape[0]))\n",
    "    \n",
    "    return train_set_x_orig, train_set_y_orig, test_set_x_orig, test_set_y_orig, classes"
   ]
  },
  {
   "cell_type": "code",
   "execution_count": 69,
   "metadata": {},
   "outputs": [],
   "source": [
    "X_train_orig, Y_train_orig, X_test_orig, Y_test_orig, classes = load_dataset()"
   ]
  },
  {
   "cell_type": "code",
   "execution_count": 70,
   "metadata": {},
   "outputs": [
    {
     "name": "stdout",
     "output_type": "stream",
     "text": [
      "(12288, 1080)\n",
      "(6, 1080)\n"
     ]
    }
   ],
   "source": [
    "def handle_data (X_train_orig, Y_train_orig, X_test_orig, Y_test_orig):\n",
    "    # X flatten\n",
    "    X_train_flatten = X_train_orig.reshape(X_train_orig.shape[0], -1).T\n",
    "    X_test_flatten = X_test_orig.reshape(X_test_orig.shape[0], -1).T\n",
    "\n",
    "    X_train_flatten = X_train_flatten / 255.\n",
    "    X_test_flatten = X_test_flatten / 255.\n",
    "    \n",
    "    # Y softmax\n",
    "    # [1, 2, 0] => softmax 变换\n",
    "    Y_train = convert_to_one_hot(Y_train_orig, 6)\n",
    "    Y_test = convert_to_one_hot(Y_test_orig, 6)\n",
    "    \n",
    "    return X_train_flatten, X_test_flatten, Y_train, Y_test\n",
    "\n",
    "X_train_flatten, X_test_flatten, Y_train, Y_test = handle_data (X_train_orig, Y_train_orig, X_test_orig, Y_test_orig)\n",
    "\n",
    "print(X_train_flatten.shape) # (12288, 1080)\n",
    "print(Y_train.shape) # (6, 1080)\n"
   ]
  },
  {
   "cell_type": "code",
   "execution_count": 71,
   "metadata": {},
   "outputs": [
    {
     "name": "stdout",
     "output_type": "stream",
     "text": [
      "Y:  2\n",
      "Y_train[:. index]:  [0. 0. 1. 0. 0. 0.]\n"
     ]
    },
    {
     "data": {
      "image/png": "[encoded data removed]",
      "text/plain": [
       "<Figure size 432x288 with 1 Axes>"
      ]
     },
     "metadata": {
      "needs_background": "light"
     },
     "output_type": "display_data"
    }
   ],
   "source": [
    "index = 6\n",
    "plt.imshow(X_train_orig[index])\n",
    "print('Y: ', np.squeeze(Y_train_orig[:, index]))\n",
    "print('Y_train[:. index]: ', Y_train[:, index])"
   ]
  },
  {
   "cell_type": "markdown",
   "metadata": {},
   "source": [
    "## 2.2 - Initializing parameters"
   ]
  },
  {
   "cell_type": "code",
   "execution_count": 72,
   "metadata": {},
   "outputs": [],
   "source": [
    "features = X_train_flatten.shape[0]\n",
    "# softmax 输出6个数字\n",
    "Layers = np.array([features, 25, 12, 6])"
   ]
  },
  {
   "cell_type": "code",
   "execution_count": 73,
   "metadata": {},
   "outputs": [],
   "source": [
    "def init_parameters (Layers):\n",
    "    np.random.seed(1)\n",
    "    \n",
    "    l_input = Layers[0]\n",
    "    l_hidden_1 = Layers[1]\n",
    "    l_hidden_2 = Layers[2]\n",
    "    l_output = Layers[3]\n",
    "\n",
    "    # 以TF方式 输出这些parameters\n",
    "    W1 = tf.Variable(np.random.randn(l_input, l_hidden_1))\n",
    "    b1 = tf.Variable(np.zeros(shape = (l_hidden_1, 1)))\n",
    "    \n",
    "    W2 = tf.Variable(np.random.randn(l_hidden_1, l_hidden_2))\n",
    "    b2 = tf.Variable(np.zeros(shape = (l_hidden_2, 1)))\n",
    "    \n",
    "    W3 = tf.Variable(np.random.randn(l_hidden_2, l_output))\n",
    "    b3 = tf.Variable(np.zeros(shape = (l_output, 1)))\n",
    "    \n",
    "    parameters = {\n",
    "        \"W1\": W1,\n",
    "        \"b1\": b1,\n",
    "        \"W2\": W2,\n",
    "        \"b2\": b2,\n",
    "        \"W3\": W3,\n",
    "        \"b3\": b3\n",
    "    }\n",
    "    return parameters\n"
   ]
  },
  {
   "cell_type": "code",
   "execution_count": 74,
   "metadata": {},
   "outputs": [],
   "source": [
    "parameters = init_parameters (Layers)"
   ]
  },
  {
   "cell_type": "markdown",
   "metadata": {},
   "source": [
    "## 2.3 - Forward Propagation\n",
    "\n",
    "- tf.transpose(W)\n",
    "- tf.nn.relu(Z)\n",
    "\n",
    "- tf.matmul(W.T, X)\n",
    "- tf.add(XX, b)\n"
   ]
  },
  {
   "cell_type": "code",
   "execution_count": 75,
   "metadata": {},
   "outputs": [],
   "source": [
    "def forward_propagation (X, parameters):\n",
    "    p = parameters\n",
    "    W1 = p['W1']\n",
    "    b1 = p['b1']\n",
    "    \n",
    "    W2 = p['W2']\n",
    "    b2 = p['b2']\n",
    "    \n",
    "    W3 = p['W3']\n",
    "    b3 = p['b3']\n",
    "    \n",
    "    # np.dot(W.T, X) + b\n",
    "    Z1 = np.dot(tf.transpose(W1), X) + b1\n",
    "    A1 = tf.nn.relu(Z1)\n",
    "    \n",
    "    Z2 = np.dot(tf.transpose(W2), A1) + b2\n",
    "    A2 = tf.nn.relu(Z2)\n",
    "    \n",
    "    # tf.add(tf.matmul(tf.transpose(W3), A2), b3)\n",
    "    Z3 = np.dot(tf.transpose(W3), A2) + b3\n",
    "\n",
    "    return Z3"
   ]
  },
  {
   "cell_type": "code",
   "execution_count": 76,
   "metadata": {},
   "outputs": [
    {
     "name": "stdout",
     "output_type": "stream",
     "text": [
      "tf.Tensor(\n",
      "[[-321.63048498 -408.61544615 -431.74897472 ... -437.81962796\n",
      "  -336.68337789 -396.6043488 ]\n",
      " [ 292.15201455  382.96857748  158.35656135 ...  378.89846808\n",
      "   145.15841231  169.23050794]\n",
      " [ -23.36163251 -171.14646118  -16.08087056 ... -136.25647004\n",
      "   -76.70290991 -148.35155579]\n",
      " [ 360.64011526  522.45586139  443.66849071 ...  490.68539838\n",
      "   304.41858068  498.33545174]\n",
      " [-161.09857581   90.26277934  -76.06305442 ... -130.01766264\n",
      "   -32.36013901   17.53737039]\n",
      " [ 587.99965695  653.84162298  944.88428597 ...  854.73892442\n",
      "   713.22366361  800.53031744]], shape=(6, 1080), dtype=float64)\n"
     ]
    }
   ],
   "source": [
    "Z3 = forward_propagation(X_train_flatten, parameters)\n",
    "print(Z3)"
   ]
  },
  {
   "cell_type": "markdown",
   "metadata": {},
   "source": [
    "## 2.4 - Cost Function\n",
    "\n",
    "- tf.nn.sigmoid_cross_entropy_with_logits(A, Y)\n",
    "- tf.reduce_mean(A, axis = 0) 按列求平均值\n",
    "- tf.reduce_mean(A, axis = 1) 按行求平均值\n",
    "- tf.reduce_mean(A) 整体求平均值"
   ]
  },
  {
   "cell_type": "code",
   "execution_count": 77,
   "metadata": {},
   "outputs": [
    {
     "name": "stdout",
     "output_type": "stream",
     "text": [
      "J:  tf.Tensor(-25.720672501205456, shape=(), dtype=float64)\n"
     ]
    },
    {
     "data": {
      "text/plain": [
       "<tf.Tensor: shape=(), dtype=float64, numpy=-25.720672501205456>"
      ]
     },
     "execution_count": 77,
     "metadata": {},
     "output_type": "execute_result"
    }
   ],
   "source": [
    "def compute_costfunction (A, Y):\n",
    "    \"\"\"\n",
    "    def cost_function (A, Y):\n",
    "        m = Y.shape[1]\n",
    "        cost = - Y * np.log(A + 1e-7) - (1 - Y) * np.log(1 - A + 1e-7)\n",
    "        return np.sum(cost) / m\n",
    "    \"\"\"\n",
    "    # A: (6, 1080) Y: (6, 1080)\n",
    "    # J: (6, 1080), 一行还有6个label值, 有1080个样本值\n",
    "    J_mat = tf.nn.sigmoid_cross_entropy_with_logits(A, Y)\n",
    "    \n",
    "    J = tf.reduce_mean(J_mat)\n",
    "    print('J: ', J)\n",
    "    return J\n",
    "\n",
    "compute_costfunction (Z3, Y_train)"
   ]
  },
  {
   "cell_type": "markdown",
   "metadata": {},
   "source": [
    "## 2.5 - Backward Propagation & Update Parameters\n",
    "\n",
    "- tf.optimizers.Adam()(learning_rate=learning_rate).minimize(cost)"
   ]
  },
  {
   "cell_type": "markdown",
   "metadata": {},
   "source": [
    "# 3 - Build Model with TF"
   ]
  },
  {
   "cell_type": "code",
   "execution_count": 78,
   "metadata": {},
   "outputs": [
    {
     "name": "stdout",
     "output_type": "stream",
     "text": [
      "tf.Tensor(6.0, shape=(), dtype=float32)\n"
     ]
    }
   ],
   "source": [
    "x = tf.Variable(initial_value = 3.)\n",
    "# 计算步骤求导\n",
    "with tf.GradientTape() as tape:\n",
    "    # y = x ^ 2 => y' = 2x\n",
    "    y = tf.square(x)\n",
    "# 计算y关于x的导数\n",
    "grad = tape.gradient(y, x)\n",
    "print(grad)"
   ]
  },
  {
   "cell_type": "code",
   "execution_count": 79,
   "metadata": {},
   "outputs": [],
   "source": [
    "def training (X, Y, alpha = 0.0001, iterations = 1500, minibatch = 64):\n",
    "    tf.random.set_seed(1)\n",
    "    (features, m) = X.shape # (12288 1080)\n",
    "    Layers = np.array([features, 25, 12, 6])\n",
    "    # 1. initialize parameters\n",
    "    parameters = init_parameters (Layers)\n",
    "    \n",
    "    # 2. forward propagation\n",
    "    # softmax, 最后输出的是Z\n",
    "    # Z = forward_propagation(X, parameters)\n",
    "\n",
    "    \n",
    "    # 3. backward propagation\n",
    "    # 3-1. create an optimizer\n",
    "    # opt = tf.optimizers.SGD(learning_rate=0.1)\n",
    "    # Compute the gradients for a list of variables.\n",
    "    with tf.GradientTape() as tape:\n",
    "        # 3-2 cost function\n",
    "        Z = forward_propagation(X, parameters)\n",
    "        J = compute_costfunction(Z, Y)\n",
    "#     p = parameters\n",
    "#     W1 = p['W1']\n",
    "#     b1 = p['b1']\n",
    "\n",
    "#     W2 = p['W2']\n",
    "#     b2 = p['b2']\n",
    "\n",
    "#     W3 = p['W3']\n",
    "#     b3 = p['b3']\n",
    "    \n",
    "#     vars = [W1, b1, W2, b2, W3, b3]\n",
    "#     grads = tape.gradient(J, vars)\n",
    "#     processed_grads = [process_gradient(g) for g in grads]\n",
    "    print(J)\n",
    "    # ======= TODO ======= \n",
    "    "
   ]
  },
  {
   "cell_type": "code",
   "execution_count": 80,
   "metadata": {},
   "outputs": [
    {
     "name": "stdout",
     "output_type": "stream",
     "text": [
      "J:  tf.Tensor(-25.720672501205456, shape=(), dtype=float64)\n",
      "tf.Tensor(-25.720672501205456, shape=(), dtype=float64)\n"
     ]
    }
   ],
   "source": [
    "training(X_train_flatten, Y_train)"
   ]
  },
  {
   "cell_type": "markdown",
   "metadata": {},
   "source": [
    "# 4. TF 2.0"
   ]
  },
  {
   "cell_type": "code",
   "execution_count": 137,
   "metadata": {},
   "outputs": [],
   "source": [
    "# 1. Build Model\n",
    "# (1080, 64, 64, 3)\n",
    "m, n_H, n_W, n_C = X_train_orig.shape\n",
    "\n",
    "model = keras.Sequential([\n",
    "    keras.layers.Flatten(input_shape = [n_H, n_W, n_C]), # (64 * 64 * 3)\n",
    "    keras.layers.Dense(500, activation = 'relu'), # 100\n",
    "    keras.layers.Dense(50, activation = 'relu'), # 50\n",
    "    keras.layers.Dense(6) # 6\n",
    "])"
   ]
  },
  {
   "cell_type": "code",
   "execution_count": 138,
   "metadata": {},
   "outputs": [],
   "source": [
    "model.compile(optimizer = 'adam',\n",
    "              loss=tf.keras.losses.SparseCategoricalCrossentropy(from_logits=True),\n",
    "              metrics=['accuracy'])"
   ]
  },
  {
   "cell_type": "code",
   "execution_count": 139,
   "metadata": {},
   "outputs": [
    {
     "name": "stdout",
     "output_type": "stream",
     "text": [
      "Train on 1080 samples\n",
      "Epoch 1/50\n",
      "1080/1080 [==============================] - 1s 1ms/sample - loss: 5.0396 - accuracy: 0.2102\n",
      "Epoch 2/50\n",
      "1080/1080 [==============================] - 1s 1ms/sample - loss: 1.8231 - accuracy: 0.2898\n",
      "Epoch 3/50\n",
      "1080/1080 [==============================] - 1s 1ms/sample - loss: 1.8071 - accuracy: 0.3750\n",
      "Epoch 4/50\n",
      "1080/1080 [==============================] - 1s 1ms/sample - loss: 1.7029 - accuracy: 0.3907\n",
      "Epoch 5/50\n",
      "1080/1080 [==============================] - 1s 1ms/sample - loss: 1.2771 - accuracy: 0.5148\n",
      "Epoch 6/50\n",
      "1080/1080 [==============================] - 1s 1ms/sample - loss: 1.2534 - accuracy: 0.5343\n",
      "Epoch 7/50\n",
      "1080/1080 [==============================] - 1s 1ms/sample - loss: 1.5253 - accuracy: 0.4472\n",
      "Epoch 8/50\n",
      "1080/1080 [==============================] - 1s 1ms/sample - loss: 1.4075 - accuracy: 0.4824\n",
      "Epoch 9/50\n",
      "1080/1080 [==============================] - 1s 1ms/sample - loss: 1.2077 - accuracy: 0.5306\n",
      "Epoch 10/50\n",
      "1080/1080 [==============================] - 1s 1ms/sample - loss: 0.9928 - accuracy: 0.6574\n",
      "Epoch 11/50\n",
      "1080/1080 [==============================] - 1s 1ms/sample - loss: 1.0821 - accuracy: 0.6065\n",
      "Epoch 12/50\n",
      "1080/1080 [==============================] - 1s 1ms/sample - loss: 0.9889 - accuracy: 0.6194\n",
      "Epoch 13/50\n",
      "1080/1080 [==============================] - 1s 1ms/sample - loss: 0.9546 - accuracy: 0.6611\n",
      "Epoch 14/50\n",
      "1080/1080 [==============================] - 1s 1ms/sample - loss: 0.8492 - accuracy: 0.7019\n",
      "Epoch 15/50\n",
      "1080/1080 [==============================] - 1s 1ms/sample - loss: 1.1424 - accuracy: 0.5935\n",
      "Epoch 16/50\n",
      "1080/1080 [==============================] - 1s 1ms/sample - loss: 0.8686 - accuracy: 0.6787\n",
      "Epoch 17/50\n",
      "1080/1080 [==============================] - 1s 1ms/sample - loss: 0.8454 - accuracy: 0.7009\n",
      "Epoch 18/50\n",
      "1080/1080 [==============================] - 1s 1ms/sample - loss: 0.9470 - accuracy: 0.6685\n",
      "Epoch 19/50\n",
      "1080/1080 [==============================] - 1s 1ms/sample - loss: 1.2548 - accuracy: 0.5583\n",
      "Epoch 20/50\n",
      "1080/1080 [==============================] - 1s 1ms/sample - loss: 0.8081 - accuracy: 0.7083\n",
      "Epoch 21/50\n",
      "1080/1080 [==============================] - 1s 1ms/sample - loss: 0.7335 - accuracy: 0.7500\n",
      "Epoch 22/50\n",
      "1080/1080 [==============================] - 1s 1ms/sample - loss: 0.7810 - accuracy: 0.7157\n",
      "Epoch 23/50\n",
      "1080/1080 [==============================] - 1s 1ms/sample - loss: 0.7247 - accuracy: 0.7417\n",
      "Epoch 24/50\n",
      "1080/1080 [==============================] - 1s 1ms/sample - loss: 0.6837 - accuracy: 0.7620\n",
      "Epoch 25/50\n",
      "1080/1080 [==============================] - 1s 1ms/sample - loss: 0.7058 - accuracy: 0.7444\n",
      "Epoch 26/50\n",
      "1080/1080 [==============================] - 1s 1ms/sample - loss: 0.7475 - accuracy: 0.7185\n",
      "Epoch 27/50\n",
      "1080/1080 [==============================] - 1s 1ms/sample - loss: 0.7034 - accuracy: 0.7481\n",
      "Epoch 28/50\n",
      "1080/1080 [==============================] - 1s 1ms/sample - loss: 0.6682 - accuracy: 0.7426\n",
      "Epoch 29/50\n",
      "1080/1080 [==============================] - 1s 1ms/sample - loss: 0.6529 - accuracy: 0.7769\n",
      "Epoch 30/50\n",
      "1080/1080 [==============================] - 1s 1ms/sample - loss: 0.5906 - accuracy: 0.7981\n",
      "Epoch 31/50\n",
      "1080/1080 [==============================] - 1s 1ms/sample - loss: 0.6913 - accuracy: 0.7222\n",
      "Epoch 32/50\n",
      "1080/1080 [==============================] - 1s 1ms/sample - loss: 0.6410 - accuracy: 0.7565\n",
      "Epoch 33/50\n",
      "1080/1080 [==============================] - 1s 1ms/sample - loss: 0.5065 - accuracy: 0.8417\n",
      "Epoch 34/50\n",
      "1080/1080 [==============================] - 1s 1ms/sample - loss: 0.5213 - accuracy: 0.8287\n",
      "Epoch 35/50\n",
      "1080/1080 [==============================] - 1s 1ms/sample - loss: 0.6180 - accuracy: 0.7759\n",
      "Epoch 36/50\n",
      "1080/1080 [==============================] - 1s 1ms/sample - loss: 0.5458 - accuracy: 0.8157\n",
      "Epoch 37/50\n",
      "1080/1080 [==============================] - 1s 1ms/sample - loss: 0.7299 - accuracy: 0.7315\n",
      "Epoch 38/50\n",
      "1080/1080 [==============================] - 1s 1ms/sample - loss: 0.6977 - accuracy: 0.7444\n",
      "Epoch 39/50\n",
      "1080/1080 [==============================] - 1s 1ms/sample - loss: 0.6274 - accuracy: 0.7759\n",
      "Epoch 40/50\n",
      "1080/1080 [==============================] - 1s 1ms/sample - loss: 0.5794 - accuracy: 0.7806\n",
      "Epoch 41/50\n",
      "1080/1080 [==============================] - 1s 1ms/sample - loss: 0.4508 - accuracy: 0.8546\n",
      "Epoch 42/50\n",
      "1080/1080 [==============================] - 1s 1ms/sample - loss: 0.5018 - accuracy: 0.8296\n",
      "Epoch 43/50\n",
      "1080/1080 [==============================] - 1s 1ms/sample - loss: 0.4620 - accuracy: 0.8583\n",
      "Epoch 44/50\n",
      "1080/1080 [==============================] - 1s 1ms/sample - loss: 0.4419 - accuracy: 0.8426\n",
      "Epoch 45/50\n",
      "1080/1080 [==============================] - 1s 1ms/sample - loss: 0.4421 - accuracy: 0.8546\n",
      "Epoch 46/50\n",
      "1080/1080 [==============================] - 1s 1ms/sample - loss: 0.3766 - accuracy: 0.8769\n",
      "Epoch 47/50\n",
      "1080/1080 [==============================] - 1s 1ms/sample - loss: 0.4409 - accuracy: 0.8454\n",
      "Epoch 48/50\n",
      "1080/1080 [==============================] - 1s 1ms/sample - loss: 0.5252 - accuracy: 0.8111\n",
      "Epoch 49/50\n",
      "1080/1080 [==============================] - 1s 1ms/sample - loss: 0.3320 - accuracy: 0.9037\n",
      "Epoch 50/50\n",
      "1080/1080 [==============================] - 1s 1ms/sample - loss: 0.3849 - accuracy: 0.8741\n"
     ]
    },
    {
     "data": {
      "text/plain": [
       "<tensorflow.python.keras.callbacks.History at 0x153e84690>"
      ]
     },
     "execution_count": 139,
     "metadata": {},
     "output_type": "execute_result"
    }
   ],
   "source": [
    "\n",
    "# y: 这里必须是 一行为一组数据 \n",
    "# (1, 1080)\n",
    "model.fit(X_train_orig / 255.0, Y_train_orig.T, epochs=50)"
   ]
  },
  {
   "cell_type": "code",
   "execution_count": 140,
   "metadata": {},
   "outputs": [],
   "source": [
    "# test_loss, test_acc = model.evaluate(X_test_orig / 255.0, Y_test_orig.T, verbose=2)"
   ]
  },
  {
   "cell_type": "code",
   "execution_count": 141,
   "metadata": {},
   "outputs": [
    {
     "name": "stdout",
     "output_type": "stream",
     "text": [
      "[2.1527281e-05 8.4887153e-01 1.5081036e-01 1.0816630e-05 1.9523046e-04\n",
      " 9.0461646e-05]\n"
     ]
    }
   ],
   "source": [
    "model_predictions = keras.Sequential([\n",
    "    model,\n",
    "    tf.keras.layers.Softmax()\n",
    "])\n",
    "\n",
    "y_predict = model_predictions.predict(X_test_orig / 255.0)\n",
    "\n",
    "print(y_predict[4])"
   ]
  },
  {
   "cell_type": "code",
   "execution_count": 160,
   "metadata": {},
   "outputs": [],
   "source": [
    "def plot_img (index):\n",
    "    plt.imshow(X_test_orig[index])\n",
    "    print('label值:', Y_test_orig.T[index])\n",
    "    print('预测列表:', y_predict[index])\n",
    "    print('预测index, 预测概率', np.argmax(y_predict[index]), str(int(np.max(y_predict[index]) * 100)) + '%')\n",
    "    "
   ]
  },
  {
   "cell_type": "code",
   "execution_count": 163,
   "metadata": {},
   "outputs": [
    {
     "name": "stdout",
     "output_type": "stream",
     "text": [
      "label值: [3]\n",
      "预测列表: [9.7528199e-04 3.1118005e-04 3.3888305e-03 4.8527020e-01 3.5051826e-01\n",
      " 1.5953618e-01]\n",
      "预测index, 预测概率 3 48%\n"
     ]
    },
    {
     "data": {
      "image/png": "[encoded data removed]",
      "text/plain": [
       "<Figure size 432x288 with 1 Axes>"
      ]
     },
     "metadata": {
      "needs_background": "light"
     },
     "output_type": "display_data"
    }
   ],
   "source": [
    "plot_img(15)"
   ]
  },
  {
   "cell_type": "code",
   "execution_count": null,
   "metadata": {},
   "outputs": [],
   "source": []
  }
 ],
 "metadata": {
  "kernelspec": {
   "display_name": "Python 3",
   "language": "python",
   "name": "python3"
  },
  "language_info": {
   "codemirror_mode": {
    "name": "ipython",
    "version": 3
   },
   "file_extension": ".py",
   "mimetype": "text/x-python",
   "name": "python",
   "nbconvert_exporter": "python",
   "pygments_lexer": "ipython3",
   "version": "3.7.5"
  }
 },
 "nbformat": 4,
 "nbformat_minor": 4
}
