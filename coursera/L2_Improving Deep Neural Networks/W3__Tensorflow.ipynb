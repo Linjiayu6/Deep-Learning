{
 "cells": [
  {
   "cell_type": "markdown",
   "metadata": {},
   "source": [
    "# Tensorflow Tutorial"
   ]
  },
  {
   "cell_type": "markdown",
   "metadata": {},
   "source": [
    "# 1 - Practice"
   ]
  },
  {
   "cell_type": "code",
   "execution_count": 2,
   "metadata": {},
   "outputs": [],
   "source": [
    "import math\n",
    "import numpy as np\n",
    "import h5py\n",
    "import matplotlib.pyplot as plt\n",
    "import tensorflow as tf\n",
    "# from tensorflow.python.framework import ops\n",
    "# from tf_utils import load_dataset, random_mini_batches, convert_to_one_hot, predict\n",
    "\n",
    "%matplotlib inline\n",
    "np.random.seed(1)"
   ]
  },
  {
   "cell_type": "markdown",
   "metadata": {},
   "source": [
    "$$cost = \\mathcal{L}(\\hat{y}, y) = (\\hat y^{(i)} - y^{(i)})^2 \\tag{1}$$"
   ]
  },
  {
   "cell_type": "code",
   "execution_count": 3,
   "metadata": {},
   "outputs": [
    {
     "name": "stdout",
     "output_type": "stream",
     "text": [
      "16\n"
     ]
    }
   ],
   "source": [
    "# 定义常量\n",
    "y_hat = tf.constant(6, name = 'y_hat')\n",
    "y = tf.constant(2, name = 'y')\n",
    "# 定义变量\n",
    "# (6 - 2) ^2 = 16\n",
    "cost = tf.Variable((y_hat - y) ** 2, name = 'cost')\n",
    "tf.print(cost)"
   ]
  },
  {
   "cell_type": "code",
   "execution_count": 4,
   "metadata": {},
   "outputs": [
    {
     "name": "stdout",
     "output_type": "stream",
     "text": [
      "tf.Tensor(12, shape=(), dtype=int32)\n",
      "12\n"
     ]
    }
   ],
   "source": [
    "c = tf.multiply(y_hat, y)\n",
    "print(c) # tf.Tensor(12, shape=(), dtype=int32)\n",
    "tf.print(c) # 12"
   ]
  },
  {
   "cell_type": "code",
   "execution_count": 5,
   "metadata": {},
   "outputs": [
    {
     "name": "stdout",
     "output_type": "stream",
     "text": [
      "tf.Tensor(6, shape=(), dtype=int32)\n"
     ]
    }
   ],
   "source": [
    "# 定义函数\n",
    "@tf.function\n",
    "def f(x):\n",
    "    return 2 * x\n",
    "\n",
    "print(f(3))"
   ]
  },
  {
   "cell_type": "markdown",
   "metadata": {},
   "source": [
    "## 1.1 - Linear Regression"
   ]
  },
  {
   "cell_type": "code",
   "execution_count": 6,
   "metadata": {},
   "outputs": [],
   "source": [
    "def linear_regression ():\n",
    "    np.random.seed(1)\n",
    "    # Y = np.dot(W.T, X) + b\n",
    "    X = np.random.randn(3, 1)\n",
    "    W = np.random.randn(3, 4)\n",
    "    b = np.random.randn(4, 1)\n",
    "    Y = tf.add(tf.matmul(W.T, X), b)\n",
    "    return Y\n",
    "    \n",
    "Y_pred = linear_regression()"
   ]
  },
  {
   "cell_type": "markdown",
   "metadata": {},
   "source": [
    "## 1.2 - Sigmoid function"
   ]
  },
  {
   "cell_type": "code",
   "execution_count": 7,
   "metadata": {},
   "outputs": [
    {
     "data": {
      "text/plain": [
       "<tf.Tensor: shape=(3, 1), dtype=float64, numpy=\n",
       "array([[0.64171493],\n",
       "       [0.2496239 ],\n",
       "       [0.75854586]])>"
      ]
     },
     "execution_count": 7,
     "metadata": {},
     "output_type": "execute_result"
    }
   ],
   "source": [
    "def sigmoid (Z):\n",
    "    # 1 / (np.exp(-Z) + 1)\n",
    "    return tf.sigmoid(Z)\n",
    "\n",
    "sigmoid(np.random.randn(3, 1))"
   ]
  },
  {
   "cell_type": "markdown",
   "metadata": {},
   "source": [
    "# 1.3 - Cost function\n",
    "\n",
    "$$ J = - \\frac{1}{m}  \\sum_{i = 1}^m  \\large ( \\small y^{(i)} \\log a^{ [2] (i)} + (1-y^{(i)})\\log (1-a^{ [2] (i)} )\\large )\\small\\tag{2}$$\n"
   ]
  },
  {
   "cell_type": "code",
   "execution_count": 8,
   "metadata": {},
   "outputs": [
    {
     "data": {
      "text/plain": [
       "<tf.Tensor: shape=(4, 1), dtype=float64, numpy=\n",
       "array([[2.40441885],\n",
       "       [0.3684111 ],\n",
       "       [5.08026603],\n",
       "       [1.35428678]])>"
      ]
     },
     "execution_count": 8,
     "metadata": {},
     "output_type": "execute_result"
    }
   ],
   "source": [
    "\"\"\"\n",
    "def cost_function (A, Y):\n",
    "    m = Y.shape[1]\n",
    "    cost = - Y * np.log(A + 1e-7) - (1 - Y) * np.log(1 - A + 1e-7)\n",
    "    return np.sum(cost) / m\n",
    "\"\"\"\n",
    "def cost_function (A, Y):\n",
    "    return tf.nn.sigmoid_cross_entropy_with_logits(A, Y)\n",
    "\n",
    "Y = tf.constant(np.random.randn(4, 1), name = 'y')\n",
    "cost_function(Y_pred, Y)"
   ]
  },
  {
   "cell_type": "markdown",
   "metadata": {},
   "source": [
    "# 1.4 - Initialize with zeros and ones\n",
    "- shape = [2, 3]\n",
    "- tf.ones(shape)\n",
    "- tf.zeros(shape)"
   ]
  },
  {
   "cell_type": "code",
   "execution_count": 9,
   "metadata": {},
   "outputs": [
    {
     "data": {
      "text/plain": [
       "(<tf.Tensor: shape=(2, 3), dtype=float32, numpy=\n",
       " array([[1., 1., 1.],\n",
       "        [1., 1., 1.]], dtype=float32)>,\n",
       " <tf.Tensor: shape=(2, 3), dtype=float32, numpy=\n",
       " array([[0., 0., 0.],\n",
       "        [0., 0., 0.]], dtype=float32)>)"
      ]
     },
     "execution_count": 9,
     "metadata": {},
     "output_type": "execute_result"
    }
   ],
   "source": [
    "def initialize_zeros_ones (shape):\n",
    "    ones = tf.ones(shape)\n",
    "    zeros = tf.zeros(shape)\n",
    "    return ones, zeros\n",
    "\n",
    "initialize_zeros_ones([2, 3])"
   ]
  },
  {
   "cell_type": "markdown",
   "metadata": {},
   "source": [
    "## 1.5 - One Hot encodings (softmax)\n",
    "\n",
    "![image](https://github.com/Kulbear/deep-learning-coursera/raw/997fdb2e2db67acd45d29ae418212463a54be06d/Improving%20Deep%20Neural%20Networks%20Hyperparameter%20tuning,%20Regularization%20and%20Optimization/images/onehot.png)\n",
    "\n",
    "例如列表有[1, 2, 0] 三个数字, 形成矩阵为\n",
    "- 1: [0, 1, 0].T\n",
    "- 2: [0, 0, 1].T\n",
    "- 0: [1, 0, 0].T\n",
    "\n",
    "\n",
    "```python\n",
    "# one-hot方式, 有C列, 每列填1的值, 是[....] 数组决定\n",
    "np.eye(C)[.....]\n",
    "```\n",
    "\n",
    "```python\n",
    "# TF\n",
    "tf.one_hot(indices = Y, depth = C, axis = 0)\n",
    "```"
   ]
  },
  {
   "cell_type": "code",
   "execution_count": 17,
   "metadata": {},
   "outputs": [
    {
     "name": "stdout",
     "output_type": "stream",
     "text": [
      "testOnes:  [[1. 1.]\n",
      " [1. 1.]\n",
      " [1. 1.]]\n",
      "reshape(-1):  [1. 1. 1. 1. 1. 1.]\n",
      "reshape(-1, 1):  [[1.]\n",
      " [1.]\n",
      " [1.]\n",
      " [1.]\n",
      " [1.]\n",
      " [1.]]\n",
      "reshape(-1, 3):  [[1. 1. 1.]\n",
      " [1. 1. 1.]]\n"
     ]
    }
   ],
   "source": [
    "\"\"\"\n",
    "reshape(m, n) \n",
    "根据现在的矩阵, 重新将矩阵变成 m列n行\n",
    "-1 懒得计算填写, python自己推算吧\n",
    "\"\"\"\n",
    "testOnes = np.ones(shape = (3, 2))\n",
    "print('testOnes: ', testOnes)\n",
    "print('reshape(-1): ', testOnes.reshape(-1))\n",
    "print('reshape(-1, 1): ', testOnes.reshape(-1, 1))\n",
    "print('reshape(-1, 3): ', testOnes.reshape(-1, 3))"
   ]
  },
  {
   "cell_type": "code",
   "execution_count": 18,
   "metadata": {},
   "outputs": [],
   "source": [
    "def convert_to_one_hot (Y, C):\n",
    "    return np.eye(C)[Y.reshape(-1)].T\n",
    "\n",
    "def convert_to_one_hot_TF(Y, C):\n",
    "    one_hot_matrix = tf.one_hot(indices = Y, depth = C, axis = 0)\n",
    "    return one_hot_matrix"
   ]
  },
  {
   "cell_type": "code",
   "execution_count": 19,
   "metadata": {},
   "outputs": [
    {
     "name": "stdout",
     "output_type": "stream",
     "text": [
      "[[0. 0. 1. 0. 0.]\n",
      " [1. 0. 0. 1. 0.]\n",
      " [0. 1. 0. 0. 0.]\n",
      " [0. 0. 0. 0. 1.]]\n"
     ]
    }
   ],
   "source": [
    "Y = np.array([1, 2, 0, 1, 3])\n",
    "C = 4\n",
    "\n",
    "print(convert_to_one_hot(Y, C))"
   ]
  },
  {
   "cell_type": "code",
   "execution_count": 20,
   "metadata": {},
   "outputs": [
    {
     "name": "stdout",
     "output_type": "stream",
     "text": [
      "tf.Tensor(\n",
      "[[0. 0. 1. 0. 0.]\n",
      " [1. 0. 0. 1. 0.]\n",
      " [0. 1. 0. 0. 0.]\n",
      " [0. 0. 0. 0. 1.]], shape=(4, 5), dtype=float32)\n"
     ]
    }
   ],
   "source": [
    "print(convert_to_one_hot_TF(Y, C))"
   ]
  },
  {
   "cell_type": "markdown",
   "metadata": {},
   "source": [
    "# 2 - Building NN in TF\n",
    "\n",
    "## 2.1 - Load Data"
   ]
  },
  {
   "cell_type": "code",
   "execution_count": 21,
   "metadata": {},
   "outputs": [],
   "source": [
    "def load_dataset():\n",
    "    train_dataset = h5py.File('data/train_signs.h5', \"r\")\n",
    "    train_set_x_orig = np.array(train_dataset[\"train_set_x\"][:]) # your train set features\n",
    "    train_set_y_orig = np.array(train_dataset[\"train_set_y\"][:]) # your train set labels\n",
    " \n",
    "    test_dataset = h5py.File('data/test_signs.h5', \"r\")\n",
    "    test_set_x_orig = np.array(test_dataset[\"test_set_x\"][:]) # your test set features\n",
    "    test_set_y_orig = np.array(test_dataset[\"test_set_y\"][:]) # your test set labels\n",
    " \n",
    "    classes = np.array(test_dataset[\"list_classes\"][:]) # the list of classes\n",
    "    \n",
    "    train_set_y_orig = train_set_y_orig.reshape((1, train_set_y_orig.shape[0]))\n",
    "    test_set_y_orig = test_set_y_orig.reshape((1, test_set_y_orig.shape[0]))\n",
    "    \n",
    "    return train_set_x_orig, train_set_y_orig, test_set_x_orig, test_set_y_orig, classes"
   ]
  },
  {
   "cell_type": "code",
   "execution_count": 22,
   "metadata": {},
   "outputs": [],
   "source": [
    "X_train_orig, Y_train_orig, X_test_orig, Y_test_orig, classes = load_dataset()"
   ]
  },
  {
   "cell_type": "code",
   "execution_count": 24,
   "metadata": {},
   "outputs": [
    {
     "name": "stdout",
     "output_type": "stream",
     "text": [
      "(12288, 1080)\n",
      "(6, 1080)\n"
     ]
    }
   ],
   "source": [
    "def handle_data (X_train_orig, Y_train_orig, X_test_orig, Y_test_orig):\n",
    "    # X flatten\n",
    "    X_train_flatten = X_train_orig.reshape(X_train_orig.shape[0], -1).T\n",
    "    X_test_flatten = X_test_orig.reshape(X_test_orig.shape[0], -1).T\n",
    "\n",
    "    X_train_flatten = X_train_flatten / 255.\n",
    "    X_test_flatten = X_test_flatten / 255.\n",
    "    \n",
    "    # Y softmax\n",
    "    # [1, 2, 0] => softmax 变换\n",
    "    Y_train = convert_to_one_hot(Y_train_orig, 6)\n",
    "    Y_test = convert_to_one_hot(Y_test_orig, 6)\n",
    "    \n",
    "    return X_train_flatten, X_test_flatten, Y_train, Y_test\n",
    "\n",
    "X_train_flatten, X_test_flatten, Y_train, Y_test = handle_data (X_train_orig, Y_train_orig, X_test_orig, Y_test_orig)\n",
    "\n",
    "print(X_train_flatten.shape) # (12288, 1080)\n",
    "print(Y_train.shape) # (6, 1080)\n"
   ]
  },
  {
   "cell_type": "code",
   "execution_count": 25,
   "metadata": {},
   "outputs": [
    {
     "name": "stdout",
     "output_type": "stream",
     "text": [
      "Label:  2\n",
      "Label:  [0. 0. 1. 0. 0. 0.]\n"
     ]
    },
    {
     "data": {
      "image/png": "[encoded data removed]",
      "text/plain": [
       "<Figure size 432x288 with 1 Axes>"
      ]
     },
     "metadata": {
      "needs_background": "light"
     },
     "output_type": "display_data"
    }
   ],
   "source": [
    "index = 6\n",
    "plt.imshow(X_train_orig[index])\n",
    "print('Label: ', np.squeeze(Y_train_orig[:, index]))\n",
    "print('Label: ', Y_train[:, index])"
   ]
  },
  {
   "cell_type": "markdown",
   "metadata": {},
   "source": [
    "## 2.2 - Initializing parameters"
   ]
  },
  {
   "cell_type": "code",
   "execution_count": 26,
   "metadata": {},
   "outputs": [],
   "source": [
    "features = X_train_flatten.shape[0]\n",
    "# softmax 输出6个数字\n",
    "Layers = np.array([features, 25, 12, 6])"
   ]
  },
  {
   "cell_type": "code",
   "execution_count": 31,
   "metadata": {},
   "outputs": [],
   "source": [
    "def init_parameters (Layers):\n",
    "    np.random.seed(1)\n",
    "    \n",
    "    l_input = Layers[0]\n",
    "    l_hidden_1 = Layers[1]\n",
    "    l_hidden_2 = Layers[2]\n",
    "    l_output = Layers[3]\n",
    "\n",
    "    # 以TF方式 输出这些parameters\n",
    "    W1 = tf.Variable(np.random.randn(l_input, l_hidden_1))\n",
    "    b1 = tf.Variable(np.zeros(shape = (l_hidden_1, 1)))\n",
    "    \n",
    "    W2 = tf.Variable(np.random.randn(l_hidden_1, l_hidden_2))\n",
    "    b2 = tf.Variable(np.zeros(shape = (l_hidden_2, 1)))\n",
    "    \n",
    "    W3 = tf.Variable(np.random.randn(l_hidden_2, l_output))\n",
    "    b3 = tf.Variable(np.zeros(shape = (l_output, 1)))\n",
    "    \n",
    "    parameters = {\n",
    "        \"W1\": W1,\n",
    "        \"b1\": b1,\n",
    "        \"W2\": W2,\n",
    "        \"b2\": b2,\n",
    "        \"W3\": W3,\n",
    "        \"b3\": b3\n",
    "    }\n",
    "    return parameters\n"
   ]
  },
  {
   "cell_type": "code",
   "execution_count": 32,
   "metadata": {},
   "outputs": [],
   "source": [
    "parameters = init_parameters (Layers)"
   ]
  },
  {
   "cell_type": "markdown",
   "metadata": {},
   "source": [
    "## 2.3 - Forward Propagation\n",
    "\n",
    "- tf.transpose(W)\n",
    "- tf.nn.relu(Z)\n",
    "\n",
    "- tf.matmul(W.T, X)\n",
    "- tf.add(XX, b)\n"
   ]
  },
  {
   "cell_type": "code",
   "execution_count": 39,
   "metadata": {},
   "outputs": [],
   "source": [
    "def forward_propagation (X, parameters):\n",
    "    p = parameters\n",
    "    W1 = p['W1']\n",
    "    b1 = p['b1']\n",
    "    \n",
    "    W2 = p['W2']\n",
    "    b2 = p['b2']\n",
    "    \n",
    "    W3 = p['W3']\n",
    "    b3 = p['b3']\n",
    "    \n",
    "    # np.dot(W.T, X) + b\n",
    "    Z1 = np.dot(tf.transpose(W1), X) + b1\n",
    "    A1 = tf.nn.relu(Z1)\n",
    "    \n",
    "    Z2 = np.dot(tf.transpose(W2), A1) + b2\n",
    "    A2 = tf.nn.relu(Z2)\n",
    "    \n",
    "    # tf.add(tf.matmul(tf.transpose(W3), A2), b3)\n",
    "    Z3 = np.dot(tf.transpose(W3), A2) + b3\n",
    "\n",
    "    return Z3"
   ]
  },
  {
   "cell_type": "code",
   "execution_count": 40,
   "metadata": {},
   "outputs": [
    {
     "name": "stdout",
     "output_type": "stream",
     "text": [
      "tf.Tensor(\n",
      "[[-321.63048498 -408.61544615 -431.74897472 ... -437.81962796\n",
      "  -336.68337789 -396.6043488 ]\n",
      " [ 292.15201455  382.96857748  158.35656135 ...  378.89846808\n",
      "   145.15841231  169.23050794]\n",
      " [ -23.36163251 -171.14646118  -16.08087056 ... -136.25647004\n",
      "   -76.70290991 -148.35155579]\n",
      " [ 360.64011526  522.45586139  443.66849071 ...  490.68539838\n",
      "   304.41858068  498.33545174]\n",
      " [-161.09857581   90.26277934  -76.06305442 ... -130.01766264\n",
      "   -32.36013901   17.53737039]\n",
      " [ 587.99965695  653.84162298  944.88428597 ...  854.73892442\n",
      "   713.22366361  800.53031744]], shape=(6, 1080), dtype=float64)\n"
     ]
    }
   ],
   "source": [
    "Z3 = forward_propagation(X_train_flatten, parameters)\n",
    "print(Z3)"
   ]
  },
  {
   "cell_type": "markdown",
   "metadata": {},
   "source": [
    "## 2.4 - Cost Function\n",
    "\n",
    "- tf.nn.sigmoid_cross_entropy_with_logits(A, Y)\n",
    "- tf.reduce_mean(A, axis = 0) 按列求平均值\n",
    "- tf.reduce_mean(A, axis = 1) 按行求平均值\n",
    "- tf.reduce_mean(A) 整体求平均值"
   ]
  },
  {
   "cell_type": "code",
   "execution_count": 80,
   "metadata": {},
   "outputs": [
    {
     "name": "stdout",
     "output_type": "stream",
     "text": [
      "J:  tf.Tensor(-25.720672501205456, shape=(), dtype=float64)\n"
     ]
    },
    {
     "data": {
      "text/plain": [
       "<tf.Tensor: shape=(), dtype=float64, numpy=-25.720672501205456>"
      ]
     },
     "execution_count": 80,
     "metadata": {},
     "output_type": "execute_result"
    }
   ],
   "source": [
    "def compute_costfunction (A, Y):\n",
    "    \"\"\"\n",
    "    def cost_function (A, Y):\n",
    "        m = Y.shape[1]\n",
    "        cost = - Y * np.log(A + 1e-7) - (1 - Y) * np.log(1 - A + 1e-7)\n",
    "        return np.sum(cost) / m\n",
    "    \"\"\"\n",
    "    # A: (6, 1080) Y: (6, 1080)\n",
    "    # J: (6, 1080)\n",
    "    J_mat = tf.nn.sigmoid_cross_entropy_with_logits(A, Y)\n",
    "    \n",
    "    J = tf.reduce_mean(J_mat)\n",
    "    print('J: ', J)\n",
    "    return J\n",
    "\n",
    "compute_costfunction (Z3, Y_train)"
   ]
  },
  {
   "cell_type": "markdown",
   "metadata": {},
   "source": [
    "## 2.5 - Backward Propagation & Update Parameters\n",
    "\n",
    "- tf.optimizers.Adam()(learning_rate=learning_rate).minimize(cost)"
   ]
  },
  {
   "cell_type": "markdown",
   "metadata": {},
   "source": [
    "# 3 - Build Model with TF"
   ]
  },
  {
   "cell_type": "code",
   "execution_count": 111,
   "metadata": {},
   "outputs": [],
   "source": [
    "def training (X, Y, alpha = 0.0001, iterations = 1500, minibatch = 64):\n",
    "    tf.random.set_seed(1)\n",
    "    (features, m) = X.shape # (12288 1080)\n",
    "    Layers = np.array([features, 25, 12, 6])\n",
    "    # 1. initialize parameters\n",
    "    parameters = init_parameters (Layers)\n",
    "    \n",
    "    # 2. forward propagation\n",
    "    # softmax, 最后输出的是Z\n",
    "    Z = forward_propagation(X, parameters)\n",
    "    \n",
    "    # 3. cost function\n",
    "    J = compute_costfunction(Z, Y)\n",
    "    \n",
    "    # 4. backward propagation\n",
    "    optimizer = tf.optimizers.Adam (learning_rate = alpha, beta_1=0.9, beta_2=0.999, epsilon=1e-07)\n",
    "    \n",
    "    # ======= TODO ======= \n",
    "    "
   ]
  },
  {
   "cell_type": "code",
   "execution_count": 112,
   "metadata": {},
   "outputs": [
    {
     "name": "stdout",
     "output_type": "stream",
     "text": [
      "J:  tf.Tensor(-25.720672501205456, shape=(), dtype=float64)\n"
     ]
    },
    {
     "ename": "TypeError",
     "evalue": "'tensorflow.python.framework.ops.EagerTensor' object is not callable",
     "output_type": "error",
     "traceback": [
      "\u001b[0;31m---------------------------------------------------------------------------\u001b[0m",
      "\u001b[0;31mTypeError\u001b[0m                                 Traceback (most recent call last)",
      "\u001b[0;32m<ipython-input-112-b7e6e4b22c51>\u001b[0m in \u001b[0;36m<module>\u001b[0;34m\u001b[0m\n\u001b[0;32m----> 1\u001b[0;31m \u001b[0mtraining\u001b[0m\u001b[0;34m(\u001b[0m\u001b[0mX_train_flatten\u001b[0m\u001b[0;34m,\u001b[0m \u001b[0mY_train\u001b[0m\u001b[0;34m)\u001b[0m\u001b[0;34m\u001b[0m\u001b[0;34m\u001b[0m\u001b[0m\n\u001b[0m",
      "\u001b[0;32m<ipython-input-111-5399f2e37c86>\u001b[0m in \u001b[0;36mtraining\u001b[0;34m(X, Y, alpha, iterations, minibatch)\u001b[0m\n\u001b[1;32m     24\u001b[0m     \u001b[0mW3\u001b[0m \u001b[0;34m=\u001b[0m \u001b[0mp\u001b[0m\u001b[0;34m[\u001b[0m\u001b[0;34m'W3'\u001b[0m\u001b[0;34m]\u001b[0m\u001b[0;34m\u001b[0m\u001b[0;34m\u001b[0m\u001b[0m\n\u001b[1;32m     25\u001b[0m     \u001b[0mb3\u001b[0m \u001b[0;34m=\u001b[0m \u001b[0mp\u001b[0m\u001b[0;34m[\u001b[0m\u001b[0;34m'b3'\u001b[0m\u001b[0;34m]\u001b[0m\u001b[0;34m\u001b[0m\u001b[0;34m\u001b[0m\u001b[0m\n\u001b[0;32m---> 26\u001b[0;31m     \u001b[0moptimizer\u001b[0m\u001b[0;34m.\u001b[0m\u001b[0mminimize\u001b[0m\u001b[0;34m(\u001b[0m\u001b[0mloss\u001b[0m \u001b[0;34m=\u001b[0m \u001b[0mJ\u001b[0m\u001b[0;34m,\u001b[0m \u001b[0mvar_list\u001b[0m \u001b[0;34m=\u001b[0m \u001b[0;34m[\u001b[0m\u001b[0mW1\u001b[0m\u001b[0;34m,\u001b[0m \u001b[0mb1\u001b[0m\u001b[0;34m,\u001b[0m \u001b[0mW2\u001b[0m\u001b[0;34m,\u001b[0m \u001b[0mb2\u001b[0m\u001b[0;34m,\u001b[0m \u001b[0mW3\u001b[0m\u001b[0;34m,\u001b[0m \u001b[0mb3\u001b[0m\u001b[0;34m]\u001b[0m\u001b[0;34m)\u001b[0m\u001b[0;34m\u001b[0m\u001b[0;34m\u001b[0m\u001b[0m\n\u001b[0m\u001b[1;32m     27\u001b[0m \u001b[0;34m\u001b[0m\u001b[0m\n\u001b[1;32m     28\u001b[0m \u001b[0;34m\u001b[0m\u001b[0m\n",
      "\u001b[0;32m/usr/local/lib/python3.7/site-packages/tensorflow_core/python/keras/optimizer_v2/optimizer_v2.py\u001b[0m in \u001b[0;36mminimize\u001b[0;34m(self, loss, var_list, grad_loss, name)\u001b[0m\n\u001b[1;32m    314\u001b[0m     \"\"\"\n\u001b[1;32m    315\u001b[0m     grads_and_vars = self._compute_gradients(\n\u001b[0;32m--> 316\u001b[0;31m         loss, var_list=var_list, grad_loss=grad_loss)\n\u001b[0m\u001b[1;32m    317\u001b[0m \u001b[0;34m\u001b[0m\u001b[0m\n\u001b[1;32m    318\u001b[0m     \u001b[0;32mreturn\u001b[0m \u001b[0mself\u001b[0m\u001b[0;34m.\u001b[0m\u001b[0mapply_gradients\u001b[0m\u001b[0;34m(\u001b[0m\u001b[0mgrads_and_vars\u001b[0m\u001b[0;34m,\u001b[0m \u001b[0mname\u001b[0m\u001b[0;34m=\u001b[0m\u001b[0mname\u001b[0m\u001b[0;34m)\u001b[0m\u001b[0;34m\u001b[0m\u001b[0;34m\u001b[0m\u001b[0m\n",
      "\u001b[0;32m/usr/local/lib/python3.7/site-packages/tensorflow_core/python/keras/optimizer_v2/optimizer_v2.py\u001b[0m in \u001b[0;36m_compute_gradients\u001b[0;34m(self, loss, var_list, grad_loss)\u001b[0m\n\u001b[1;32m    348\u001b[0m       \u001b[0;32mif\u001b[0m \u001b[0;32mnot\u001b[0m \u001b[0mcallable\u001b[0m\u001b[0;34m(\u001b[0m\u001b[0mvar_list\u001b[0m\u001b[0;34m)\u001b[0m\u001b[0;34m:\u001b[0m\u001b[0;34m\u001b[0m\u001b[0;34m\u001b[0m\u001b[0m\n\u001b[1;32m    349\u001b[0m         \u001b[0mtape\u001b[0m\u001b[0;34m.\u001b[0m\u001b[0mwatch\u001b[0m\u001b[0;34m(\u001b[0m\u001b[0mvar_list\u001b[0m\u001b[0;34m)\u001b[0m\u001b[0;34m\u001b[0m\u001b[0;34m\u001b[0m\u001b[0m\n\u001b[0;32m--> 350\u001b[0;31m       \u001b[0mloss_value\u001b[0m \u001b[0;34m=\u001b[0m \u001b[0mloss\u001b[0m\u001b[0;34m(\u001b[0m\u001b[0;34m)\u001b[0m\u001b[0;34m\u001b[0m\u001b[0;34m\u001b[0m\u001b[0m\n\u001b[0m\u001b[1;32m    351\u001b[0m     \u001b[0;32mif\u001b[0m \u001b[0mcallable\u001b[0m\u001b[0;34m(\u001b[0m\u001b[0mvar_list\u001b[0m\u001b[0;34m)\u001b[0m\u001b[0;34m:\u001b[0m\u001b[0;34m\u001b[0m\u001b[0;34m\u001b[0m\u001b[0m\n\u001b[1;32m    352\u001b[0m       \u001b[0mvar_list\u001b[0m \u001b[0;34m=\u001b[0m \u001b[0mvar_list\u001b[0m\u001b[0;34m(\u001b[0m\u001b[0;34m)\u001b[0m\u001b[0;34m\u001b[0m\u001b[0;34m\u001b[0m\u001b[0m\n",
      "\u001b[0;31mTypeError\u001b[0m: 'tensorflow.python.framework.ops.EagerTensor' object is not callable"
     ]
    }
   ],
   "source": [
    "training(X_train_flatten, Y_train)"
   ]
  },
  {
   "cell_type": "code",
   "execution_count": 119,
   "metadata": {},
   "outputs": [
    {
     "name": "stdout",
     "output_type": "stream",
     "text": [
      "TensorFlow version: 2.1.0\n",
      "Eager execution: True\n",
      "tf.Tensor(473290940.0, shape=(), dtype=float32)\n",
      "tf.Tensor(472181660.0, shape=(), dtype=float32)\n",
      "tf.Tensor(471074370.0, shape=(), dtype=float32)\n",
      "tf.Tensor(469969020.0, shape=(), dtype=float32)\n",
      "tf.Tensor(468865700.0, shape=(), dtype=float32)\n",
      "tf.Tensor(467764380.0, shape=(), dtype=float32)\n",
      "tf.Tensor(466665100.0, shape=(), dtype=float32)\n",
      "tf.Tensor(465568000.0, shape=(), dtype=float32)\n",
      "tf.Tensor(464472960.0, shape=(), dtype=float32)\n",
      "tf.Tensor(463380030.0, shape=(), dtype=float32)\n"
     ]
    }
   ],
   "source": [
    "import tensorflow as tf\n",
    "import numpy as np\n",
    "\n",
    "print(\"TensorFlow version: {}\".format(tf.__version__))\n",
    "print(\"Eager execution: {}\".format(tf.executing_eagerly()))\n",
    "\n",
    "x = np.array([\n",
    "    [100, 105.4, 108.3, 111.1, 113, 114.7],\n",
    "    [11, 11.8, 12.3, 12.8, 13.1, 13.6],\n",
    "    [55, 56.3, 57, 58, 59.5, 60.4]\n",
    "])\n",
    "\n",
    "y = np.array([4000, 4200.34, 4700, 5300, 5800, 6400])\n",
    "\n",
    "\n",
    "class Model(object):\n",
    "    def __init__(self, x, y):\n",
    "        # Initialize variable to (5.0, 0.0)\n",
    "        # In practice, these should be initialized to random values.\n",
    "        self.W = tf.Variable(tf.random.normal((len(x), len(x[0]))))\n",
    "        self.b = tf.Variable(tf.random.normal((len(y),)))\n",
    "\n",
    "    def __call__(self, x):\n",
    "        return self.W * x + self.b\n",
    "\n",
    "\n",
    "def loss(predicted_y, desired_y):\n",
    "    return tf.reduce_sum(tf.square(predicted_y - desired_y))\n",
    "\n",
    "optimizer = tf.optimizers.Adam(0.1)\n",
    "# noinspection PyPep8Naming\n",
    "def train(model, inputs, outputs):\n",
    "    with tf.GradientTape() as t:\n",
    "        current_loss = loss(model(inputs), outputs)\n",
    "    grads = t.gradient(current_loss, [model.W, model.b])\n",
    "    optimizer.apply_gradients(zip(grads,[model.W, model.b]))\n",
    "    print(current_loss)\n",
    "\n",
    "\n",
    "model = Model(x, y)\n",
    "\n",
    "for i in range(10):\n",
    "    # print(model.b.numpy())\n",
    "    train(model,x,y)"
   ]
  },
  {
   "cell_type": "code",
   "execution_count": null,
   "metadata": {},
   "outputs": [],
   "source": []
  }
 ],
 "metadata": {
  "kernelspec": {
   "display_name": "Python 3",
   "language": "python",
   "name": "python3"
  },
  "language_info": {
   "codemirror_mode": {
    "name": "ipython",
    "version": 3
   },
   "file_extension": ".py",
   "mimetype": "text/x-python",
   "name": "python",
   "nbconvert_exporter": "python",
   "pygments_lexer": "ipython3",
   "version": "3.7.5"
  }
 },
 "nbformat": 4,
 "nbformat_minor": 4
}
