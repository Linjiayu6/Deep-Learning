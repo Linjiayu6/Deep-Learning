{
 "cells": [
  {
   "cell_type": "markdown",
   "metadata": {},
   "source": [
    "# Tensorflow Tutorial"
   ]
  },
  {
   "cell_type": "markdown",
   "metadata": {},
   "source": [
    "# 1 - Practice"
   ]
  },
  {
   "cell_type": "code",
   "execution_count": 59,
   "metadata": {},
   "outputs": [],
   "source": [
    "import math\n",
    "import numpy as np\n",
    "import h5py\n",
    "import matplotlib.pyplot as plt\n",
    "import tensorflow as tf\n",
    "# from tensorflow.python.framework import ops\n",
    "# from tf_utils import load_dataset, random_mini_batches, convert_to_one_hot, predict\n",
    "\n",
    "%matplotlib inline\n",
    "np.random.seed(1)"
   ]
  },
  {
   "cell_type": "markdown",
   "metadata": {},
   "source": [
    "$$cost = \\mathcal{L}(\\hat{y}, y) = (\\hat y^{(i)} - y^{(i)})^2 \\tag{1}$$"
   ]
  },
  {
   "cell_type": "code",
   "execution_count": 60,
   "metadata": {},
   "outputs": [
    {
     "name": "stdout",
     "output_type": "stream",
     "text": [
      "16\n"
     ]
    }
   ],
   "source": [
    "# 定义常量\n",
    "y_hat = tf.constant(6, name = 'y_hat')\n",
    "y = tf.constant(2, name = 'y')\n",
    "# 定义变量\n",
    "# (6 - 2) ^2 = 16\n",
    "cost = tf.Variable((y_hat - y) ** 2, name = 'cost')\n",
    "tf.print(cost)"
   ]
  },
  {
   "cell_type": "code",
   "execution_count": 61,
   "metadata": {},
   "outputs": [
    {
     "name": "stdout",
     "output_type": "stream",
     "text": [
      "tf.Tensor(12, shape=(), dtype=int32)\n",
      "12\n"
     ]
    }
   ],
   "source": [
    "c = tf.multiply(y_hat, y)\n",
    "print(c) # tf.Tensor(12, shape=(), dtype=int32)\n",
    "tf.print(c) # 12"
   ]
  },
  {
   "cell_type": "code",
   "execution_count": 62,
   "metadata": {},
   "outputs": [
    {
     "name": "stdout",
     "output_type": "stream",
     "text": [
      "tf.Tensor(6, shape=(), dtype=int32)\n"
     ]
    }
   ],
   "source": [
    "# 定义函数\n",
    "@tf.function\n",
    "def f(x):\n",
    "    return 2 * x\n",
    "\n",
    "print(f(3))"
   ]
  },
  {
   "cell_type": "markdown",
   "metadata": {},
   "source": [
    "## 1.1 - Linear Regression"
   ]
  },
  {
   "cell_type": "code",
   "execution_count": 63,
   "metadata": {},
   "outputs": [],
   "source": [
    "def linear_regression ():\n",
    "    np.random.seed(1)\n",
    "    # Y = np.dot(W.T, X) + b\n",
    "    X = np.random.randn(3, 1)\n",
    "    W = np.random.randn(3, 4)\n",
    "    b = np.random.randn(4, 1)\n",
    "    Y = tf.add(tf.matmul(W.T, X), b)\n",
    "    return Y\n",
    "    \n",
    "Y_pred = linear_regression()"
   ]
  },
  {
   "cell_type": "markdown",
   "metadata": {},
   "source": [
    "## 1.2 - Sigmoid function"
   ]
  },
  {
   "cell_type": "code",
   "execution_count": 64,
   "metadata": {},
   "outputs": [
    {
     "data": {
      "text/plain": [
       "<tf.Tensor: shape=(3, 1), dtype=float64, numpy=\n",
       "array([[0.64171493],\n",
       "       [0.2496239 ],\n",
       "       [0.75854586]])>"
      ]
     },
     "execution_count": 64,
     "metadata": {},
     "output_type": "execute_result"
    }
   ],
   "source": [
    "def sigmoid (Z):\n",
    "    # 1 / (np.exp(-Z) + 1)\n",
    "    return tf.sigmoid(Z)\n",
    "\n",
    "sigmoid(np.random.randn(3, 1))"
   ]
  },
  {
   "cell_type": "markdown",
   "metadata": {},
   "source": [
    "# 1.3 - Cost function\n",
    "\n",
    "$$ J = - \\frac{1}{m}  \\sum_{i = 1}^m  \\large ( \\small y^{(i)} \\log a^{ [2] (i)} + (1-y^{(i)})\\log (1-a^{ [2] (i)} )\\large )\\small\\tag{2}$$\n"
   ]
  },
  {
   "cell_type": "code",
   "execution_count": 65,
   "metadata": {},
   "outputs": [
    {
     "data": {
      "text/plain": [
       "<tf.Tensor: shape=(4, 1), dtype=float64, numpy=\n",
       "array([[2.40441885],\n",
       "       [0.3684111 ],\n",
       "       [5.08026603],\n",
       "       [1.35428678]])>"
      ]
     },
     "execution_count": 65,
     "metadata": {},
     "output_type": "execute_result"
    }
   ],
   "source": [
    "\"\"\"\n",
    "def cost_function (A, Y):\n",
    "    m = Y.shape[1]\n",
    "    cost = - Y * np.log(A + 1e-7) - (1 - Y) * np.log(1 - A + 1e-7)\n",
    "    return np.sum(cost) / m\n",
    "\"\"\"\n",
    "def cost_function (A, Y):\n",
    "    return tf.nn.sigmoid_cross_entropy_with_logits(A, Y)\n",
    "\n",
    "Y = tf.constant(np.random.randn(4, 1), name = 'y')\n",
    "cost_function(Y_pred, Y)"
   ]
  },
  {
   "cell_type": "markdown",
   "metadata": {},
   "source": [
    "# 1.4 - Initialize with zeros and ones\n",
    "\n",
    "- tf.ones\n",
    "- tf.zeros"
   ]
  },
  {
   "cell_type": "code",
   "execution_count": 66,
   "metadata": {},
   "outputs": [
    {
     "data": {
      "text/plain": [
       "(<tf.Tensor: shape=(2, 3), dtype=float32, numpy=\n",
       " array([[1., 1., 1.],\n",
       "        [1., 1., 1.]], dtype=float32)>,\n",
       " <tf.Tensor: shape=(2, 3), dtype=float32, numpy=\n",
       " array([[0., 0., 0.],\n",
       "        [0., 0., 0.]], dtype=float32)>)"
      ]
     },
     "execution_count": 66,
     "metadata": {},
     "output_type": "execute_result"
    }
   ],
   "source": [
    "def initialize_zeros_ones (shape):\n",
    "    ones = tf.ones(shape)\n",
    "    zeros = tf.zeros(shape)\n",
    "    return ones, zeros\n",
    "\n",
    "initialize_zeros_ones([2, 3])"
   ]
  },
  {
   "cell_type": "markdown",
   "metadata": {},
   "source": [
    "## 1.5 - One Hot encodings\n",
    "\n",
    "![image](https://github.com/Kulbear/deep-learning-coursera/raw/997fdb2e2db67acd45d29ae418212463a54be06d/Improving%20Deep%20Neural%20Networks%20Hyperparameter%20tuning,%20Regularization%20and%20Optimization/images/onehot.png)\n",
    "\n",
    "例如列表有[1, 2, 0] 三个数字, 形成矩阵为\n",
    "- 1: [0, 1, 0].T\n",
    "- 2: [0, 0, 1].T\n",
    "- 0: [1, 0, 0].T"
   ]
  },
  {
   "cell_type": "code",
   "execution_count": 100,
   "metadata": {},
   "outputs": [],
   "source": [
    "def convert_to_one_hot (Y, C):\n",
    "    return np.eye(C)[Y.reshape(-1)].T\n",
    "\n",
    "def convert_to_one_hot_TF(Y, C):\n",
    "    one_hot_matrix = tf.one_hot(indices = Y, depth = C, axis = 0)\n",
    "    return one_hot_matrix"
   ]
  },
  {
   "cell_type": "code",
   "execution_count": 101,
   "metadata": {},
   "outputs": [
    {
     "name": "stdout",
     "output_type": "stream",
     "text": [
      "[[0. 0. 1. 0. 0.]\n",
      " [1. 0. 0. 1. 0.]\n",
      " [0. 1. 0. 0. 0.]\n",
      " [0. 0. 0. 0. 1.]]\n"
     ]
    }
   ],
   "source": [
    "Y = np.array([1, 2, 0, 1, 3])\n",
    "C = 4\n",
    "\n",
    "print(convert_to_one_hot(Y, C))"
   ]
  },
  {
   "cell_type": "code",
   "execution_count": 102,
   "metadata": {},
   "outputs": [
    {
     "name": "stdout",
     "output_type": "stream",
     "text": [
      "tf.Tensor(\n",
      "[[0. 0. 1. 0. 0.]\n",
      " [1. 0. 0. 1. 0.]\n",
      " [0. 1. 0. 0. 0.]\n",
      " [0. 0. 0. 0. 1.]], shape=(4, 5), dtype=float32)\n"
     ]
    }
   ],
   "source": [
    "print(convert_to_one_hot_TF(Y, C))"
   ]
  },
  {
   "cell_type": "markdown",
   "metadata": {},
   "source": [
    "# 2 - Building NN in TF\n",
    "\n",
    "## 2.1 - Load Data"
   ]
  },
  {
   "cell_type": "code",
   "execution_count": 104,
   "metadata": {},
   "outputs": [],
   "source": [
    "def load_dataset():\n",
    "    train_dataset = h5py.File('data/train_signs.h5', \"r\")\n",
    "    train_set_x_orig = np.array(train_dataset[\"train_set_x\"][:]) # your train set features\n",
    "    train_set_y_orig = np.array(train_dataset[\"train_set_y\"][:]) # your train set labels\n",
    " \n",
    "    test_dataset = h5py.File('data/test_signs.h5', \"r\")\n",
    "    test_set_x_orig = np.array(test_dataset[\"test_set_x\"][:]) # your test set features\n",
    "    test_set_y_orig = np.array(test_dataset[\"test_set_y\"][:]) # your test set labels\n",
    " \n",
    "    classes = np.array(test_dataset[\"list_classes\"][:]) # the list of classes\n",
    "    \n",
    "    train_set_y_orig = train_set_y_orig.reshape((1, train_set_y_orig.shape[0]))\n",
    "    test_set_y_orig = test_set_y_orig.reshape((1, test_set_y_orig.shape[0]))\n",
    "    \n",
    "    return train_set_x_orig, train_set_y_orig, test_set_x_orig, test_set_y_orig, classes"
   ]
  },
  {
   "cell_type": "code",
   "execution_count": 105,
   "metadata": {},
   "outputs": [],
   "source": [
    "X_train_orig, Y_train_orig, X_test_orig, Y_test_orig, classes = load_dataset()"
   ]
  },
  {
   "cell_type": "code",
   "execution_count": 108,
   "metadata": {},
   "outputs": [
    {
     "name": "stdout",
     "output_type": "stream",
     "text": [
      "(12288, 1080)\n",
      "(6, 1080)\n"
     ]
    }
   ],
   "source": [
    "def handle_data (X_train_orig, Y_train_orig, X_test_orig, Y_test_orig):\n",
    "    # X flatten\n",
    "    X_train_flatten = X_train_orig.reshape(X_train_orig.shape[0], -1).T\n",
    "    X_test_flatten = X_test_orig.reshape(X_test_orig.shape[0], -1).T\n",
    "\n",
    "    X_train_flatten = X_train_flatten / 255.\n",
    "    X_test_flatten = X_test_flatten / 255.\n",
    "    \n",
    "    # Y softmax\n",
    "    # [1, 2, 0] => softmax 变换\n",
    "    Y_train = convert_to_one_hot(Y_train_orig, 6)\n",
    "    Y_test = convert_to_one_hot(Y_test_orig, 6)\n",
    "    \n",
    "    return X_train_flatten, X_test_flatten, Y_train, Y_test\n",
    "\n",
    "X_train_flatten, X_test_flatten, Y_train, Y_test = handle_data (X_train_orig, Y_train_orig, X_test_orig, Y_test_orig)\n",
    "\n",
    "print(X_train_flatten.shape) # (12288, 1080)\n",
    "print(Y_train.shape) # (6, 1080)\n"
   ]
  },
  {
   "cell_type": "code",
   "execution_count": 109,
   "metadata": {},
   "outputs": [
    {
     "name": "stdout",
     "output_type": "stream",
     "text": [
      "Label:  2\n",
      "Label:  [0. 0. 1. 0. 0. 0.]\n"
     ]
    },
    {
     "data": {
      "image/png": "[encoded data removed]",
      "text/plain": [
       "<Figure size 432x288 with 1 Axes>"
      ]
     },
     "metadata": {
      "needs_background": "light"
     },
     "output_type": "display_data"
    }
   ],
   "source": [
    "index = 6\n",
    "plt.imshow(X_train_orig[index])\n",
    "print('Label: ', np.squeeze(Y_train_orig[:, index]))\n",
    "print('Label: ', Y_train[:, index])"
   ]
  },
  {
   "cell_type": "markdown",
   "metadata": {},
   "source": [
    "## 2.2 - Initializing parameters"
   ]
  },
  {
   "cell_type": "code",
   "execution_count": 115,
   "metadata": {},
   "outputs": [],
   "source": [
    "features = X_train_flatten.shape[0]\n",
    "# softmax 输出6个数字\n",
    "Layers = np.array([features, 25, 12, 6])"
   ]
  },
  {
   "cell_type": "code",
   "execution_count": 140,
   "metadata": {},
   "outputs": [],
   "source": [
    "def init_parameters (Layers):\n",
    "    np.random.seed(1)\n",
    "    \n",
    "    l_input = Layers[0]\n",
    "    l_hidden_1 = Layers[1]\n",
    "    l_hidden_2 = Layers[2]\n",
    "    l_output = Layers[3]\n",
    "\n",
    "    W1 = tf.Variable(np.random.randn(l_input, l_hidden_1))\n",
    "    b1 = tf.Variable(np.zeros(shape = (l_hidden_1, 1)))\n",
    "    \n",
    "    W2 = tf.Variable(np.random.randn(l_hidden_1, l_hidden_2))\n",
    "    b2 = tf.Variable(np.zeros(shape = (l_hidden_2, 1)))\n",
    "    \n",
    "    W3 = tf.Variable(np.random.randn(l_hidden_2, l_output))\n",
    "    b3 = tf.Variable(np.zeros(shape = (l_output, 1)))\n",
    "    \n",
    "    parameters = {\n",
    "        \"W1\": W1,\n",
    "        \"b1\": b1,\n",
    "        \"W2\": W2,\n",
    "        \"b2\": b2,\n",
    "        \"W3\": W3,\n",
    "        \"b3\": b3\n",
    "    }\n",
    "    return parameters\n"
   ]
  },
  {
   "cell_type": "code",
   "execution_count": 141,
   "metadata": {},
   "outputs": [],
   "source": [
    "parameters = init_parameters (Layers)"
   ]
  },
  {
   "cell_type": "markdown",
   "metadata": {},
   "source": [
    "## 2.3 - Forward Propagation"
   ]
  },
  {
   "cell_type": "code",
   "execution_count": 177,
   "metadata": {},
   "outputs": [],
   "source": [
    "def forward_propagation (X, parameters):\n",
    "    p = parameters\n",
    "    W1 = p['W1']\n",
    "    b1 = p['b1']\n",
    "    \n",
    "    W2 = p['W2']\n",
    "    b2 = p['b2']\n",
    "    \n",
    "    W3 = p['W3']\n",
    "    b3 = p['b3']\n",
    "    \n",
    "    # np.dot(W.T, X) + b\n",
    "    Z1 = np.dot(tf.transpose(W1), X) + b1\n",
    "    A1 = tf.nn.relu(Z1)\n",
    "    \n",
    "    Z2 = np.dot(tf.transpose(W2), A1) + b2\n",
    "    A2 = tf.nn.relu(Z2)\n",
    "    \n",
    "    Z3 = np.dot(tf.transpose(W3), A2) + b3\n",
    "\n",
    "    return Z3"
   ]
  },
  {
   "cell_type": "code",
   "execution_count": 179,
   "metadata": {},
   "outputs": [],
   "source": [
    "Z3 = forward_propagation(X_train_flatten, parameters)"
   ]
  },
  {
   "cell_type": "markdown",
   "metadata": {},
   "source": [
    "## 2.4 - Cost Function"
   ]
  },
  {
   "cell_type": "code",
   "execution_count": null,
   "metadata": {},
   "outputs": [],
   "source": []
  }
 ],
 "metadata": {
  "kernelspec": {
   "display_name": "Python 3",
   "language": "python",
   "name": "python3"
  },
  "language_info": {
   "codemirror_mode": {
    "name": "ipython",
    "version": 3
   },
   "file_extension": ".py",
   "mimetype": "text/x-python",
   "name": "python",
   "nbconvert_exporter": "python",
   "pygments_lexer": "ipython3",
   "version": "3.7.5"
  }
 },
 "nbformat": 4,
 "nbformat_minor": 4
}
