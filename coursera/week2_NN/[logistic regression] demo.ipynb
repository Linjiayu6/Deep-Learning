{
 "cells": [
  {
   "cell_type": "code",
   "execution_count": 163,
   "metadata": {},
   "outputs": [],
   "source": [
    "import numpy as np\n",
    "\n",
    "# 加载数据\n",
    "def load_data ():\n",
    "    fr = open('./data/logistic_regression_data.txt')\n",
    "\n",
    "    X, y = [], []\n",
    "    for linestr in fr.readlines():\n",
    "        arr = linestr.strip().split()\n",
    "        X.append([1.0, float(arr[0]), float(arr[1])])\n",
    "        y.append([int(arr[2])])\n",
    "\n",
    "    X = np.array(X)\n",
    "    y = np.array(y)\n",
    "    \n",
    "    fr.close()\n",
    "    return X, y\n",
    "    \n",
    "X_data, y_data = load_data()\n",
    "\n",
    "X = X_data[:80]\n",
    "y = y_data[:80]\n",
    "\n",
    "test_X = X_data[80:]\n",
    "test_y = y_data[80:]"
   ]
  },
  {
   "cell_type": "code",
   "execution_count": 164,
   "metadata": {},
   "outputs": [],
   "source": [
    "# sigmoid function\n",
    "def sigmoid (z):\n",
    "    return 1 / (1 + np.exp(-z))\n",
    "\n",
    "# loss function a = h(x) = sigmoid(z) => predicting data\n",
    "def cost_fn (y, a):\n",
    "    epsilon = 1e-5\n",
    "    # return -y * log(a) - (1 - y) * log(1 - a) \n",
    "    return np.mean(- y * np.log2(a + epsilon) - (1 - y) * np.log2(1 - a + epsilon))\n",
    "\n",
    "# dloss / dz\n",
    "def dloss_dz_derivatives (y, a):\n",
    "    return y - a"
   ]
  },
  {
   "cell_type": "code",
   "execution_count": 186,
   "metadata": {},
   "outputs": [
    {
     "name": "stdout",
     "output_type": "stream",
     "text": [
      "[6.608979965240584, 0.8157264307801793, 0.7010657435717605, 0.6931475799851533, 0.6858337629317168, 0.6787584774731479, 0.6719064242414591, 0.6652655515764938, 0.6588246492368381, 0.6525732828948523, 0.6465017446225841, 0.6406010039184729, 0.6348626599257792, 0.62927889539122, 0.6238424327503329, 0.6185464925935328, 0.6133847546596323, 0.6083513214187307, 0.6034406842407603, 0.5986476920966395, 0.5939675227031396, 0.5893956559977139, 0.5849278498134766, 0.5805601176153548, 0.5762887081546169, 0.5721100868991436, 0.5680209190999485, 0.5640180543596605, 0.5600985125753071, 0.5562594711352377, 0.55249825325801, 0.5488123173691992, 0.5451992474201816, 0.541656744060811, 0.5381826165854374, 0.5347747755788477, 0.5314312261953923, 0.5281500620107682, 0.5249294593916742, 0.5217676723338206, 0.5186630277236054, 0.5156139209831612, 0.5126188120624746, 0.5096762217458934, 0.5067847282436142, 0.5039429640416884, 0.5011496129867493, 0.49840340758404783, 0.4957031264895411, 0.49304759217870286]\n",
      "Train accuracy: {} % 110.96405557435106\n"
     ]
    }
   ],
   "source": [
    "# 1. z = w.T * x + b = w.T * x (x0 = 1)\n",
    "# 2. a = sigmoid(z)\n",
    "# 3. dw -= alpha * dw\n",
    "# dw = (y - a) x 或 (y - h(x)) x\n",
    "\n",
    "def train ():\n",
    "    m, n = X.shape # 100 samples, 3 features (2 features + x0 = 1)\n",
    "    alpha = 0.02\n",
    "    loop_num = 500\n",
    "    \n",
    "    # init Weights 3 * 1 [[w0], [w1], [w2]]\n",
    "    W = np.random.rand(n, 1)\n",
    "    L_arr = []\n",
    "    \n",
    "    for i in range(loop_num):\n",
    "        Z = np.dot(X, W)\n",
    "        A = sigmoid(Z)\n",
    "\n",
    "        # ***** A - y ***** 不要写成 y - A (公式推导)\n",
    "        dL_dw = 1 / m * np.dot(X.T, A - y)\n",
    "        W = W - alpha * dL_dw\n",
    "        \n",
    "        # evaluate\n",
    "        if (i % 10 == 0):\n",
    "            L_arr.append(cost_fn(y, sigmoid(np.dot(X, W))))\n",
    "\n",
    "    print(L_arr)\n",
    "    return W\n",
    "\n",
    "train_W = train()\n",
    "\n",
    "# 训练值\n",
    "train_y = sigmoid(np.dot(X, train_W))\n",
    "# train_accuracy = 100 - np.mean(train_y - y) * 100\n",
    "\n",
    "print(\"Train accuracy: {} %\", train_accuracy)"
   ]
  },
  {
   "cell_type": "code",
   "execution_count": 185,
   "metadata": {},
   "outputs": [
    {
     "name": "stdout",
     "output_type": "stream",
     "text": [
      "[[0.32149744]\n",
      " [0.88551685]\n",
      " [0.29412386]\n",
      " [0.51273615]\n",
      " [0.65503091]\n",
      " [0.84669685]\n",
      " [0.52585871]\n",
      " [0.15644639]\n",
      " [0.61866606]\n",
      " [0.81626727]\n",
      " [0.84775686]\n",
      " [0.17289354]\n",
      " [0.22297694]\n",
      " [0.7789005 ]\n",
      " [0.7133681 ]\n",
      " [0.7250758 ]\n",
      " [0.20793201]\n",
      " [0.67629675]\n",
      " [0.32174415]\n",
      " [0.06646688]] [[0]\n",
      " [1]\n",
      " [0]\n",
      " [1]\n",
      " [1]\n",
      " [1]\n",
      " [1]\n",
      " [0]\n",
      " [1]\n",
      " [1]\n",
      " [1]\n",
      " [0]\n",
      " [0]\n",
      " [1]\n",
      " [1]\n",
      " [1]\n",
      " [0]\n",
      " [1]\n",
      " [0]\n",
      " [0]]\n"
     ]
    }
   ],
   "source": [
    "# testing set to predict\n",
    "def test ():\n",
    "    test_A = sigmoid(np.dot(test_X, train_W))\n",
    "    print(test_A, test_y)\n",
    "    # print(\"Test accuracy: {} %\", 100 - np.mean(test_A - test_y) * 100)\n",
    "\n",
    "test()"
   ]
  },
  {
   "cell_type": "code",
   "execution_count": 162,
   "metadata": {},
   "outputs": [],
   "source": [
    "def draw ():\n",
    "    m = X.shape[0] # 样本的个数                                    \n",
    "    positive_x, positive_y = [], []\n",
    "    negative_x, negative_y = [], []\n",
    "    for i in range(m):\n",
    "        _x, _y = X[i][1], X[i][2]\n",
    "        if y[i] == 1: # 正样本\n",
    "            positive_x.append(_x)\n",
    "            positive_y.append(_y)\n",
    "        else:  #0为负样本\n",
    "            negative_x.append(_x)\n",
    "            negative_y.append(_y)\n",
    "    \n",
    "    fig = plt.figure()\n",
    "    ax = fig.add_subplot(111)\n",
    "    ax.scatter(positive_x, positive_y, s = 20, c = 'red', marker = 's',alpha=.5)\n",
    "    ax.scatter(negative_x, negative_y, s = 20, c = 'green',alpha=.5)       \n",
    "    \n",
    "    plt.title('positive: red; negative: green')                                                \n",
    "    plt.show()\n",
    "    \n",
    "# draw()"
   ]
  },
  {
   "cell_type": "code",
   "execution_count": null,
   "metadata": {},
   "outputs": [],
   "source": []
  }
 ],
 "metadata": {
  "kernelspec": {
   "display_name": "Python 3",
   "language": "python",
   "name": "python3"
  },
  "language_info": {
   "codemirror_mode": {
    "name": "ipython",
    "version": 3
   },
   "file_extension": ".py",
   "mimetype": "text/x-python",
   "name": "python",
   "nbconvert_exporter": "python",
   "pygments_lexer": "ipython3",
   "version": "3.7.5"
  }
 },
 "nbformat": 4,
 "nbformat_minor": 4
}