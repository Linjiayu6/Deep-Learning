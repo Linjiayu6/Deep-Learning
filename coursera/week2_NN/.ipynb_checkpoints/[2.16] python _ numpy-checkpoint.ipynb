{
 "cells": [
  {
   "cell_type": "code",
   "execution_count": 1,
   "metadata": {},
   "outputs": [
    {
     "name": "stdout",
     "output_type": "stream",
     "text": [
      "[ 1.12783941 -0.98621401  0.67945101 -0.95293142  0.30347144]\n"
     ]
    }
   ],
   "source": [
    "import numpy as np\n",
    "\n",
    "# randn函数返回一个或一组样本，具有标准正态分布\n",
    "a = np.random.randn(5)\n",
    "print(a)"
   ]
  },
  {
   "cell_type": "code",
   "execution_count": 2,
   "metadata": {},
   "outputs": [
    {
     "name": "stdout",
     "output_type": "stream",
     "text": [
      "[0.30976591 0.15761357 0.46191303 0.86829499 0.18004099]\n"
     ]
    }
   ],
   "source": [
    "# rand [0, 1)\n",
    "b = np.random.rand(5)\n",
    "print(b)"
   ]
  },
  {
   "cell_type": "code",
   "execution_count": 3,
   "metadata": {},
   "outputs": [
    {
     "name": "stdout",
     "output_type": "stream",
     "text": [
      "(5,)\n"
     ]
    }
   ],
   "source": [
    "print(b.shape)"
   ]
  },
  {
   "cell_type": "code",
   "execution_count": 7,
   "metadata": {},
   "outputs": [
    {
     "name": "stdout",
     "output_type": "stream",
     "text": [
      "[ 1.12783941 -0.98621401  0.67945101 -0.95293142  0.30347144]\n"
     ]
    }
   ],
   "source": [
    "# 看起来是和 a一样的\n",
    "print(a.T)"
   ]
  },
  {
   "cell_type": "code",
   "execution_count": 6,
   "metadata": {},
   "outputs": [
    {
     "name": "stdout",
     "output_type": "stream",
     "text": [
      "3.7064667123873023\n",
      "3.7064667123873023\n"
     ]
    }
   ],
   "source": [
    "# 其实是转置的。哈哈哈哈哈哈。\n",
    "print(np.dot(a.T, a))\n",
    "print(np.dot(a, a.T))"
   ]
  },
  {
   "cell_type": "code",
   "execution_count": 12,
   "metadata": {},
   "outputs": [
    {
     "name": "stdout",
     "output_type": "stream",
     "text": [
      "[[ 1.96483492  0.08478469  0.88291285 -1.11431926]\n",
      " [-0.6150558  -0.41147067  0.33629622  0.10540594]\n",
      " [-0.36626259 -0.88265429  1.58351547 -0.4337221 ]]\n"
     ]
    }
   ],
   "source": [
    "# 3 * 4 matrix\n",
    "C = np.random.randn(3, 4)\n",
    "print(C)"
   ]
  },
  {
   "cell_type": "code",
   "execution_count": 15,
   "metadata": {},
   "outputs": [
    {
     "name": "stdout",
     "output_type": "stream",
     "text": [
      "[[0.40919071]\n",
      " [0.12213752]\n",
      " [0.27079657]\n",
      " [0.27858239]\n",
      " [0.82860157]]\n"
     ]
    }
   ],
   "source": []
  },
  {
   "cell_type": "code",
   "execution_count": 16,
   "metadata": {},
   "outputs": [
    {
     "name": "stdout",
     "output_type": "stream",
     "text": [
      "[[ 1.96483492 -0.6150558  -0.36626259]\n",
      " [ 0.08478469 -0.41147067 -0.88265429]\n",
      " [ 0.88291285  0.33629622  1.58351547]\n",
      " [-1.11431926  0.10540594 -0.4337221 ]]\n"
     ]
    }
   ],
   "source": [
    "print(C.T)"
   ]
  },
  {
   "cell_type": "code",
   "execution_count": null,
   "metadata": {},
   "outputs": [],
   "source": [
    "# 5*1\n",
    "D = np.random.rand(5, 1)\n",
    "print(D)"
   ]
  }
 ],
 "metadata": {
  "kernelspec": {
   "display_name": "Python 3",
   "language": "python",
   "name": "python3"
  },
  "language_info": {
   "codemirror_mode": {
    "name": "ipython",
    "version": 3
   },
   "file_extension": ".py",
   "mimetype": "text/x-python",
   "name": "python",
   "nbconvert_exporter": "python",
   "pygments_lexer": "ipython3",
   "version": "3.7.5"
  }
 },
 "nbformat": 4,
 "nbformat_minor": 4
}
