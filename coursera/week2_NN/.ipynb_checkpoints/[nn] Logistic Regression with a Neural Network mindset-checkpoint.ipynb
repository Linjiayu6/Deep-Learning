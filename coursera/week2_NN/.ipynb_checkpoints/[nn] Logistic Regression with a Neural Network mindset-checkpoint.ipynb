{
 "cells": [
  {
   "cell_type": "markdown",
   "metadata": {},
   "source": [
    "#  1 - Overview: build NN to recognize cats\n",
    "\n",
    "1. Build the general **architecture** of a learning algorithm, including:\n",
    "- Initializing parameters\n",
    "- Calculating the cost function and its gradient\n",
    "- Using an optimization algorithm (gradient descent)\n",
    "   \n",
    "2. Gather all three functions above into a main model function, in the right order."
   ]
  },
  {
   "cell_type": "code",
   "execution_count": 12,
   "metadata": {},
   "outputs": [],
   "source": [
    "import numpy as np\n",
    "\n",
    "import matplotlib.pyplot as plt\n",
    "import h5py\n",
    "import scipy\n",
    "from PIL import Image\n",
    "from scipy import ndimage\n",
    "\n",
    "%matplotlib inline"
   ]
  },
  {
   "cell_type": "markdown",
   "metadata": {},
   "source": [
    "# 2 - Load dataset\n",
    "\n",
    "- y = 0 or 1\n",
    "- every image of shape is (num_px, num_px, 3) (height, width, RGB)\n",
    "\n",
    "## 2.1 def load_dataset()"
   ]
  },
  {
   "cell_type": "code",
   "execution_count": 76,
   "metadata": {
    "scrolled": true
   },
   "outputs": [],
   "source": [
    "# Loading the data\n",
    "def load_dataset():  \n",
    "    train_dataset = h5py.File('data/train_catvnoncat.h5', \"r\")\n",
    "    # 209 samples, 64 * 64 pixels\n",
    "    train_X = np.array(train_dataset[\"train_set_x\"][:]) # (209, 64, 64, 3) \n",
    "    train_y = np.array(train_dataset[\"train_set_y\"][:]) # (209,)\n",
    "  \n",
    "    test_dataset = h5py.File('data/test_catvnoncat.h5', \"r\")  \n",
    "    # 50 samples\n",
    "    test_X = np.array(test_dataset[\"test_set_x\"][:]) # (50, 64, 64, 3)\n",
    "    test_y = np.array(test_dataset[\"test_set_y\"][:]) # (50,)\n",
    "  \n",
    "    # label\n",
    "    classes = np.array(test_dataset[\"list_classes\"][:]) # [b'non-cat' b'cat'] \n",
    "    \n",
    "    # y = [...] => y = [[...]]\n",
    "    train_y = np.array([train_y]) # train_y = train_y.reshape((1, train_y.shape[0]))\n",
    "    test_y = np.array([test_y]) # test_y = test_y.reshape((1, test_y.shape[0])) \n",
    "    \n",
    "    return train_X, train_y, test_X, test_y, classes"
   ]
  },
  {
   "cell_type": "code",
   "execution_count": 77,
   "metadata": {},
   "outputs": [],
   "source": [
    "train_X, train_y, test_X, test_y, classes = load_dataset()"
   ]
  },
  {
   "cell_type": "markdown",
   "metadata": {},
   "source": [
    "## 2.2 - Show Image\n",
    "\n",
    "- plt.imshow()"
   ]
  },
  {
   "cell_type": "code",
   "execution_count": 93,
   "metadata": {
    "scrolled": false
   },
   "outputs": [
    {
     "name": "stdout",
     "output_type": "stream",
     "text": [
      "y =  1\n"
     ]
    },
    {
     "data": {
      "image/png": "[encoded data removed]",
      "text/plain": [
       "<Figure size 432x288 with 1 Axes>"
      ]
     },
     "metadata": {
      "needs_background": "light"
     },
     "output_type": "display_data"
    }
   ],
   "source": [
    "index = 29\n",
    "plt.imshow(train_X[index]) # first image\n",
    "print('y = ', train_y[0][index]) # is cat = 1"
   ]
  },
  {
   "cell_type": "markdown",
   "metadata": {},
   "source": [
    "# 3 - Standardize dataset\n",
    "\n",
    "## 3.1 - Reshape datasets"
   ]
  },
  {
   "cell_type": "code",
   "execution_count": 94,
   "metadata": {},
   "outputs": [],
   "source": [
    "\"\"\"\n",
    "flatten dataset\n",
    "  train_X (209, 64, 64, 3)\n",
    "  一个样本图片: 64 * 64 * 3, 需要拍平 (64 * 64 * 3) * 1 vector\n",
    "\"\"\"\n",
    "\n",
    "# flatten a matrix X of shape (a,b,c,d) to a matrix X_flatten of shape (b*c*d, a) is to use\n",
    "\n",
    "# (12288, 209) 一行 一个样本数据 209个样本数据\n",
    "train_set_flatten = train_X.reshape(train_X.shape[0], -1).T \n",
    "test_set_flatten = test_X.reshape(test_X.shape[0], -1).T\n"
   ]
  },
  {
   "cell_type": "markdown",
   "metadata": {},
   "source": [
    "## 3.2 - \"Standardize\" the data"
   ]
  },
  {
   "cell_type": "code",
   "execution_count": null,
   "metadata": {},
   "outputs": [],
   "source": [
    "\"\"\"\n",
    "RGB: 取值范围为 0~255\n",
    "X数据需要 / 255\n",
    "\"\"\"\n",
    "\n",
    "train_set_flatten = train_set_flatten / 255.\n",
    "test_set_flatten = test_set_flatten / 255."
   ]
  },
  {
   "cell_type": "code",
   "execution_count": null,
   "metadata": {},
   "outputs": [],
   "source": []
  }
 ],
 "metadata": {
  "kernelspec": {
   "display_name": "Python 3",
   "language": "python",
   "name": "python3"
  },
  "language_info": {
   "codemirror_mode": {
    "name": "ipython",
    "version": 3
   },
   "file_extension": ".py",
   "mimetype": "text/x-python",
   "name": "python",
   "nbconvert_exporter": "python",
   "pygments_lexer": "ipython3",
   "version": "3.7.5"
  }
 },
 "nbformat": 4,
 "nbformat_minor": 4
}
