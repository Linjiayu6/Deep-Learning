{
 "cells": [
  {
   "cell_type": "code",
   "execution_count": null,
   "metadata": {},
   "outputs": [],
   "source": [
    "#lr_utils.py  \n",
    "\n",
    "import numpy as np  \n",
    "import h5py  \n",
    "# h5py 是 python 中用于处理 H5 文件的接口\n",
    "          \n",
    "def load_dataset():  \n",
    "    train_dataset = h5py.File('data/train_catvnoncat.h5', \"r\")  \n",
    "    train_set_x_orig = np.array(train_dataset[\"train_set_x\"][:]) # your train set features  \n",
    "    train_set_y_orig = np.array(train_dataset[\"train_set_y\"][:]) # your train set labels  \n",
    "  \n",
    "    test_dataset = h5py.File('data/test_catvnoncat.h5', \"r\")  \n",
    "    test_set_x_orig = np.array(test_dataset[\"test_set_x\"][:]) # your test set features  \n",
    "    test_set_y_orig = np.array(test_dataset[\"test_set_y\"][:]) # your test set labels  \n",
    "  \n",
    "    classes = np.array(test_dataset[\"list_classes\"][:]) # the list of classes  \n",
    "      \n",
    "    train_set_y_orig = train_set_y_orig.reshape((1, train_set_y_orig.shape[0]))  \n",
    "    test_set_y_orig = test_set_y_orig.reshape((1, test_set_y_orig.shape[0]))  \n",
    "      \n",
    "    return train_set_x_orig, train_set_y_orig, test_set_x_orig, test_set_y_orig, classes "
   ]
  }
 ],
 "metadata": {
  "kernelspec": {
   "display_name": "Python 3",
   "language": "python",
   "name": "python3"
  },
  "language_info": {
   "codemirror_mode": {
    "name": "ipython",
    "version": 3
   },
   "file_extension": ".py",
   "mimetype": "text/x-python",
   "name": "python",
   "nbconvert_exporter": "python",
   "pygments_lexer": "ipython3",
   "version": "3.7.5"
  }
 },
 "nbformat": 4,
 "nbformat_minor": 4
}
