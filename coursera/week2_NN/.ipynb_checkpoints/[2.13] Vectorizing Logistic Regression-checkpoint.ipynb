{
 "cells": [
  {
   "cell_type": "code",
   "execution_count": 24,
   "metadata": {},
   "outputs": [
    {
     "name": "stdout",
     "output_type": "stream",
     "text": [
      "15\n",
      "26\n"
     ]
    }
   ],
   "source": [
    "import numpy as np\n",
    "\n",
    "w = np.array([1,2,3,4])\n",
    "b = np.array([5,6])\n",
    "\n",
    "x1 = np.array([1, 1, 1, 1])\n",
    "x2 = np.array([2, 2, 2, 2])\n",
    "\n",
    "# wx1 + b[0]\n",
    "z1 = np.sum(x1 * w) + b[0]\n",
    "# wx2 + b[1]\n",
    "z2 = np.sum(x2 * w) + b[1]\n",
    "\n",
    "print(z1)\n",
    "print(z2)"
   ]
  },
  {
   "cell_type": "code",
   "execution_count": 25,
   "metadata": {},
   "outputs": [
    {
     "name": "stdout",
     "output_type": "stream",
     "text": [
      "[15 26]\n"
     ]
    }
   ],
   "source": [
    "import numpy as np\n",
    "\n",
    "w = np.array([1,2,3,4])\n",
    "b = np.array([5,6])\n",
    "\n",
    "x1 = np.array([1, 1, 1, 1])\n",
    "x2 = np.array([2, 2, 2, 2])\n",
    "\n",
    "X = np.array([ x1, x2 ])\n",
    "\n",
    "# matrix multiplication\n",
    "Z = np.dot(w, X.T) + b\n",
    "print(Z)"
   ]
  }
 ],
 "metadata": {
  "kernelspec": {
   "display_name": "Python 3",
   "language": "python",
   "name": "python3"
  },
  "language_info": {
   "codemirror_mode": {
    "name": "ipython",
    "version": 3
   },
   "file_extension": ".py",
   "mimetype": "text/x-python",
   "name": "python",
   "nbconvert_exporter": "python",
   "pygments_lexer": "ipython3",
   "version": "3.7.5"
  }
 },
 "nbformat": 4,
 "nbformat_minor": 4
}
