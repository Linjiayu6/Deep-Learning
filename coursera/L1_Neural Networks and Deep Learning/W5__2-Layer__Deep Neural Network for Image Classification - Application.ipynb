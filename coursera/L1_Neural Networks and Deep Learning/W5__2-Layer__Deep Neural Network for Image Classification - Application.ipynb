{
 "cells": [
  {
   "cell_type": "markdown",
   "metadata": {},
   "source": [
    "# Deep Neural Network for Image Classification: Application I\n",
    "\n",
    "- Build and apply a deep neural network to supervised learning.\n",
    "- 2 Layer NN"
   ]
  },
  {
   "cell_type": "markdown",
   "metadata": {},
   "source": [
    "# 1 - Packages & Load Data\n",
    "\n",
    "- np.random.seed(1) is used to keep all the random function calls consistent. It will help us grade your work."
   ]
  },
  {
   "cell_type": "code",
   "execution_count": 14,
   "metadata": {},
   "outputs": [],
   "source": [
    "import time\n",
    "import numpy as np\n",
    "import h5py\n",
    "import matplotlib.pyplot as plt\n",
    "import scipy\n",
    "from PIL import Image\n",
    "from scipy import ndimage\n",
    "\n",
    "from tools.activation_function import sigmoid, sigmoid_derivative, ReLU, ReLU_derivative, tanh, tanh_derivative\n",
    "\n",
    "%matplotlib inline\n",
    "np.random.seed(1)"
   ]
  },
  {
   "cell_type": "code",
   "execution_count": 15,
   "metadata": {},
   "outputs": [],
   "source": [
    "# Loading the data\n",
    "def load_dataset():  \n",
    "    train_dataset = h5py.File('data/train_catvnoncat.h5', \"r\")\n",
    "    # 209 samples, 64 * 64 pixels\n",
    "    train_X = np.array(train_dataset[\"train_set_x\"][:]) # (209, 64, 64, 3) \n",
    "    train_y = np.array(train_dataset[\"train_set_y\"][:]) # (209,)\n",
    "  \n",
    "    test_dataset = h5py.File('data/test_catvnoncat.h5', \"r\")  \n",
    "    # 50 samples\n",
    "    test_X = np.array(test_dataset[\"test_set_x\"][:]) # (50, 64, 64, 3)\n",
    "    test_y = np.array(test_dataset[\"test_set_y\"][:]) # (50,)\n",
    "  \n",
    "    # label\n",
    "    classes = np.array(test_dataset[\"list_classes\"][:]) # [b'non-cat' b'cat'] \n",
    "    \n",
    "    # y = [...] => y = [[...]]\n",
    "    train_y = np.array([train_y]) # train_y = train_y.reshape((1, train_y.shape[0]))\n",
    "    test_y = np.array([test_y]) # test_y = test_y.reshape((1, test_y.shape[0])) \n",
    "    \n",
    "    return train_X, train_y, test_X, test_y, classes\n",
    "\n",
    "train_X, train_y, test_X, test_y, classes = load_dataset()"
   ]
  },
  {
   "cell_type": "code",
   "execution_count": 16,
   "metadata": {},
   "outputs": [
    {
     "name": "stdout",
     "output_type": "stream",
     "text": [
      "y = 0. It's a non-cat picture.\n"
     ]
    },
    {
     "data": {
      "image/png": "[encoded data removed]",
      "text/plain": [
       "<Figure size 432x288 with 1 Axes>"
      ]
     },
     "metadata": {
      "needs_background": "light"
     },
     "output_type": "display_data"
    }
   ],
   "source": [
    "# show Image\n",
    "def showImg ():\n",
    "    index = 10\n",
    "    plt.imshow(train_X[index])\n",
    "    print (\"y = \" + str(train_y[0, index]) + \". It's a \" + classes[train_y[0, index]].decode(\"utf-8\") + \" picture.\")\n",
    "\n",
    "showImg()"
   ]
  },
  {
   "cell_type": "code",
   "execution_count": 17,
   "metadata": {},
   "outputs": [],
   "source": [
    "# Explore ur dataset\n",
    "\n",
    "# print(train_X.shape) # (209, 64, 64, 3)\n",
    "# print(train_y.shape) # (1, 209)\n",
    "\n",
    "# the number of training samples\n",
    "m_train = train_y.shape[1] # 209\n",
    "\n",
    "# the number of test samples\n",
    "m_test = test_y.shape[1] # 50\n",
    "\n",
    "# size of image 64 * 64 * 3\n",
    "num_px = train_X.shape[1: 4] # (64, 64, 3)\n"
   ]
  },
  {
   "cell_type": "code",
   "execution_count": 18,
   "metadata": {},
   "outputs": [],
   "source": [
    "def handle_data ():\n",
    "    # train_X: (209, 64, 64, 3) => (209, 64 * 64 * 3) => (64 * 64 * 3, 209)\n",
    "    X_train_flatten = train_X.reshape(m_train, -1).T\n",
    "    X_test_flatten = test_X.reshape(m_test, -1).T\n",
    "    \n",
    "    # Standardize data to have feature values between 0 and 1.\n",
    "    X_train_flatten = X_train_flatten / 255\n",
    "    X_test_flatten = X_test_flatten / 255\n",
    "\n",
    "    return X_train_flatten, X_test_flatten\n",
    "\n",
    "X_train_flatten, X_test_flatten = handle_data()\n",
    "# print(X_train_flatten.shape) # (12288, 209)\n",
    "# print(X_test_flatten.shape) # (12288, 50)"
   ]
  },
  {
   "cell_type": "markdown",
   "metadata": {},
   "source": [
    "# 2 - Model (Deep NN)\n",
    "\n",
    "## 2-1 L-layer deep neural network\n",
    "![L-layer deep neural network](https://github.com/Kulbear/deep-learning-coursera/raw/997fdb2e2db67acd45d29ae418212463a54be06d/Neural%20Networks%20and%20Deep%20Learning/images/LlayerNN_kiank.png)"
   ]
  },
  {
   "cell_type": "markdown",
   "metadata": {},
   "source": [
    "# 2-2 Process\n",
    "\n",
    "1. initialize parameters / define hyperparameters\n",
    "\n",
    "2. train: \n",
    "```\n",
    "   a. forward propagation\n",
    "   b. J = cost function\n",
    "   c. backward propagation\n",
    "   d. gradient descent\n",
    "```\n",
    "\n",
    "3. predict"
   ]
  },
  {
   "cell_type": "markdown",
   "metadata": {},
   "source": [
    "# 3 - Two - Layer NN\n",
    "\n",
    "![image](https://github.com/Kulbear/deep-learning-coursera/raw/997fdb2e2db67acd45d29ae418212463a54be06d/Neural%20Networks%20and%20Deep%20Learning/images/2layerNN_kiank.png)"
   ]
  },
  {
   "cell_type": "code",
   "execution_count": 62,
   "metadata": {},
   "outputs": [],
   "source": [
    "class TwoLayerNN ():\n",
    "    def __init__(self, Layers, X, y):\n",
    "        # 输入层, 隐藏层, 输出层的个数\n",
    "        self.input_n = Layers[0]\n",
    "        self.hidden_n = Layers[1]\n",
    "        self.output_n = Layers[2]\n",
    "        \n",
    "        # Weights and Bias\n",
    "        W1 = np.random.randn(self.input_n, self.hidden_n) * 0.01\n",
    "        b1 = np.zeros(shape = (self.hidden_n, 1))\n",
    "        \n",
    "        W2 = np.random.randn(self.hidden_n, self.output_n) * 0.01\n",
    "        b2 = np.zeros(shape = (self.output_n, 1))\n",
    "        \n",
    "        self.parameters = {\n",
    "            'W1': W1,\n",
    "            'b1': b1,\n",
    "            'W2': W2,\n",
    "            'b2': b2\n",
    "        }\n",
    "        \n",
    "        # hyperparameters\n",
    "        self.hyperparameters = {\n",
    "            'iterations': 3000,\n",
    "            'alpha': 0.0075\n",
    "        }\n",
    "        \n",
    "        self.A = {\n",
    "            'A0': X\n",
    "        }\n",
    "        \n",
    "        self.y = y\n",
    "        self.J = 0\n",
    "        self.dJ_dW_db = {}\n",
    "    \n",
    "    def forward_item (self, A_prev, W, b):\n",
    "        return np.dot(W.T, A_prev) + b\n",
    "\n",
    "    def forward_propagation (self):\n",
    "        A = self.A\n",
    "        parameters = self.parameters\n",
    "\n",
    "        A0 = A['A0'] # (12288, 209)\n",
    "        \n",
    "        # Z1, A1 (7 * 209)\n",
    "        # Z1 = np.dot(parameters['W1'].T, A0) + parameters['b1']\n",
    "        Z1 = self.forward_item(A0, parameters['W1'], parameters['b1'])\n",
    "        A1 = ReLU(Z1)\n",
    "        \n",
    "        # Z2, A2 (1 * 209)\n",
    "        # Z2 = np.dot(parameters['W2'].T, A1) + parameters['b2']\n",
    "        Z2 = self.forward_item(A1, parameters['W2'], parameters['b2'])\n",
    "        A2 = sigmoid(Z2)\n",
    "        \n",
    "        # 更新self.A (除了A0外)\n",
    "        self.A['A1'] = A1\n",
    "        self.A['A2'] = A2\n",
    "        \n",
    "    def cost_function (self):\n",
    "        y, A2 = self.y, self.A['A2']\n",
    "        loss = -y * np.log(A2) - (1 - y) * np.log(1 - A2) # (1, 209)\n",
    "        m = loss.shape[1]\n",
    "        self.J = (1 / m) * np.sum(loss) \n",
    "        \n",
    "    def get_dJ_dZ (self, key, dJ_dZ_next, A, W_next):\n",
    "        if key == 'relu':\n",
    "            dJ_dA = np.dot(W_next, dJ_dZ_next)\n",
    "            dA_dZ = ReLU_derivative(A)\n",
    "            dJ_dZ = dJ_dA * dA_dZ\n",
    "            return dJ_dZ\n",
    "        \n",
    "    def backward_item (self, dJ_dZ, A_prev, m):\n",
    "        dJ_dW = (1 / m) * np.dot(A_prev, dJ_dZ.T)\n",
    "        dJ_db = (1 / m) * np.sum(dJ_dZ, axis = 1, keepdims = True)\n",
    "        return dJ_dW, dJ_db\n",
    "        \n",
    "    def backward_propagation (self):\n",
    "        J = self.J\n",
    "        y = self.y\n",
    "        parameters = self.parameters\n",
    "        A = self.A\n",
    "        \n",
    "        m = A['A1'].shape[1] # 209\n",
    "\n",
    "        \"\"\"\n",
    "        # dJ_dA2 = -y / A2 + (1 - y) / (1 - A2) # (1, 209)\n",
    "        # dA2_dZ2 = sigmoid_derivative(A2) # (1, 209)\n",
    "        # dJ_dZ2 = dJ_dA2 * dA2_dZ2\n",
    "        OR\n",
    "        # dJ_dZ2 = A2 - y \n",
    "        \"\"\"\n",
    "        # ===== Layer2 =====\n",
    "        dJ_dZ2 = A['A2'] - y # (1, 209)\n",
    "        \"\"\"\n",
    "        # dJ_dW2 = (1 / m) * np.dot(A['A1'], dJ_dZ2.T) # (7, 209) * (1, 209).T = (7, 1)\n",
    "        # dJ_db2 = (1 / m) * np.sum(dJ_dZ2, axis = 1, keepdims = True) # (1, 1)\n",
    "        \"\"\"\n",
    "        dJ_2 = self.backward_item(dJ_dZ2, A['A1'], m)\n",
    "\n",
    "        self.dJ_dW_db['dJ_dZ2'] = dJ_dZ2\n",
    "        self.dJ_dW_db['dJ_dW2'] = dJ_2[0]\n",
    "        self.dJ_dW_db['dJ_db2'] = dJ_2[1]\n",
    "        \n",
    "        \n",
    "        # ===== Layer1 =====\n",
    "        \"\"\"\n",
    "        # dJ_dA1 = np.dot(parameters['W2'], dJ_dZ2) # (7, 209)\n",
    "        # dA1_dZ1 = ReLU_derivative(A['A1']) # (7, 209)\n",
    "        # dJ_dZ1 = dJ_dA1 * dA1_dZ1 # (7, 209)\n",
    "        \"\"\"\n",
    "        dJ_dZ1 = self.get_dJ_dZ ('relu', dJ_dZ2, A['A1'], parameters['W2'])\n",
    "        \"\"\"\n",
    "        # dJ_dW1 = (1 / m) * np.dot(A['A0'], dJ_dZ1.T) # (12288, 7)\n",
    "        # dJ_db1 = (1 / m) * np.sum(dJ_dZ1, axis = 1, keepdims = True) # (7, 1)\n",
    "        \"\"\"\n",
    "        dJ_1 = self.backward_item(dJ_dZ1, A['A0'], m)\n",
    "        self.dJ_dW_db['dJ_dZ1'] = dJ_dZ1\n",
    "        self.dJ_dW_db['dJ_dW1'] = dJ_1[0]\n",
    "        self.dJ_dW_db['dJ_db1'] = dJ_1[1]\n",
    "        # print(self.dJ_dW_db)\n",
    "        \n",
    "    def train (self):\n",
    "        alpha = self.hyperparameters['alpha']\n",
    "        J_arr = []\n",
    "        for i in range(self.hyperparameters['iterations']):\n",
    "            self.forward_propagation()\n",
    "            self.cost_function()\n",
    "            if (i % 100 == 0):\n",
    "                J_arr.append(self.J)\n",
    "\n",
    "            self.backward_propagation()\n",
    "\n",
    "            self.parameters['W2'] -= alpha * self.dJ_dW_db['dJ_dW2']\n",
    "            self.parameters['b2'] -= alpha * self.dJ_dW_db['dJ_db2']\n",
    "            \n",
    "            self.parameters['W1'] -= alpha * self.dJ_dW_db['dJ_dW1']\n",
    "            self.parameters['b1'] -= alpha * self.dJ_dW_db['dJ_db1']\n",
    "            \n",
    "        NN.cost_function()\n",
    "        # print('A值: ', self.A)\n",
    "        print('代价函数值: ', self.J)\n",
    "        \n",
    "        return J_arr\n",
    "    \n",
    "    def plot_J (self, J_arr):\n",
    "        plt.plot(np.squeeze(J_arr))\n",
    "        plt.ylabel('cost')\n",
    "        plt.xlabel('iterations (per tens)')\n",
    "        plt.title(\"Learning rate =\" + str(self.hyperparameters['alpha']))\n",
    "        plt.show()\n",
    "        \n",
    "    def predict (self):\n",
    "        self.forward_propagation()\n",
    "        A2 = self.A['A2']\n",
    "        predictions = np.round(A2)\n",
    "        \n",
    "        m = A2.shape[1]\n",
    "        # print(predictions)\n",
    "        accuracy = (1 - (1 / m) * np.sum(abs(predictions - self.y))) * 100\n",
    "        print('训练精确度: ', accuracy)\n",
    "        \n",
    "    def CV (self, X_test, y_test):\n",
    "        parameters = self.parameters\n",
    "        Z1_test = self.forward_item(X_test, parameters['W1'], parameters['b1'])\n",
    "        A1_test = ReLU(Z1_test)\n",
    "\n",
    "        Z2_test = self.forward_item(A1_test, parameters['W2'], parameters['b2'])\n",
    "        A2_test = sigmoid(Z2_test)\n",
    "        \n",
    "        y_test_predict = np.round(A2_test)\n",
    "        m = A2_test.shape[1]\n",
    "        accuracy = (1 - (1 / m) * np.sum(abs(y_test_predict - y_test))) * 100\n",
    "        print('测试精确度: ', accuracy)\n",
    "        \n",
    "    def start (self):\n",
    "        J_arr = self.train()\n",
    "        self.plot_J(J_arr)\n"
   ]
  },
  {
   "cell_type": "code",
   "execution_count": 63,
   "metadata": {},
   "outputs": [
    {
     "name": "stdout",
     "output_type": "stream",
     "text": [
      "代价函数值:  0.020810850795617356\n"
     ]
    },
    {
     "data": {
      "image/png": "[encoded data removed]",
      "text/plain": [
       "<Figure size 432x288 with 1 Axes>"
      ]
     },
     "metadata": {
      "needs_background": "light"
     },
     "output_type": "display_data"
    }
   ],
   "source": [
    "input_n = X_train_flatten.shape[0]\n",
    "hidden_n = 7\n",
    "output_n = 1\n",
    "Layers = np.array([input_n, hidden_n, output_n])\n",
    "\n",
    "# 运行\n",
    "NN = TwoLayerNN(Layers, X_train_flatten, train_y)\n",
    "NN.start()"
   ]
  },
  {
   "cell_type": "code",
   "execution_count": 64,
   "metadata": {},
   "outputs": [
    {
     "name": "stdout",
     "output_type": "stream",
     "text": [
      "训练精确度:  100.0\n",
      "测试精确度:  68.0\n"
     ]
    }
   ],
   "source": [
    "NN.predict()\n",
    "NN.CV(X_test_flatten, test_y)"
   ]
  },
  {
   "cell_type": "code",
   "execution_count": null,
   "metadata": {},
   "outputs": [],
   "source": []
  },
  {
   "cell_type": "code",
   "execution_count": null,
   "metadata": {},
   "outputs": [],
   "source": []
  }
 ],
 "metadata": {
  "kernelspec": {
   "display_name": "Python 3",
   "language": "python",
   "name": "python3"
  },
  "language_info": {
   "codemirror_mode": {
    "name": "ipython",
    "version": 3
   },
   "file_extension": ".py",
   "mimetype": "text/x-python",
   "name": "python",
   "nbconvert_exporter": "python",
   "pygments_lexer": "ipython3",
   "version": "3.7.5"
  }
 },
 "nbformat": 4,
 "nbformat_minor": 4
}
