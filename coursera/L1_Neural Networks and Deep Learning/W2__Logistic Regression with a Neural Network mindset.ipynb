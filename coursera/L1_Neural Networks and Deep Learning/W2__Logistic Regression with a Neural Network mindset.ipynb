{
 "cells": [
  {
   "cell_type": "markdown",
   "metadata": {},
   "source": [
    "#  1 - Overview: build NN to recognize cats\n",
    "\n",
    "1. Build the general **architecture** of a learning algorithm, including:\n",
    "- Initializing parameters\n",
    "- Calculating the cost function and its gradient\n",
    "- Using an optimization algorithm (gradient descent)\n",
    "   \n",
    "2. Gather all three functions above into a main model function, in the right order."
   ]
  },
  {
   "cell_type": "code",
   "execution_count": 1,
   "metadata": {},
   "outputs": [],
   "source": [
    "import numpy as np\n",
    "\n",
    "import matplotlib.pyplot as plt\n",
    "import h5py\n",
    "import scipy\n",
    "from PIL import Image\n",
    "import imageio\n",
    "\n",
    "%matplotlib inline"
   ]
  },
  {
   "cell_type": "markdown",
   "metadata": {},
   "source": [
    "# 2 - Load dataset\n",
    "\n",
    "- y = 0 or 1\n",
    "- every image of shape is (num_px, num_px, 3) (height, width, RGB)\n",
    "\n",
    "## 2.1 def load_dataset()"
   ]
  },
  {
   "cell_type": "code",
   "execution_count": 14,
   "metadata": {
    "scrolled": true
   },
   "outputs": [],
   "source": [
    "# Loading the data\n",
    "def load_dataset():  \n",
    "    train_dataset = h5py.File('data/train_catvnoncat.h5', \"r\")\n",
    "    # 209 samples, 64 * 64 pixels\n",
    "    train_X = np.array(train_dataset[\"train_set_x\"][:]) # (209, 64, 64, 3) \n",
    "    train_y = np.array(train_dataset[\"train_set_y\"][:]) # (209,)\n",
    "  \n",
    "    test_dataset = h5py.File('data/test_catvnoncat.h5', \"r\")  \n",
    "    # 50 samples\n",
    "    test_X = np.array(test_dataset[\"test_set_x\"][:]) # (50, 64, 64, 3)\n",
    "    test_y = np.array(test_dataset[\"test_set_y\"][:]) # (50,)\n",
    "  \n",
    "    # label\n",
    "    classes = np.array(test_dataset[\"list_classes\"][:]) # [b'non-cat' b'cat'] \n",
    "    \n",
    "    # y = [...] => y = [[...]]\n",
    "    train_y = np.array([train_y]) # train_y = train_y.reshape((1, train_y.shape[0]))\n",
    "    test_y = np.array([test_y]) # test_y = test_y.reshape((1, test_y.shape[0])) \n",
    "    \n",
    "    return train_X, train_y, test_X, test_y, classes"
   ]
  },
  {
   "cell_type": "code",
   "execution_count": 15,
   "metadata": {},
   "outputs": [],
   "source": [
    "train_X, train_y, test_X, test_y, classes = load_dataset()"
   ]
  },
  {
   "cell_type": "markdown",
   "metadata": {},
   "source": [
    "## 2.2 - Show Image\n",
    "\n",
    "- plt.imshow()"
   ]
  },
  {
   "cell_type": "code",
   "execution_count": 16,
   "metadata": {
    "scrolled": false
   },
   "outputs": [
    {
     "name": "stdout",
     "output_type": "stream",
     "text": [
      "y =  1\n"
     ]
    },
    {
     "data": {
      "image/png": "[encoded data removed]",
      "text/plain": [
       "<Figure size 432x288 with 1 Axes>"
      ]
     },
     "metadata": {
      "needs_background": "light"
     },
     "output_type": "display_data"
    }
   ],
   "source": [
    "index = 29\n",
    "plt.imshow(train_X[index]) # first image\n",
    "print('y = ', train_y[0][index]) # is cat = 1"
   ]
  },
  {
   "cell_type": "markdown",
   "metadata": {},
   "source": [
    "# 3 - Standardize dataset\n",
    "\n",
    "## 3.1 - Reshape datasets"
   ]
  },
  {
   "cell_type": "code",
   "execution_count": 17,
   "metadata": {},
   "outputs": [],
   "source": [
    "\"\"\"\n",
    "flatten dataset\n",
    "  train_X (209, 64, 64, 3)\n",
    "  一个样本图片: 64 * 64 * 3, 需要拍平 (64 * 64 * 3) * 1 vector\n",
    "\"\"\"\n",
    "\n",
    "# flatten a matrix X of shape (a,b,c,d) to a matrix X_flatten of shape (b*c*d, a) is to use\n",
    "\n",
    "# (12288, 209) 一行 一个样本数据 209个样本数据\n",
    "train_set_flatten = train_X.reshape(train_X.shape[0], -1).T \n",
    "test_set_flatten = test_X.reshape(test_X.shape[0], -1).T\n"
   ]
  },
  {
   "cell_type": "markdown",
   "metadata": {},
   "source": [
    "## 3.2 - \"Standardize\" the data\n",
    "\n",
    "### `Mean normalization 均值归一化处理`"
   ]
  },
  {
   "cell_type": "code",
   "execution_count": 18,
   "metadata": {},
   "outputs": [
    {
     "name": "stdout",
     "output_type": "stream",
     "text": [
      "(12288, 50)\n"
     ]
    }
   ],
   "source": [
    "\"\"\"\n",
    "RGB: 取值范围为 0~255\n",
    "X数据需要 / 255\n",
    "\"\"\"\n",
    "# (12288, 209)\n",
    "train_set_flatten = train_set_flatten / 255\n",
    "# (12288, 50)\n",
    "test_set_flatten = test_set_flatten / 255\n",
    "print(test_set_flatten.shape)"
   ]
  },
  {
   "cell_type": "markdown",
   "metadata": {},
   "source": [
    "# 4 - Neural Network\n",
    "\n",
    "$z = w^T * x + b$\n",
    "\n",
    "$a = sigma(z) / ReLU(z) / tanh(z)$\n",
    "\n",
    "$L(a, y) = -ylog(a) - (1-y)log(1-a)$\n",
    "\n",
    "$J = 1/m * \\sum(L(a, y))$"
   ]
  },
  {
   "cell_type": "markdown",
   "metadata": {},
   "source": [
    "## 4.1 - Helper functions\n",
    "\n",
    "- sigmoid function\n",
    "- tanh function\n",
    "- ReLU function"
   ]
  },
  {
   "cell_type": "code",
   "execution_count": 54,
   "metadata": {},
   "outputs": [],
   "source": [
    "# Sigmoid\n",
    "# RuntimeWarning: overflow encountered in exp \n",
    "def sigmoid (z):\n",
    "    return 1 / ( 1 + np.exp(-z))\n",
    "\n",
    "# Sigmoid Derivatives\n",
    "def sigmoid_derivatives (a):\n",
    "    return a * (1 - a)"
   ]
  },
  {
   "cell_type": "markdown",
   "metadata": {},
   "source": [
    "## 4.2 - Initializing parameters\n",
    "\n",
    "train_set_flatten => (12288, 209)\n",
    "\n",
    "features = 12288\n",
    "no. of samples = 209\n",
    "\n",
    "#### `一列为一组数据`\n",
    "#### `bias 初始化值选取一定要是0, 选择随机数的话, 和预测差距会很大`\n"
   ]
  },
  {
   "cell_type": "code",
   "execution_count": 55,
   "metadata": {},
   "outputs": [],
   "source": [
    "def initialize_parameters (input_n, output_n):\n",
    "    # input_n: 输入个数, output_n 输出个数\n",
    "    # 一列为一组数据\n",
    "    W = np.zeros(shape=(input_n, 1))\n",
    "    # W = np.random.randn(input_n, output_n)\n",
    "    \n",
    "    # 如果将b设置为随机数的话, 最后的值, 变化非常的大, 效果非常的不好。\n",
    "    # b = np.zeros((output_n, 1))\n",
    "    b = 0\n",
    "    \n",
    "    return W, b"
   ]
  },
  {
   "cell_type": "markdown",
   "metadata": {},
   "source": [
    "## 4.3 - Forward Propagation\n",
    "\n",
    "$z = w^T * x + b$\n",
    "\n",
    "$a = sigma(z) / ReLU(z) / tanh(z)$\n"
   ]
  },
  {
   "cell_type": "code",
   "execution_count": 56,
   "metadata": {},
   "outputs": [],
   "source": [
    "def forward_propagation (W, b, X):\n",
    "    # W, B: 一列为一组数据\n",
    "    Z = np.dot(W.T, X) + b\n",
    "    A = sigmoid(Z)\n",
    "    return A\n",
    "\n",
    "# W = np.random.randn(3, 2)  # input_n = 3(Layer1), output_n = 2 (Layer2)\n",
    "# X = np.random.randn(3, 10) # 10 samples, 3 feautures\n",
    "# b = np.random.randn(2, 1)  # output_n = 2\n",
    "# Z: 2 * 10 (Layer2: 2 nodes, 10 samples)\n",
    "\n",
    "# forward_propagation(W, b, X)"
   ]
  },
  {
   "cell_type": "markdown",
   "metadata": {},
   "source": [
    "##  4.4 - Cost Function\n",
    "\n",
    "$L(a, y) = -ylog(a) - (1-y)log(1-a)$\n",
    "\n",
    "损失函数的总数: $J = 1/m * \\sum(L(a, y))$\n",
    "\n",
    "`不要忘记 1/m * sum(L) 是均值`\n",
    "\n",
    "`数据如果没有归一化处理, 则算出来的J, 有可能是负数哦😯!!!`"
   ]
  },
  {
   "cell_type": "code",
   "execution_count": 57,
   "metadata": {},
   "outputs": [],
   "source": [
    "def loss_function (y, a):\n",
    "    # one sample\n",
    "    return -y * np.log(a) - (1 - y) * np.log(1 - a)\n",
    "\n",
    "def Loss_Fn (Y, A):\n",
    "    # all samples (1, 209)\n",
    "    m = Y.shape[1]\n",
    "    \n",
    "    # log(0)会遇到报错情况\n",
    "    epsilon = 1e-5\n",
    "    J = (1 / m) * np.sum(-Y * np.log(A + epsilon) - (1 - Y) * np.log(1 - A + epsilon))\n",
    "    return J"
   ]
  },
  {
   "cell_type": "markdown",
   "metadata": {},
   "source": [
    "## 4.5 - Backward Propagation\n",
    "\n",
    "$dl / da = - y / a - (1 - y) / (1 - a)$\n",
    "\n",
    "$da / dz = a(1 - a)$\n",
    "\n",
    "$dl / dz = a - y$ \n",
    "=> $dL / dZ = (1/m) * np.sum(A - Y)$\n",
    "\n",
    "$dL / dB = dL / dZ = A - Y$ \n",
    "$dL / dW = W.T * (A - Y)$ "
   ]
  },
  {
   "cell_type": "code",
   "execution_count": 58,
   "metadata": {},
   "outputs": [],
   "source": [
    "def backward_propagation (Y, A, X):\n",
    "    # eg: A: 1 * m, Y: 1 * m X: 3 * m\n",
    "    m = A.shape[1]\n",
    "    dL_dZ = A - Y\n",
    "\n",
    "    dL_dW = (1 / m) * np.dot(X, (A - Y).T)\n",
    "    dL_dB = (1 / m) * np.sum(A - Y)\n",
    "    \n",
    "    return dL_dW, dL_dB"
   ]
  },
  {
   "cell_type": "markdown",
   "metadata": {},
   "source": [
    "# 4.6 - train\n",
    "\n",
    "steps:\n",
    "1. Initializing parameters\n",
    "2. Forward Propagation\n",
    "3. Backward Propagation\n",
    "4. iterations: 2,3,4\n",
    "\n",
    "hyperparameters:\n",
    "1. learning rate\n",
    "2. activation function\n",
    "3. numbers in each layer: $n^{[l]}$\n",
    "4. Layers: L"
   ]
  },
  {
   "cell_type": "code",
   "execution_count": 59,
   "metadata": {},
   "outputs": [],
   "source": [
    "def train (X, Y, alpha, iterations):\n",
    "    # test data\n",
    "    \"\"\"\n",
    "    input_nums = 3\n",
    "    output_nums = 1\n",
    "    X = np.ones((3, 10))\n",
    "    Y = np.ones((1, 10))\n",
    "    \"\"\"\n",
    "    \n",
    "#     X = train_set_flatten # (12288, 209)\n",
    "#     Y = train_y # (1, 209)\n",
    "\n",
    "    input_nums = X.shape[0]\n",
    "    output_nums = 1\n",
    "    \n",
    "    # hyperparameters\n",
    "#     alpha = 0.005\n",
    "#     iterations = 2000\n",
    "\n",
    "    # 1.Initializing parameters\n",
    "    W, b = initialize_parameters(input_nums, output_nums)\n",
    "    J_arr = []\n",
    "\n",
    "    # 4. iterations: 2,3,4\n",
    "    for i in range(iterations):\n",
    "        # 2. Forward Propagation\n",
    "        A = forward_propagation(W, b, X)\n",
    "        \n",
    "        if i % 100 == 0:\n",
    "            J = Loss_Fn(Y, A)\n",
    "            J_arr.append(J)\n",
    "        \n",
    "\n",
    "        # 3. Backward Propagation\n",
    "        dL_dW, dL_dB = backward_propagation(Y, A, X)\n",
    "        W -= alpha * dL_dW\n",
    "        b -= alpha * dL_dB\n",
    "        \n",
    "    return W, b, J_arr"
   ]
  },
  {
   "cell_type": "code",
   "execution_count": 60,
   "metadata": {
    "scrolled": true
   },
   "outputs": [
    {
     "name": "stdout",
     "output_type": "stream",
     "text": [
      "W: [[ 0.01145158]\n",
      " [-0.03137457]\n",
      " [-0.01433205]\n",
      " ...\n",
      " [-0.0132699 ]\n",
      " [-0.03381492]\n",
      " [ 0.02868737]]\n",
      "b: -0.01057814373393686\n",
      "Cost Function: 0.10554312800048493\n"
     ]
    }
   ],
   "source": [
    "X = train_set_flatten # (12288, 209)\n",
    "Y = train_y # (1, 209)\n",
    "alpha = 0.007\n",
    "iterations = 2000\n",
    "\n",
    "W, b, J_arr = train(X, Y, alpha, iterations)\n",
    "\n",
    "print('W:', W)\n",
    "print('b:', b)\n",
    "print('Cost Function:', J_arr[-1])\n"
   ]
  },
  {
   "cell_type": "code",
   "execution_count": 61,
   "metadata": {},
   "outputs": [
    {
     "data": {
      "image/png": "[encoded data removed]",
      "text/plain": [
       "<Figure size 432x288 with 1 Axes>"
      ]
     },
     "metadata": {
      "needs_background": "light"
     },
     "output_type": "display_data"
    }
   ],
   "source": [
    "plt.plot(J_arr)\n",
    "plt.ylabel('cost')\n",
    "plt.xlabel('iterations (per hundreds)')\n",
    "plt.title(\"Learning rate - Interations =\" + str(alpha) + '---' +str(iterations))\n",
    "plt.show()"
   ]
  },
  {
   "cell_type": "markdown",
   "metadata": {},
   "source": [
    "# 4.7 - predict\n",
    "\n",
    "- test set\n",
    "- predict test accuracy"
   ]
  },
  {
   "cell_type": "code",
   "execution_count": 62,
   "metadata": {},
   "outputs": [
    {
     "name": "stdout",
     "output_type": "stream",
     "text": [
      "train accuracy: {} % 99.52153110047847\n",
      "test accuracy: {} % 68.0\n"
     ]
    }
   ],
   "source": [
    "def predict (W, b, X, Y):\n",
    "    A = forward_propagation(W, b, X)\n",
    "    m = A.shape[1]\n",
    "    Y_prediction = np.zeros((1, m))\n",
    "    for i in range(m):\n",
    "        Y_prediction[0, i] =  1 if A[0, i] > 0.5 else 0\n",
    "    return Y_prediction\n",
    "\n",
    "Y_prediction_train = predict(W, b, X, Y)\n",
    "Y_prediction_test = predict(W, b, test_set_flatten, test_y)\n",
    "\n",
    "\n",
    "# train set 精确度预测\n",
    "train_accuracy = (1 - np.mean(abs(Y_prediction_train - Y))) * 100\n",
    "print('train accuracy: {} %', format(train_accuracy))\n",
    "\n",
    "\n",
    "# test set 精确度预测\n",
    "test_accuracy = (1 - np.mean(abs(Y_prediction_test - test_y))) * 100\n",
    "print('test accuracy: {} %', format(test_accuracy))"
   ]
  },
  {
   "cell_type": "markdown",
   "metadata": {},
   "source": [
    "\n",
    "# 4.8 验证某一张图片\n",
    "\n",
    "某张 test_set 数据, 验证是否满足预测条件"
   ]
  },
  {
   "cell_type": "code",
   "execution_count": 63,
   "metadata": {},
   "outputs": [
    {
     "name": "stdout",
     "output_type": "stream",
     "text": [
      "test label: 1\n",
      "test prediction: 1.0\n"
     ]
    },
    {
     "data": {
      "image/png": "[encoded data removed]",
      "text/plain": [
       "<Figure size 432x288 with 1 Axes>"
      ]
     },
     "metadata": {
      "needs_background": "light"
     },
     "output_type": "display_data"
    }
   ],
   "source": [
    "index = 23\n",
    "\n",
    "# (12288, 50)\n",
    "data = test_set_flatten[:, index]\n",
    "image = data.reshape(64, 64, 3)\n",
    "plt.imshow(image)\n",
    "\n",
    "print('test label:', test_y[0, index])\n",
    "\n",
    "print('test prediction:', Y_prediction_test[0, index])"
   ]
  },
  {
   "cell_type": "markdown",
   "metadata": {},
   "source": [
    "# 4.9 自己找张图片验证一哈"
   ]
  },
  {
   "cell_type": "code",
   "execution_count": 53,
   "metadata": {},
   "outputs": [
    {
     "ename": "FileNotFoundError",
     "evalue": "No such file: '/Users/linjiayu/Meituan/SELF_LEARN/Deep-Learning/coursera/[L1] Neural Networks and Deep Learning/data/cat.jpg'",
     "output_type": "error",
     "traceback": [
      "\u001b[0;31m---------------------------------------------------------------------------\u001b[0m",
      "\u001b[0;31mFileNotFoundError\u001b[0m                         Traceback (most recent call last)",
      "\u001b[0;32m<ipython-input-53-db0baff54efb>\u001b[0m in \u001b[0;36m<module>\u001b[0;34m\u001b[0m\n\u001b[0;32m----> 1\u001b[0;31m \u001b[0mimage\u001b[0m \u001b[0;34m=\u001b[0m \u001b[0mnp\u001b[0m\u001b[0;34m.\u001b[0m\u001b[0marray\u001b[0m\u001b[0;34m(\u001b[0m\u001b[0mimageio\u001b[0m\u001b[0;34m.\u001b[0m\u001b[0mimread\u001b[0m\u001b[0;34m(\u001b[0m\u001b[0;34m\"data/cat.jpg\"\u001b[0m\u001b[0;34m)\u001b[0m\u001b[0;34m)\u001b[0m\u001b[0;34m\u001b[0m\u001b[0;34m\u001b[0m\u001b[0m\n\u001b[0m\u001b[1;32m      2\u001b[0m \u001b[0;34m\u001b[0m\u001b[0m\n\u001b[1;32m      3\u001b[0m \u001b[0mplt\u001b[0m\u001b[0;34m.\u001b[0m\u001b[0mimshow\u001b[0m\u001b[0;34m(\u001b[0m\u001b[0mimage\u001b[0m\u001b[0;34m)\u001b[0m\u001b[0;34m\u001b[0m\u001b[0;34m\u001b[0m\u001b[0m\n",
      "\u001b[0;32m/usr/local/lib/python3.7/site-packages/imageio/core/functions.py\u001b[0m in \u001b[0;36mimread\u001b[0;34m(uri, format, **kwargs)\u001b[0m\n\u001b[1;32m    263\u001b[0m \u001b[0;34m\u001b[0m\u001b[0m\n\u001b[1;32m    264\u001b[0m     \u001b[0;31m# Get reader and read first\u001b[0m\u001b[0;34m\u001b[0m\u001b[0;34m\u001b[0m\u001b[0;34m\u001b[0m\u001b[0m\n\u001b[0;32m--> 265\u001b[0;31m     \u001b[0mreader\u001b[0m \u001b[0;34m=\u001b[0m \u001b[0mread\u001b[0m\u001b[0;34m(\u001b[0m\u001b[0muri\u001b[0m\u001b[0;34m,\u001b[0m \u001b[0mformat\u001b[0m\u001b[0;34m,\u001b[0m \u001b[0;34m\"i\"\u001b[0m\u001b[0;34m,\u001b[0m \u001b[0;34m**\u001b[0m\u001b[0mkwargs\u001b[0m\u001b[0;34m)\u001b[0m\u001b[0;34m\u001b[0m\u001b[0;34m\u001b[0m\u001b[0m\n\u001b[0m\u001b[1;32m    266\u001b[0m     \u001b[0;32mwith\u001b[0m \u001b[0mreader\u001b[0m\u001b[0;34m:\u001b[0m\u001b[0;34m\u001b[0m\u001b[0;34m\u001b[0m\u001b[0m\n\u001b[1;32m    267\u001b[0m         \u001b[0;32mreturn\u001b[0m \u001b[0mreader\u001b[0m\u001b[0;34m.\u001b[0m\u001b[0mget_data\u001b[0m\u001b[0;34m(\u001b[0m\u001b[0;36m0\u001b[0m\u001b[0;34m)\u001b[0m\u001b[0;34m\u001b[0m\u001b[0;34m\u001b[0m\u001b[0m\n",
      "\u001b[0;32m/usr/local/lib/python3.7/site-packages/imageio/core/functions.py\u001b[0m in \u001b[0;36mget_reader\u001b[0;34m(uri, format, mode, **kwargs)\u001b[0m\n\u001b[1;32m    170\u001b[0m \u001b[0;34m\u001b[0m\u001b[0m\n\u001b[1;32m    171\u001b[0m     \u001b[0;31m# Create request object\u001b[0m\u001b[0;34m\u001b[0m\u001b[0;34m\u001b[0m\u001b[0;34m\u001b[0m\u001b[0m\n\u001b[0;32m--> 172\u001b[0;31m     \u001b[0mrequest\u001b[0m \u001b[0;34m=\u001b[0m \u001b[0mRequest\u001b[0m\u001b[0;34m(\u001b[0m\u001b[0muri\u001b[0m\u001b[0;34m,\u001b[0m \u001b[0;34m\"r\"\u001b[0m \u001b[0;34m+\u001b[0m \u001b[0mmode\u001b[0m\u001b[0;34m,\u001b[0m \u001b[0;34m**\u001b[0m\u001b[0mkwargs\u001b[0m\u001b[0;34m)\u001b[0m\u001b[0;34m\u001b[0m\u001b[0;34m\u001b[0m\u001b[0m\n\u001b[0m\u001b[1;32m    173\u001b[0m \u001b[0;34m\u001b[0m\u001b[0m\n\u001b[1;32m    174\u001b[0m     \u001b[0;31m# Get format\u001b[0m\u001b[0;34m\u001b[0m\u001b[0;34m\u001b[0m\u001b[0;34m\u001b[0m\u001b[0m\n",
      "\u001b[0;32m/usr/local/lib/python3.7/site-packages/imageio/core/request.py\u001b[0m in \u001b[0;36m__init__\u001b[0;34m(self, uri, mode, **kwargs)\u001b[0m\n\u001b[1;32m    119\u001b[0m \u001b[0;34m\u001b[0m\u001b[0m\n\u001b[1;32m    120\u001b[0m         \u001b[0;31m# Parse what was given\u001b[0m\u001b[0;34m\u001b[0m\u001b[0;34m\u001b[0m\u001b[0;34m\u001b[0m\u001b[0m\n\u001b[0;32m--> 121\u001b[0;31m         \u001b[0mself\u001b[0m\u001b[0;34m.\u001b[0m\u001b[0m_parse_uri\u001b[0m\u001b[0;34m(\u001b[0m\u001b[0muri\u001b[0m\u001b[0;34m)\u001b[0m\u001b[0;34m\u001b[0m\u001b[0;34m\u001b[0m\u001b[0m\n\u001b[0m\u001b[1;32m    122\u001b[0m \u001b[0;34m\u001b[0m\u001b[0m\n\u001b[1;32m    123\u001b[0m         \u001b[0;31m# Set extension\u001b[0m\u001b[0;34m\u001b[0m\u001b[0;34m\u001b[0m\u001b[0;34m\u001b[0m\u001b[0m\n",
      "\u001b[0;32m/usr/local/lib/python3.7/site-packages/imageio/core/request.py\u001b[0m in \u001b[0;36m_parse_uri\u001b[0;34m(self, uri)\u001b[0m\n\u001b[1;32m    255\u001b[0m                 \u001b[0;31m# Reading: check that the file exists (but is allowed a dir)\u001b[0m\u001b[0;34m\u001b[0m\u001b[0;34m\u001b[0m\u001b[0;34m\u001b[0m\u001b[0m\n\u001b[1;32m    256\u001b[0m                 \u001b[0;32mif\u001b[0m \u001b[0;32mnot\u001b[0m \u001b[0mos\u001b[0m\u001b[0;34m.\u001b[0m\u001b[0mpath\u001b[0m\u001b[0;34m.\u001b[0m\u001b[0mexists\u001b[0m\u001b[0;34m(\u001b[0m\u001b[0mfn\u001b[0m\u001b[0;34m)\u001b[0m\u001b[0;34m:\u001b[0m\u001b[0;34m\u001b[0m\u001b[0;34m\u001b[0m\u001b[0m\n\u001b[0;32m--> 257\u001b[0;31m                     \u001b[0;32mraise\u001b[0m \u001b[0mFileNotFoundError\u001b[0m\u001b[0;34m(\u001b[0m\u001b[0;34m\"No such file: '%s'\"\u001b[0m \u001b[0;34m%\u001b[0m \u001b[0mfn\u001b[0m\u001b[0;34m)\u001b[0m\u001b[0;34m\u001b[0m\u001b[0;34m\u001b[0m\u001b[0m\n\u001b[0m\u001b[1;32m    258\u001b[0m             \u001b[0;32melse\u001b[0m\u001b[0;34m:\u001b[0m\u001b[0;34m\u001b[0m\u001b[0;34m\u001b[0m\u001b[0m\n\u001b[1;32m    259\u001b[0m                 \u001b[0;31m# Writing: check that the directory to write to does exist\u001b[0m\u001b[0;34m\u001b[0m\u001b[0;34m\u001b[0m\u001b[0;34m\u001b[0m\u001b[0m\n",
      "\u001b[0;31mFileNotFoundError\u001b[0m: No such file: '/Users/linjiayu/Meituan/SELF_LEARN/Deep-Learning/coursera/[L1] Neural Networks and Deep Learning/data/cat.jpg'"
     ]
    }
   ],
   "source": [
    "image = np.array(imageio.imread(\"data/cat.jpg\"))\n",
    "\n",
    "plt.imshow(image)"
   ]
  },
  {
   "cell_type": "code",
   "execution_count": 502,
   "metadata": {},
   "outputs": [],
   "source": [
    "# image.reshape(image.shape[0], -1).T \n",
    "image_flatten = image.flatten() / 255\n",
    "image_flatten = np.array([image_flatten]).T"
   ]
  },
  {
   "cell_type": "code",
   "execution_count": 504,
   "metadata": {
    "scrolled": true
   },
   "outputs": [
    {
     "name": "stdout",
     "output_type": "stream",
     "text": [
      "self-image prediction: [[1.]]\n"
     ]
    }
   ],
   "source": [
    "Y_prediction_self = predict(W, b, image_flatten, [[1]])\n",
    "print('self-image prediction:', Y_prediction_self)"
   ]
  }
 ],
 "metadata": {
  "kernelspec": {
   "display_name": "Python 3",
   "language": "python",
   "name": "python3"
  },
  "language_info": {
   "codemirror_mode": {
    "name": "ipython",
    "version": 3
   },
   "file_extension": ".py",
   "mimetype": "text/x-python",
   "name": "python",
   "nbconvert_exporter": "python",
   "pygments_lexer": "ipython3",
   "version": "3.7.5"
  }
 },
 "nbformat": 4,
 "nbformat_minor": 4
}
