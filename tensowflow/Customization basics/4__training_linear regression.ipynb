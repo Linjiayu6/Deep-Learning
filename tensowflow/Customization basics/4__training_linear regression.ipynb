{
 "cells": [
  {
   "cell_type": "code",
   "execution_count": 12,
   "metadata": {},
   "outputs": [],
   "source": [
    "import tensorflow as tf\n",
    "import matplotlib.pyplot as plt"
   ]
  },
  {
   "cell_type": "markdown",
   "metadata": {},
   "source": [
    "# 线性模型\n",
    "\n",
    "## 1- 建立模型"
   ]
  },
  {
   "cell_type": "code",
   "execution_count": 13,
   "metadata": {},
   "outputs": [
    {
     "data": {
      "text/plain": [
       "<tf.Tensor: shape=(), dtype=float32, numpy=31.0>"
      ]
     },
     "execution_count": 13,
     "metadata": {},
     "output_type": "execute_result"
    }
   ],
   "source": [
    "class Model(object):\n",
    "    def __init__(self):\n",
    "        self.W = tf.Variable(5.0)\n",
    "        self.b = tf.Variable(1.0)\n",
    "        \n",
    "    def __call__(self, x):\n",
    "        return self.W * x + self.b\n",
    "\n",
    "# 5 * 6 + 1 = 31\n",
    "Model()(6.0)    "
   ]
  },
  {
   "cell_type": "markdown",
   "metadata": {},
   "source": [
    "## 2- 损失函数"
   ]
  },
  {
   "cell_type": "code",
   "execution_count": 14,
   "metadata": {},
   "outputs": [],
   "source": [
    "def cost_function (y_predict, y_true):\n",
    "    # (y_pred - y_true)^2 的均值\n",
    "    # return np.mean(np.square(y_predict - y_true))\n",
    "    return tf.reduce_mean(tf.square(y_predict - y_true))"
   ]
  },
  {
   "cell_type": "code",
   "execution_count": 15,
   "metadata": {},
   "outputs": [],
   "source": [
    "def create_training_data ():\n",
    "    TRUE_W = 3.0\n",
    "    TRUE_b = 2.0\n",
    "    NUM_EXAMPLES = 1000\n",
    "    X = tf.random.normal(shape=(1, NUM_EXAMPLES))\n",
    "    noise = tf.random.normal(shape=(1, NUM_EXAMPLES))\n",
    "    \n",
    "    y = TRUE_W * X + TRUE_b + noise\n",
    "    return X, y\n",
    "\n",
    "X, y = create_training_data()"
   ]
  },
  {
   "cell_type": "markdown",
   "metadata": {},
   "source": [
    "## 3.1 - 训练 Model()(X)"
   ]
  },
  {
   "cell_type": "code",
   "execution_count": 22,
   "metadata": {},
   "outputs": [
    {
     "data": {
      "image/png": "[encoded data removed]",
      "text/plain": [
       "<Figure size 432x288 with 1 Axes>"
      ]
     },
     "metadata": {
      "needs_background": "light"
     },
     "output_type": "display_data"
    },
    {
     "name": "stdout",
     "output_type": "stream",
     "text": [
      "Loss 5.6452365\n"
     ]
    }
   ],
   "source": [
    "plt.scatter(X, y, c='b')\n",
    "\n",
    "plt.scatter(X, Model()(X), c='r')\n",
    "plt.show()\n",
    "\n",
    "print('Loss', cost_function(Model()(X), y).numpy())"
   ]
  },
  {
   "cell_type": "markdown",
   "metadata": {},
   "source": [
    "## 3.2 - 训练 自定义 梯度下降"
   ]
  },
  {
   "cell_type": "code",
   "execution_count": 40,
   "metadata": {},
   "outputs": [],
   "source": [
    "def train (model, alpha, iterations):\n",
    "    dW_list,db_list, J_arr = [], [], []\n",
    "    \n",
    "    for i in range(iterations):\n",
    "        # 绘图使用\n",
    "        dW_list.append(model.W.numpy())\n",
    "        db_list.append(model.b.numpy())\n",
    "\n",
    "        with tf.GradientTape() as t:\n",
    "            # 损失函数\n",
    "            y_pred = model(X)\n",
    "            J = cost_function(y_pred, y)\n",
    "            J_arr.append(J)\n",
    "        # 梯度下降\n",
    "        dW, db = t.gradient(J, [model.W, model.b])\n",
    "        # 更新w, b\n",
    "        model.W.assign_sub(alpha * dW)\n",
    "        model.b.assign_sub(alpha * db)\n",
    "    \n",
    "    TRUE_W = 3.0\n",
    "    TRUE_b = 2.0\n",
    "    num = range(iterations)\n",
    "    plt.plot(num, dW_list, 'r', \n",
    "             num, db_list, 'b')\n",
    "    plt.plot([TRUE_W] * len(num), 'r--',\n",
    "             [TRUE_b] * len(num), 'b--')\n",
    "    plt.legend(['W', 'b', 'true W', 'true_b'])\n",
    "    plt.show()"
   ]
  },
  {
   "cell_type": "code",
   "execution_count": 43,
   "metadata": {},
   "outputs": [
    {
     "data": {
      "image/png": "[encoded data removed]",
      "text/plain": [
       "<Figure size 432x288 with 1 Axes>"
      ]
     },
     "metadata": {
      "needs_background": "light"
     },
     "output_type": "display_data"
    }
   ],
   "source": [
    "model = Model()\n",
    "train(model, 0.1, 30)"
   ]
  },
  {
   "cell_type": "code",
   "execution_count": null,
   "metadata": {},
   "outputs": [],
   "source": []
  }
 ],
 "metadata": {
  "kernelspec": {
   "display_name": "Python 3",
   "language": "python",
   "name": "python3"
  },
  "language_info": {
   "codemirror_mode": {
    "name": "ipython",
    "version": 3
   },
   "file_extension": ".py",
   "mimetype": "text/x-python",
   "name": "python",
   "nbconvert_exporter": "python",
   "pygments_lexer": "ipython3",
   "version": "3.7.5"
  }
 },
 "nbformat": 4,
 "nbformat_minor": 4
}
