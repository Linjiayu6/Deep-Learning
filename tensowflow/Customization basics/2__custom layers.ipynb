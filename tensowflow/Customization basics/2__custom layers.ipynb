{
 "cells": [
  {
   "cell_type": "markdown",
   "metadata": {},
   "source": [
    "# Custom layers\n",
    "\n",
    "https://www.tensorflow.org/tutorials/customization/custom_layers?hl=zh-cn"
   ]
  },
  {
   "cell_type": "code",
   "execution_count": 14,
   "metadata": {},
   "outputs": [],
   "source": [
    "import tensorflow as tf\n",
    "import numpy as np"
   ]
  },
  {
   "cell_type": "code",
   "execution_count": 15,
   "metadata": {},
   "outputs": [
    {
     "data": {
      "text/plain": [
       "[<tf.Variable 'dense_4/kernel:0' shape=(5, 10) dtype=float32, numpy=\n",
       " array([[-0.46340942, -0.32280338, -0.4139951 ,  0.05660552,  0.29592973,\n",
       "         -0.00398701, -0.6172757 ,  0.44459242,  0.5556547 ,  0.33354574],\n",
       "        [-0.5881288 , -0.59036934,  0.43810004,  0.4255734 , -0.17224869,\n",
       "          0.19840717, -0.5046257 ,  0.3481874 ,  0.43461162, -0.08015603],\n",
       "        [ 0.05953455,  0.2839743 ,  0.3236127 ,  0.02185917, -0.6177372 ,\n",
       "          0.1360566 ,  0.44756788,  0.25701934, -0.06333959,  0.41434234],\n",
       "        [-0.16666168,  0.52988046,  0.24310571,  0.4959393 ,  0.32758838,\n",
       "          0.10460216,  0.5086042 , -0.30859134, -0.2254821 ,  0.07448804],\n",
       "        [-0.58719   , -0.39839232,  0.40907246, -0.57501256,  0.32011765,\n",
       "         -0.03681862, -0.44261426, -0.28693667, -0.197296  , -0.22395447]],\n",
       "       dtype=float32)>,\n",
       " <tf.Variable 'dense_4/bias:0' shape=(10,) dtype=float32, numpy=array([0., 0., 0., 0., 0., 0., 0., 0., 0., 0.], dtype=float32)>]"
      ]
     },
     "execution_count": 15,
     "metadata": {},
     "output_type": "execute_result"
    }
   ],
   "source": [
    "layer = tf.keras.layers.Dense(10, input_shape = (None, 5))\n",
    "layer(tf.zeros([10, 5]))\n",
    "\n",
    "layer.variables"
   ]
  },
  {
   "cell_type": "markdown",
   "metadata": {},
   "source": [
    "# 1 - Implementing custom layers\n",
    "\n",
    "1. __init__: 输出尺寸\n",
    "2. build: 输出尺寸 构建variables\n",
    "3. call: 计算"
   ]
  },
  {
   "cell_type": "code",
   "execution_count": 26,
   "metadata": {},
   "outputs": [
    {
     "name": "stdout",
     "output_type": "stream",
     "text": [
      "<tf.Variable 'W1:0' shape=(5, 10) dtype=float32, numpy=\n",
      "array([[-0.3006244 ,  0.24286067, -0.06778663, -0.22818363,  0.18563908,\n",
      "         0.33979702, -0.43345183,  0.3153758 , -0.3725623 , -0.01251489],\n",
      "       [ 0.07729918, -0.25222063,  0.46155745, -0.09175837, -0.61690104,\n",
      "        -0.5513991 ,  0.17976719,  0.33005708, -0.4531425 ,  0.27801853],\n",
      "       [-0.42627686,  0.04212564,  0.14017165,  0.4739794 , -0.1572313 ,\n",
      "         0.23219913,  0.3136781 , -0.4273758 ,  0.5927624 ,  0.1156351 ],\n",
      "       [-0.12049514, -0.5560143 , -0.09825587, -0.4765961 , -0.4772858 ,\n",
      "         0.6285381 ,  0.3615809 ,  0.00581867,  0.59887534,  0.10157686],\n",
      "       [-0.5388936 ,  0.04842037,  0.02156043, -0.47513977, -0.57341677,\n",
      "        -0.5081442 ,  0.6200896 , -0.5122481 ,  0.06652683,  0.3770637 ]],\n",
      "      dtype=float32)>\n"
     ]
    }
   ],
   "source": [
    "class MyDensLayer (tf.keras.layers.Layer):\n",
    "    # 输出数量\n",
    "    def __init__ (self, num_output):\n",
    "        super(MyDensLayer, self).__init__()\n",
    "        self.num_output = num_output\n",
    "    # 输入数量\n",
    "    def build (self, input_shape):\n",
    "        self.kernel = self.add_weight(name = 'W1', shape = [\n",
    "            input_shape, self.num_output\n",
    "        ])\n",
    "        print(self.kernel)\n",
    "        \n",
    "    def call (self, inputdata):\n",
    "        # 向前传播写在这里\n",
    "        return tf.matmul(inputdata, self.kernel)\n",
    "\n",
    "# 5 * 10 W1\n",
    "layer = MyDensLayer(10)\n",
    "layer.build(5)"
   ]
  },
  {
   "cell_type": "markdown",
   "metadata": {},
   "source": [
    "# 2 - Models: Composing layers"
   ]
  },
  {
   "cell_type": "code",
   "execution_count": 54,
   "metadata": {},
   "outputs": [],
   "source": [
    "class Model(tf.keras.Model):\n",
    "    def __init__ (self, output_size, filters):\n",
    "        super(Model, self).__init__(name = '')\n",
    "        f1, f2, f3 = filters\n",
    "        self.conv1 = tf.keras.layers.Conv2D(\n",
    "            filters = f1,\n",
    "            kernel_size = (1, 1),\n",
    "            strides=(1, 1), # 默认值\n",
    "            padding='valid' # 默认值\n",
    "        )\n",
    "        self.bn1 = tf.keras.layers.BatchNormalization()\n",
    "        \n",
    "        self.conv2 = tf.keras.layers.Conv2D(\n",
    "            filters = f2, \n",
    "            kernel_size = output_size, \n",
    "            padding = 'same'\n",
    "        )\n",
    "        self.bn2 = tf.keras.layers.BatchNormalization()\n",
    "        \n",
    "        self.conv3 = tf.keras.layers.Conv2D(\n",
    "            filters = f3, \n",
    "            kernel_size = (1, 1)\n",
    "        )\n",
    "        self.bn3 = tf.keras.layers.BatchNormalization()\n",
    "    \n",
    "    def call(self, X):\n",
    "        x = self.conv1(X)\n",
    "        x = self.bn1(x, training = True)\n",
    "        x = tf.nn.relu(x)\n",
    "        print('==== layer1 ====')\n",
    "        print(x)\n",
    "        \n",
    "        x = self.conv2(x)\n",
    "        x = self.bn2(x, training = True)\n",
    "        x = tf.nn.relu(x)\n",
    "        print('==== layer2 ====')\n",
    "        print(x)\n",
    "        \n",
    "        x = self.conv3(x)\n",
    "        x = self.bn3(x, training = True)\n",
    "        \n",
    "        print('==== layer3 ====')\n",
    "        x += X\n",
    "        print(x)\n",
    "        return tf.nn.relu(x)\n",
    "        "
   ]
  },
  {
   "cell_type": "code",
   "execution_count": 55,
   "metadata": {},
   "outputs": [
    {
     "name": "stdout",
     "output_type": "stream",
     "text": [
      "<__main__.Model object at 0x144bd3190>\n",
      "==== layer1 ====\n",
      "tf.Tensor(\n",
      "[[[[0.]\n",
      "   [0.]\n",
      "   [0.]]\n",
      "\n",
      "  [[0.]\n",
      "   [0.]\n",
      "   [0.]]]], shape=(1, 2, 3, 1), dtype=float32)\n",
      "==== layer2 ====\n",
      "tf.Tensor(\n",
      "[[[[0. 0.]\n",
      "   [0. 0.]\n",
      "   [0. 0.]]\n",
      "\n",
      "  [[0. 0.]\n",
      "   [0. 0.]\n",
      "   [0. 0.]]]], shape=(1, 2, 3, 2), dtype=float32)\n",
      "==== layer3 ====\n",
      "tf.Tensor(\n",
      "[[[[0. 0. 0.]\n",
      "   [0. 0. 0.]\n",
      "   [0. 0. 0.]]\n",
      "\n",
      "  [[0. 0. 0.]\n",
      "   [0. 0. 0.]\n",
      "   [0. 0. 0.]]]], shape=(1, 2, 3, 3), dtype=float32)\n"
     ]
    },
    {
     "data": {
      "text/plain": [
       "<tf.Tensor: shape=(1, 2, 3, 3), dtype=float32, numpy=\n",
       "array([[[[0., 0., 0.],\n",
       "         [0., 0., 0.],\n",
       "         [0., 0., 0.]],\n",
       "\n",
       "        [[0., 0., 0.],\n",
       "         [0., 0., 0.],\n",
       "         [0., 0., 0.]]]], dtype=float32)>"
      ]
     },
     "execution_count": 55,
     "metadata": {},
     "output_type": "execute_result"
    }
   ],
   "source": [
    "model = Model(1, [1, 2, 3])\n",
    "print(model)\n",
    "\n",
    "\n",
    "model(tf.zeros([1, 2, 3, 3]))"
   ]
  },
  {
   "cell_type": "code",
   "execution_count": 56,
   "metadata": {},
   "outputs": [
    {
     "data": {
      "text/plain": [
       "[<tensorflow.python.keras.layers.convolutional.Conv2D at 0x144bd3390>,\n",
       " <tensorflow.python.keras.layers.normalization_v2.BatchNormalization at 0x144bd3850>,\n",
       " <tensorflow.python.keras.layers.convolutional.Conv2D at 0x144bd3c50>,\n",
       " <tensorflow.python.keras.layers.normalization_v2.BatchNormalization at 0x144bec390>,\n",
       " <tensorflow.python.keras.layers.convolutional.Conv2D at 0x144bec6d0>,\n",
       " <tensorflow.python.keras.layers.normalization_v2.BatchNormalization at 0x144bece90>]"
      ]
     },
     "execution_count": 56,
     "metadata": {},
     "output_type": "execute_result"
    }
   ],
   "source": [
    "model.layers"
   ]
  },
  {
   "cell_type": "code",
   "execution_count": 57,
   "metadata": {},
   "outputs": [
    {
     "data": {
      "text/plain": [
       "[<tf.Variable 'model_16/conv2d_38/kernel:0' shape=(1, 1, 3, 1) dtype=float32, numpy=\n",
       " array([[[[-0.5119355 ],\n",
       "          [ 0.77279663],\n",
       "          [-0.45350415]]]], dtype=float32)>,\n",
       " <tf.Variable 'model_16/conv2d_38/bias:0' shape=(1,) dtype=float32, numpy=array([0.], dtype=float32)>,\n",
       " <tf.Variable 'model_16/batch_normalization_37/gamma:0' shape=(1,) dtype=float32, numpy=array([1.], dtype=float32)>,\n",
       " <tf.Variable 'model_16/batch_normalization_37/beta:0' shape=(1,) dtype=float32, numpy=array([0.], dtype=float32)>,\n",
       " <tf.Variable 'model_16/batch_normalization_37/moving_mean:0' shape=(1,) dtype=float32, numpy=array([0.], dtype=float32)>,\n",
       " <tf.Variable 'model_16/batch_normalization_37/moving_variance:0' shape=(1,) dtype=float32, numpy=array([0.99], dtype=float32)>,\n",
       " <tf.Variable 'model_16/conv2d_39/kernel:0' shape=(1, 1, 1, 2) dtype=float32, numpy=array([[[[ 0.82311165, -0.8558292 ]]]], dtype=float32)>,\n",
       " <tf.Variable 'model_16/conv2d_39/bias:0' shape=(2,) dtype=float32, numpy=array([0., 0.], dtype=float32)>,\n",
       " <tf.Variable 'model_16/batch_normalization_38/gamma:0' shape=(2,) dtype=float32, numpy=array([1., 1.], dtype=float32)>,\n",
       " <tf.Variable 'model_16/batch_normalization_38/beta:0' shape=(2,) dtype=float32, numpy=array([0., 0.], dtype=float32)>,\n",
       " <tf.Variable 'model_16/batch_normalization_38/moving_mean:0' shape=(2,) dtype=float32, numpy=array([0., 0.], dtype=float32)>,\n",
       " <tf.Variable 'model_16/batch_normalization_38/moving_variance:0' shape=(2,) dtype=float32, numpy=array([0.99, 0.99], dtype=float32)>,\n",
       " <tf.Variable 'model_16/conv2d_40/kernel:0' shape=(1, 1, 2, 3) dtype=float32, numpy=\n",
       " array([[[[ 0.98502827, -0.22880948,  0.80918014],\n",
       "          [ 0.34956634, -0.16540909, -0.82144   ]]]], dtype=float32)>,\n",
       " <tf.Variable 'model_16/conv2d_40/bias:0' shape=(3,) dtype=float32, numpy=array([0., 0., 0.], dtype=float32)>,\n",
       " <tf.Variable 'model_16/batch_normalization_39/gamma:0' shape=(3,) dtype=float32, numpy=array([1., 1., 1.], dtype=float32)>,\n",
       " <tf.Variable 'model_16/batch_normalization_39/beta:0' shape=(3,) dtype=float32, numpy=array([0., 0., 0.], dtype=float32)>,\n",
       " <tf.Variable 'model_16/batch_normalization_39/moving_mean:0' shape=(3,) dtype=float32, numpy=array([0., 0., 0.], dtype=float32)>,\n",
       " <tf.Variable 'model_16/batch_normalization_39/moving_variance:0' shape=(3,) dtype=float32, numpy=array([0.99, 0.99, 0.99], dtype=float32)>]"
      ]
     },
     "execution_count": 57,
     "metadata": {},
     "output_type": "execute_result"
    }
   ],
   "source": [
    "model.variables"
   ]
  },
  {
   "cell_type": "code",
   "execution_count": 58,
   "metadata": {},
   "outputs": [
    {
     "name": "stdout",
     "output_type": "stream",
     "text": [
      "Model: \"model_16\"\n",
      "_________________________________________________________________\n",
      "Layer (type)                 Output Shape              Param #   \n",
      "=================================================================\n",
      "conv2d_38 (Conv2D)           multiple                  4         \n",
      "_________________________________________________________________\n",
      "batch_normalization_37 (Batc multiple                  4         \n",
      "_________________________________________________________________\n",
      "conv2d_39 (Conv2D)           multiple                  4         \n",
      "_________________________________________________________________\n",
      "batch_normalization_38 (Batc multiple                  8         \n",
      "_________________________________________________________________\n",
      "conv2d_40 (Conv2D)           multiple                  9         \n",
      "_________________________________________________________________\n",
      "batch_normalization_39 (Batc multiple                  12        \n",
      "=================================================================\n",
      "Total params: 41\n",
      "Trainable params: 29\n",
      "Non-trainable params: 12\n",
      "_________________________________________________________________\n"
     ]
    }
   ],
   "source": [
    "model.summary()"
   ]
  },
  {
   "cell_type": "code",
   "execution_count": 61,
   "metadata": {},
   "outputs": [
    {
     "data": {
      "text/plain": [
       "<tf.Tensor: shape=(1, 2, 3, 3), dtype=float32, numpy=\n",
       "array([[[[0., 0., 0.],\n",
       "         [0., 0., 0.],\n",
       "         [0., 0., 0.]],\n",
       "\n",
       "        [[0., 0., 0.],\n",
       "         [0., 0., 0.],\n",
       "         [0., 0., 0.]]]], dtype=float32)>"
      ]
     },
     "execution_count": 61,
     "metadata": {},
     "output_type": "execute_result"
    }
   ],
   "source": [
    "my_seq = tf.keras.Sequential([tf.keras.layers.Conv2D(1, (1, 1),\n",
    "                                                    input_shape=(\n",
    "                                                        None, None, 3)),\n",
    "                             tf.keras.layers.BatchNormalization(),\n",
    "                             tf.keras.layers.Conv2D(2, 1,\n",
    "                                                    padding='same'),\n",
    "                             tf.keras.layers.BatchNormalization(),\n",
    "                             tf.keras.layers.Conv2D(3, (1, 1)),\n",
    "                             tf.keras.layers.BatchNormalization()])\n",
    "my_seq(tf.zeros([1, 2, 3, 3]))"
   ]
  },
  {
   "cell_type": "code",
   "execution_count": 62,
   "metadata": {},
   "outputs": [
    {
     "name": "stdout",
     "output_type": "stream",
     "text": [
      "Model: \"sequential_2\"\n",
      "_________________________________________________________________\n",
      "Layer (type)                 Output Shape              Param #   \n",
      "=================================================================\n",
      "conv2d_43 (Conv2D)           (None, None, None, 1)     4         \n",
      "_________________________________________________________________\n",
      "batch_normalization_40 (Batc (None, None, None, 1)     4         \n",
      "_________________________________________________________________\n",
      "conv2d_44 (Conv2D)           (None, None, None, 2)     4         \n",
      "_________________________________________________________________\n",
      "batch_normalization_41 (Batc (None, None, None, 2)     8         \n",
      "_________________________________________________________________\n",
      "conv2d_45 (Conv2D)           (None, None, None, 3)     9         \n",
      "_________________________________________________________________\n",
      "batch_normalization_42 (Batc (None, None, None, 3)     12        \n",
      "=================================================================\n",
      "Total params: 41\n",
      "Trainable params: 29\n",
      "Non-trainable params: 12\n",
      "_________________________________________________________________\n"
     ]
    }
   ],
   "source": [
    "my_seq.summary()"
   ]
  },
  {
   "cell_type": "code",
   "execution_count": null,
   "metadata": {},
   "outputs": [],
   "source": []
  }
 ],
 "metadata": {
  "kernelspec": {
   "display_name": "Python 3",
   "language": "python",
   "name": "python3"
  },
  "language_info": {
   "codemirror_mode": {
    "name": "ipython",
    "version": 3
   },
   "file_extension": ".py",
   "mimetype": "text/x-python",
   "name": "python",
   "nbconvert_exporter": "python",
   "pygments_lexer": "ipython3",
   "version": "3.7.5"
  }
 },
 "nbformat": 4,
 "nbformat_minor": 4
}
